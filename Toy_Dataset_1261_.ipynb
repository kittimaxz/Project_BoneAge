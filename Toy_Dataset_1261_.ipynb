{
  "nbformat": 4,
  "nbformat_minor": 0,
  "metadata": {
    "colab": {
      "name": "Toy Dataset.ipynb",
      "provenance": [],
      "include_colab_link": true
    },
    "kernelspec": {
      "name": "python3",
      "display_name": "Python 3"
    },
    "language_info": {
      "name": "python"
    }
  },
  "cells": [
    {
      "cell_type": "markdown",
      "metadata": {
        "id": "view-in-github",
        "colab_type": "text"
      },
      "source": [
        "<a href=\"https://colab.research.google.com/github/kittimaxz/Project_BoneAge/blob/main/Toy_Dataset_1261_.ipynb\" target=\"_parent\"><img src=\"https://colab.research.google.com/assets/colab-badge.svg\" alt=\"Open In Colab\"/></a>"
      ]
    },
    {
      "cell_type": "markdown",
      "source": [
        "# This notebook is an attempt to predict bone age using Xception(pre trained model)"
      ],
      "metadata": {
        "id": "p4K_R7LrEr9U"
      }
    },
    {
      "cell_type": "code",
      "execution_count": 1,
      "metadata": {
        "id": "KxvhBtiG1kzb"
      },
      "outputs": [],
      "source": [
        "# This Python 3 environment comes with many helpful analytics libraries installed\n",
        "# It is defined by the kaggle/python docker image: https://github.com/kaggle/docker-python\n",
        "# For example, here's several helpful packages to load in \n",
        "\n",
        "import numpy as np # linear algebra # เป็นการ import numpy เพื่อเปิดใช้ฟังก์ชันในการทำงาน\n",
        "import pandas as pd # data processing, CSV file I/O (e.g. pd.read_csv) # เป็น library ในการจัดการ dataframe\n",
        "import tensorflow as tf #library สำหรับสร้าง machine learning models แบบ open source จาก Google\n",
        "import datetime,os # datetime ใช้ในการจัด format ของวัน-เวลาให้อยู่ในรูปแบบที่ต้องการ \n",
        "import math # เรียกใช้ module เพื่อคำนวณค่าต่างๆ \n",
        "import matplotlib.pyplot as plt # เป็น module พื้นฐานที่ใช้ในการสร้างกราฟของ python\n",
        "import seaborn as sns # เป็นฟังก์ชันเสริมที่ใช้สร้างกราฟให้มีความสวยงามมากขึ้น\n",
        "from sklearn.model_selection import train_test_split # เป็น library ในการพัฒนาโปรแกรมโดยใช้การเรียนรู้ของเครื่อง"
      ]
    },
    {
      "cell_type": "code",
      "source": [
        "from google.colab import drive # เชื่อม drive ของเรา ถ้าเชื่อมสำเร็จจะขึ้นคำว่าMounted at /content/drive \n",
        "drive.mount('/content/drive')"
      ],
      "metadata": {
        "colab": {
          "base_uri": "https://localhost:8080/",
          "height": 329
        },
        "id": "aSLSDUgp91TF",
        "outputId": "2c413f40-cec8-4313-827d-c8c81ac09010"
      },
      "execution_count": 2,
      "outputs": [
        {
          "output_type": "error",
          "ename": "MessageError",
          "evalue": "ignored",
          "traceback": [
            "\u001b[0;31m---------------------------------------------------------------------------\u001b[0m",
            "\u001b[0;31mMessageError\u001b[0m                              Traceback (most recent call last)",
            "\u001b[0;32m<ipython-input-2-970103b22920>\u001b[0m in \u001b[0;36m<module>\u001b[0;34m\u001b[0m\n\u001b[1;32m      1\u001b[0m \u001b[0;32mfrom\u001b[0m \u001b[0mgoogle\u001b[0m\u001b[0;34m.\u001b[0m\u001b[0mcolab\u001b[0m \u001b[0;32mimport\u001b[0m \u001b[0mdrive\u001b[0m \u001b[0;31m# เชื่อม drive ของเรา ถ้าเชื่อมสำเร็จจะขึ้นคำว่าMounted at /content/drive\u001b[0m\u001b[0;34m\u001b[0m\u001b[0;34m\u001b[0m\u001b[0m\n\u001b[0;32m----> 2\u001b[0;31m \u001b[0mdrive\u001b[0m\u001b[0;34m.\u001b[0m\u001b[0mmount\u001b[0m\u001b[0;34m(\u001b[0m\u001b[0;34m'/content/drive'\u001b[0m\u001b[0;34m)\u001b[0m\u001b[0;34m\u001b[0m\u001b[0;34m\u001b[0m\u001b[0m\n\u001b[0m",
            "\u001b[0;32m/usr/local/lib/python3.7/dist-packages/google/colab/drive.py\u001b[0m in \u001b[0;36mmount\u001b[0;34m(mountpoint, force_remount, timeout_ms)\u001b[0m\n\u001b[1;32m    103\u001b[0m       \u001b[0mforce_remount\u001b[0m\u001b[0;34m=\u001b[0m\u001b[0mforce_remount\u001b[0m\u001b[0;34m,\u001b[0m\u001b[0;34m\u001b[0m\u001b[0;34m\u001b[0m\u001b[0m\n\u001b[1;32m    104\u001b[0m       \u001b[0mtimeout_ms\u001b[0m\u001b[0;34m=\u001b[0m\u001b[0mtimeout_ms\u001b[0m\u001b[0;34m,\u001b[0m\u001b[0;34m\u001b[0m\u001b[0;34m\u001b[0m\u001b[0m\n\u001b[0;32m--> 105\u001b[0;31m       ephemeral=True)\n\u001b[0m\u001b[1;32m    106\u001b[0m \u001b[0;34m\u001b[0m\u001b[0m\n\u001b[1;32m    107\u001b[0m \u001b[0;34m\u001b[0m\u001b[0m\n",
            "\u001b[0;32m/usr/local/lib/python3.7/dist-packages/google/colab/drive.py\u001b[0m in \u001b[0;36m_mount\u001b[0;34m(mountpoint, force_remount, timeout_ms, ephemeral)\u001b[0m\n\u001b[1;32m    118\u001b[0m   \u001b[0;32mif\u001b[0m \u001b[0mephemeral\u001b[0m\u001b[0;34m:\u001b[0m\u001b[0;34m\u001b[0m\u001b[0;34m\u001b[0m\u001b[0m\n\u001b[1;32m    119\u001b[0m     _message.blocking_request(\n\u001b[0;32m--> 120\u001b[0;31m         'request_auth', request={'authType': 'dfs_ephemeral'}, timeout_sec=None)\n\u001b[0m\u001b[1;32m    121\u001b[0m \u001b[0;34m\u001b[0m\u001b[0m\n\u001b[1;32m    122\u001b[0m   \u001b[0mmountpoint\u001b[0m \u001b[0;34m=\u001b[0m \u001b[0m_os\u001b[0m\u001b[0;34m.\u001b[0m\u001b[0mpath\u001b[0m\u001b[0;34m.\u001b[0m\u001b[0mexpanduser\u001b[0m\u001b[0;34m(\u001b[0m\u001b[0mmountpoint\u001b[0m\u001b[0;34m)\u001b[0m\u001b[0;34m\u001b[0m\u001b[0;34m\u001b[0m\u001b[0m\n",
            "\u001b[0;32m/usr/local/lib/python3.7/dist-packages/google/colab/_message.py\u001b[0m in \u001b[0;36mblocking_request\u001b[0;34m(request_type, request, timeout_sec, parent)\u001b[0m\n\u001b[1;32m    169\u001b[0m   request_id = send_request(\n\u001b[1;32m    170\u001b[0m       request_type, request, parent=parent, expect_reply=True)\n\u001b[0;32m--> 171\u001b[0;31m   \u001b[0;32mreturn\u001b[0m \u001b[0mread_reply_from_input\u001b[0m\u001b[0;34m(\u001b[0m\u001b[0mrequest_id\u001b[0m\u001b[0;34m,\u001b[0m \u001b[0mtimeout_sec\u001b[0m\u001b[0;34m)\u001b[0m\u001b[0;34m\u001b[0m\u001b[0;34m\u001b[0m\u001b[0m\n\u001b[0m",
            "\u001b[0;32m/usr/local/lib/python3.7/dist-packages/google/colab/_message.py\u001b[0m in \u001b[0;36mread_reply_from_input\u001b[0;34m(message_id, timeout_sec)\u001b[0m\n\u001b[1;32m    100\u001b[0m         reply.get('colab_msg_id') == message_id):\n\u001b[1;32m    101\u001b[0m       \u001b[0;32mif\u001b[0m \u001b[0;34m'error'\u001b[0m \u001b[0;32min\u001b[0m \u001b[0mreply\u001b[0m\u001b[0;34m:\u001b[0m\u001b[0;34m\u001b[0m\u001b[0;34m\u001b[0m\u001b[0m\n\u001b[0;32m--> 102\u001b[0;31m         \u001b[0;32mraise\u001b[0m \u001b[0mMessageError\u001b[0m\u001b[0;34m(\u001b[0m\u001b[0mreply\u001b[0m\u001b[0;34m[\u001b[0m\u001b[0;34m'error'\u001b[0m\u001b[0;34m]\u001b[0m\u001b[0;34m)\u001b[0m\u001b[0;34m\u001b[0m\u001b[0;34m\u001b[0m\u001b[0m\n\u001b[0m\u001b[1;32m    103\u001b[0m       \u001b[0;32mreturn\u001b[0m \u001b[0mreply\u001b[0m\u001b[0;34m.\u001b[0m\u001b[0mget\u001b[0m\u001b[0;34m(\u001b[0m\u001b[0;34m'data'\u001b[0m\u001b[0;34m,\u001b[0m \u001b[0;32mNone\u001b[0m\u001b[0;34m)\u001b[0m\u001b[0;34m\u001b[0m\u001b[0;34m\u001b[0m\u001b[0m\n\u001b[1;32m    104\u001b[0m \u001b[0;34m\u001b[0m\u001b[0m\n",
            "\u001b[0;31mMessageError\u001b[0m: Error: credential propagation was unsuccessful"
          ]
        }
      ]
    },
    {
      "cell_type": "code",
      "source": [
        "import os # os จัดการเกี่ยวกับไฟล์ต่างๆ ในโฟล์เดอร์"
      ],
      "metadata": {
        "id": "3_IMPAi393El"
      },
      "execution_count": null,
      "outputs": []
    },
    {
      "cell_type": "code",
      "source": [
        "path = '/content/drive/My Drive/Project_Boneage'  # ชี้ว่า data เราอยู่โฟล์เดอร์ไหน"
      ],
      "metadata": {
        "id": "OtDbpPvZ9_m-"
      },
      "execution_count": null,
      "outputs": []
    },
    {
      "cell_type": "markdown",
      "source": [
        "# ***Some Setup***\n",
        "\n",
        "The cell below creates the pandas dataframes for training and testing."
      ],
      "metadata": {
        "id": "O9SxhrDHEx0D"
      }
    },
    {
      "cell_type": "code",
      "source": [
        "#loading dataframes # เอาที่อยู่ของไฟล์เชื่อมกับที่อยู่ของไฟล์เรา โดยกำหนดชื่่อไฟล์ที่เราต้องการ\n",
        "train_path = os.path.join(path,'boneage-training-dataset_1261.csv')\n",
        "train_df = pd.read_csv(train_path)\n",
        "test_path = os.path.join(path,'boneage-test-dataset.csv')\n",
        "test_df = pd.read_csv(test_path)"
      ],
      "metadata": {
        "id": "YVRR2tOX10uf"
      },
      "execution_count": null,
      "outputs": []
    },
    {
      "cell_type": "code",
      "source": [
        "train_df # แสดง data 'train_df'"
      ],
      "metadata": {
        "id": "tVTXrOMf-Y0C"
      },
      "execution_count": null,
      "outputs": []
    },
    {
      "cell_type": "code",
      "source": [
        "test_df # แสดง data 'test_df'"
      ],
      "metadata": {
        "id": "T11TLpP5_-qK"
      },
      "execution_count": null,
      "outputs": []
    },
    {
      "cell_type": "code",
      "source": [
        "#appending file extension to id column for both training and testing dataframes\n",
        "# ต่อท้าย data ใน column 'id' ด้วย .png\n",
        "train_df['id'] = train_df['id'].apply(lambda x: str(x)+'.png') # ทำการเปลี่ยน type ใน column 'id' จาก int  เป็น string เพื่อให้สามารถต่อท้ายด้วย .png ได้ # ฟังก์ชันแลมบ์ดาเป็นฟังก์ชันที่ไม่ระบุตัวตนขนาดเล็ก\n",
        "test_df['Case ID'] = test_df['Case ID'].apply(lambda x: str(x)+'.png') \n",
        "\n",
        "train_df.head() # แสดงค่าของ train_df บางส่วน"
      ],
      "metadata": {
        "id": "2pgobS5d-YtN"
      },
      "execution_count": null,
      "outputs": []
    },
    {
      "cell_type": "markdown",
      "source": [
        "# Some EDA and feature engineering follow"
      ],
      "metadata": {
        "id": "BBkKH4u-E7dh"
      }
    },
    {
      "cell_type": "code",
      "source": [
        "#finding out the number of male and female children in the dataset\n",
        "#creating a new column called gender to keep the gender of the child as a string\n",
        "train_df['gender'] = train_df['male'].apply(lambda x: 'male' if x else 'female') # ทำการเปลี่ยนค่าข้อมูล gender จาก true -> male, false -> female \n",
        "train_df['gender']"
      ],
      "metadata": {
        "id": "Diis6p0rD7By"
      },
      "execution_count": null,
      "outputs": []
    },
    {
      "cell_type": "code",
      "source": [
        "print(train_df['gender'].value_counts()) #แสดงจำนวนเพศหญิงและเพศชายทั้งหมดใน trian_df"
      ],
      "metadata": {
        "id": "mGfLqjXjGPBV"
      },
      "execution_count": null,
      "outputs": []
    },
    {
      "cell_type": "code",
      "source": [
        "train_df.shape # ข้อมูลมีทั้งหมด 261 จากทั้งหมด 4 column"
      ],
      "metadata": {
        "id": "ZyCyI9z-HN79"
      },
      "execution_count": null,
      "outputs": []
    },
    {
      "cell_type": "code",
      "source": [
        "sns.countplot(x = train_df['gender']) # plot กราฟแสดงจำนวนเพศหญิงและเพศชายทั้งหมดใน trian_df"
      ],
      "metadata": {
        "id": "fFGaqsbgGQj5"
      },
      "execution_count": null,
      "outputs": []
    },
    {
      "cell_type": "code",
      "source": [
        "#oldest child in the dataset\n",
        "print('MAX age: ' + str(train_df['boneage'].max()) + ' months') # ทำการหาอายุที่มากที่สุด และทำการต่อท้ายด้วย months"
      ],
      "metadata": {
        "id": "CzWX5eA6Gc77"
      },
      "execution_count": null,
      "outputs": []
    },
    {
      "cell_type": "code",
      "source": [
        "#youngest child in the dataset\n",
        "print('MIN age: ' + str(train_df['boneage'].min()) + ' months')  # ทำการหาอายุที่น้อยที่สุด และทำการต่อท้ายด้วย months"
      ],
      "metadata": {
        "id": "-viMiQorJD5i"
      },
      "execution_count": null,
      "outputs": []
    },
    {
      "cell_type": "code",
      "source": [
        "#mean age is # หาค่าเฉลี่ยอายุกระดูก\n",
        "mean_bone_age = train_df['boneage'].mean() \n",
        "print('mean: ' + str(mean_bone_age))"
      ],
      "metadata": {
        "id": "Ve3-M2qtJgAM"
      },
      "execution_count": null,
      "outputs": []
    },
    {
      "cell_type": "code",
      "source": [
        "#median bone age # หาค่า median ของอายุกระดูก\n",
        "print('median: ' +str(train_df['boneage'].median()))"
      ],
      "metadata": {
        "id": "I3bIebqoJvQ5"
      },
      "execution_count": null,
      "outputs": []
    },
    {
      "cell_type": "code",
      "source": [
        "#standard deviation of boneage # หาค่าส่วนเบี่ยงเบนมาตรฐานของอายุกระดูก\n",
        "std_bone_age = train_df['boneage'].std()\n",
        "std_bone_age"
      ],
      "metadata": {
        "id": "9Epaba2cKWYc"
      },
      "execution_count": null,
      "outputs": []
    },
    {
      "cell_type": "code",
      "source": [
        "#models perform better when features are normalised to have zero mean and unity standard deviation\n",
        "#using z score for the training \n",
        "# ทำการหาค่า z-score \n",
        "train_df['bone_age_z'] = (train_df['boneage'] - mean_bone_age)/(std_bone_age)\n",
        "print(train_df.head())"
      ],
      "metadata": {
        "id": "CZdI06b8LIUR"
      },
      "execution_count": null,
      "outputs": []
    },
    {
      "cell_type": "code",
      "source": [
        "#plotting a histogram for bone ages # plot กราฟ เพื่อดูการกระจายของอายุกระดูก\n",
        "train_df['boneage'].hist(color = 'green')\n",
        "plt.xlabel('Age in months')\n",
        "plt.ylabel('Number of children')\n",
        "plt.title('Number of children in each age group')"
      ],
      "metadata": {
        "id": "fmPSEQenLhgJ"
      },
      "execution_count": null,
      "outputs": []
    },
    {
      "cell_type": "code",
      "source": [
        "train_df['bone_age_z'].hist(color = 'violet') # plot กราฟ เพื่อดูการกระจายค่า z-score ของอายุกระดูก\n",
        "plt.xlabel('bone age z score')\n",
        "plt.ylabel('Number of children')\n",
        "plt.title('Relationship between number of children and bone age z score')"
      ],
      "metadata": {
        "id": "AMiWuhVuOKQp"
      },
      "execution_count": null,
      "outputs": []
    },
    {
      "cell_type": "code",
      "source": [
        "#Relationship between age and gender with a categorical scatter plot (swarmplot) # plot ดูความสัมพันธ์ระหว่างอายุและเพศ\n",
        "# swarmplot ใช้ plot เพื่อดูการกระจายของข้อมูลโดยที่จุดไม่ทับซ้อนกัน\n",
        "sns.swarmplot(x = train_df['gender'], y = train_df['boneage'])"
      ],
      "metadata": {
        "id": "Zl2VIBE5OXGg"
      },
      "execution_count": null,
      "outputs": []
    },
    {
      "cell_type": "code",
      "source": [
        "#distribution of age within each gender # plot การกระจายอายุกระดูกของแต่ละเพศ\n",
        "male = train_df[train_df['gender'] == 'male']\n",
        "female = train_df[train_df['gender'] == 'female']\n",
        "fig, ax = plt.subplots(2,1)\n",
        "ax[0].hist(male['boneage'], color = 'blue')\n",
        "ax[0].set_ylabel('Number of boys')\n",
        "ax[1].hist(female['boneage'], color = 'red')\n",
        "ax[1].set_xlabel('Age in months')\n",
        "ax[1].set_ylabel('Number of girls')\n",
        "fig.set_size_inches((10,7))"
      ],
      "metadata": {
        "id": "OaHGtx1MOl70"
      },
      "execution_count": null,
      "outputs": []
    },
    {
      "cell_type": "code",
      "source": [
        "#splitting train dataframe into traininng and validation dataframes #แบ่งข้อมูลออกเป็น 2 ส่วน ด้วยการสุ่ม\n",
        "df_train, df_valid = train_test_split(train_df, test_size = 0.2, random_state = 0) \n",
        "# test_size = 0.2 คือ สัดส่วนของข้อมูลที่ใช้ในการทดสอบ (หากไม่มีการกำหนดค่าจะถูก set = 0.25)# random_state ใช้ในการสุ่มแบ่งกลุ่ม (default=None)"
      ],
      "metadata": {
        "id": "SexAF_9Svxob"
      },
      "execution_count": null,
      "outputs": []
    },
    {
      "cell_type": "code",
      "source": [
        "df_train # training"
      ],
      "metadata": {
        "id": "b6DXWDUwv35l"
      },
      "execution_count": null,
      "outputs": []
    },
    {
      "cell_type": "code",
      "source": [
        "df_valid # validation"
      ],
      "metadata": {
        "id": "vBI9fUKWwHfj"
      },
      "execution_count": null,
      "outputs": []
    },
    {
      "cell_type": "code",
      "source": [
        "#data_image = os.path.join(path,'boneage-training-dataset') #เอาพาร์ทที่อยู่ในไฟล์มาเชื่อมกับColab\n",
        "#print(data_image)"
      ],
      "metadata": {
        "id": "K2EsPEheUW_c"
      },
      "execution_count": null,
      "outputs": []
    },
    {
      "cell_type": "code",
      "source": [
        "import matplotlib.image as mpimg #นำเข้า library ที่ใช้อ่านรูป\n",
        "for filename, boneage, gender in train_df[['id','boneage','gender']].sample(10).values: #เป็นคำสั่งวนลูปเพื่อแสดงภาพ และข้อมูลของภาพที่เก็บไว้ใน Train_df (ชื่อ อายุ เพศ)\n",
        "    img = mpimg.imread(os.path.join(path,'boneage-training-dataset-1261/')+ filename) # เป็นคำสั่งที่ใช้ในการนำรูปเข้ามา\n",
        "    plt.imshow(img) # แสดงรูปภาพ\n",
        "    plt.title('Image name:{}  Bone age: {} years  Gender: {}'.format(filename, boneage/12, gender)) # แสดงหัวเรื่องโดยบอกถึง ชื่อ อายุ(ปี) และเพศ ของแต่ละภาพ\n",
        "    plt.axis('off')\n",
        "    plt.show()"
      ],
      "metadata": {
        "id": "z2XwXlsaCbK7"
      },
      "execution_count": null,
      "outputs": []
    },
    {
      "cell_type": "code",
      "source": [
        "#library required for image preprocessing \n",
        "from tensorflow.keras.preprocessing.image import ImageDataGenerator \n",
        "from  keras.applications.xception import preprocess_input "
      ],
      "metadata": {
        "id": "0aMjBUZ5zhin"
      },
      "execution_count": null,
      "outputs": []
    },
    {
      "cell_type": "code",
      "source": [
        "#reducing down the size of the image \n",
        "img_size = 256 # ลดขนาดรูปภาพ"
      ],
      "metadata": {
        "id": "gGjvM-ChzmWy"
      },
      "execution_count": null,
      "outputs": []
    },
    {
      "cell_type": "code",
      "source": [
        "train_data_generator = ImageDataGenerator(preprocessing_function = preprocess_input)\n",
        "val_data_generator = ImageDataGenerator(preprocessing_function = preprocess_input)"
      ],
      "metadata": {
        "id": "BQw31TeT0xSy"
      },
      "execution_count": null,
      "outputs": []
    },
    {
      "cell_type": "code",
      "source": [
        "#train data generator\n",
        "train_generator = train_data_generator.flow_from_dataframe(\n",
        "    dataframe = df_train,\n",
        "     directory = (os.path.join(path,'boneage-training-dataset-1261/')),\n",
        "    x_col= 'id',\n",
        "    y_col= 'bone_age_z',\n",
        "    batch_size = 32,\n",
        "    seed = 42,\n",
        "    shuffle = True,\n",
        "    class_mode= 'raw',\n",
        "    flip_vertical = True,\n",
        "    color_mode = 'rgb',\n",
        "    target_size = (img_size, img_size))"
      ],
      "metadata": {
        "id": "1CLnjCg21i00"
      },
      "execution_count": null,
      "outputs": []
    },
    {
      "cell_type": "code",
      "source": [
        "#validation data generator\n",
        "val_generator = val_data_generator.flow_from_dataframe(\n",
        "    dataframe = df_valid,\n",
        "    directory = (os.path.join(path,'boneage-training-dataset-1261/')),\n",
        "    x_col = 'id',\n",
        "    y_col = 'bone_age_z',\n",
        "    batch_size = 32,\n",
        "    seed = 42,\n",
        "    shuffle = True,\n",
        "    class_mode = 'raw',\n",
        "    flip_vertical = True,\n",
        "    color_mode = 'rgb',\n",
        "    target_size = (img_size, img_size))"
      ],
      "metadata": {
        "id": "-cfsgB7v4BFB"
      },
      "execution_count": null,
      "outputs": []
    },
    {
      "cell_type": "code",
      "source": [
        "#test data generator\n",
        "test_data_generator = ImageDataGenerator(preprocessing_function = preprocess_input)\n",
        "\n",
        "test_generator = test_data_generator.flow_from_directory(\n",
        "    directory = (os.path.join(path,'boneage-test-dataset/')),\n",
        "    target_size = (img_size,img_size),\n",
        "    shuffle = True,\n",
        "    class_mode = 'binary',classes=['.'],\n",
        "    color_mode = 'rgb')"
      ],
      "metadata": {
        "id": "Rv5dFr4DH5D5"
      },
      "execution_count": null,
      "outputs": []
    },
    {
      "cell_type": "code",
      "source": [
        "import matplotlib.image as mpimg #นำเข้า library ที่ใช้อ่านรูป\n",
        "for filename, gender in test_df[['Case ID','Sex']].sample(10).values: #เป็นคำสั่งวนลูปเพื่อแสดงภาพ และข้อมูลของภาพที่เก็บไว้ใน Train_df (ชื่อ เพศ)\n",
        "    img = mpimg.imread(os.path.join(path,'boneage-test-dataset/')+ filename) # เป็นคำสั่งที่ใช้ในการนำรูปเข้ามา\n",
        "    plt.imshow(img) # แสดงรูปภาพ\n",
        "    plt.title('Image name:{}    Gender: {}'.format(filename, gender)) # แสดงหัวเรื่องโดยบอกถึง ชื่อ อายุ(ปี) และเพศ ของแต่ละภาพ\n",
        "    plt.axis('off')\n",
        "    plt.show()"
      ],
      "metadata": {
        "id": "n_xWt_JJ7qxx"
      },
      "execution_count": null,
      "outputs": []
    },
    {
      "cell_type": "code",
      "source": [
        "test_X, test_Y = next(val_data_generator.flow_from_dataframe( \n",
        "                            df_valid, \n",
        "                            directory = (os.path.join(path,'boneage-training-dataset-1261/')),\n",
        "                            x_col = 'id',\n",
        "                            y_col = 'bone_age_z', \n",
        "                            target_size = (img_size, img_size),\n",
        "                            batch_size = 2523,\n",
        "                            class_mode = 'raw'\n",
        "                            )) "
      ],
      "metadata": {
        "id": "t6j7OLVAQB70"
      },
      "execution_count": null,
      "outputs": []
    },
    {
      "cell_type": "markdown",
      "source": [
        "# The function to plot training and validation error as a function of epochs"
      ],
      "metadata": {
        "id": "mnRuDfndipM2"
      }
    },
    {
      "cell_type": "code",
      "source": [
        "def plot_it(history):\n",
        "    '''function to plot training and validation error'''\n",
        "    fig, ax = plt.subplots( figsize=(20,10))\n",
        "    ax.plot(history.history['mae_in_months'])\n",
        "    ax.plot(history.history['val_mae_in_months'])\n",
        "    plt.title('Model Error')\n",
        "    plt.ylabel('error')\n",
        "    plt.xlabel('Epoch')\n",
        "    plt.legend(['Train', 'Val'], loc='upper right')\n",
        "    ax.grid(color='black')\n",
        "    plt.show()"
      ],
      "metadata": {
        "id": "w5ePQz_1eu9h"
      },
      "execution_count": null,
      "outputs": []
    },
    {
      "cell_type": "code",
      "source": [
        "from keras.metrics import mean_absolute_error\n",
        "def mae_in_months(x_p, y_p):\n",
        "    '''function to return mae in months'''\n",
        "    return mean_absolute_error((std_bone_age*x_p + mean_bone_age), (std_bone_age*y_p + mean_bone_age)) "
      ],
      "metadata": {
        "id": "nnn218yAew3i"
      },
      "execution_count": null,
      "outputs": []
    },
    {
      "cell_type": "code",
      "source": [
        "from tensorflow.keras.layers import GlobalMaxPooling2D, Dense,Flatten\n",
        "from tensorflow.keras.callbacks import TensorBoard, ModelCheckpoint,EarlyStopping,ReduceLROnPlateau\n",
        "from tensorflow.keras import Sequential\n"
      ],
      "metadata": {
        "id": "m_MZ0prCeyqI"
      },
      "execution_count": null,
      "outputs": []
    },
    {
      "cell_type": "code",
      "source": [
        "model_1 = tf.keras.applications.xception.Xception(input_shape = (img_size, img_size, 3),\n",
        "                                           include_top = False,\n",
        "                                           weights = 'imagenet')\n",
        "model_1.trainable = True\n",
        "model_2 = Sequential()\n",
        "model_2.add(model_1)\n",
        "model_2.add(GlobalMaxPooling2D())\n",
        "model_2.add(Flatten())\n",
        "model_2.add(Dense(10, activation = 'relu'))\n",
        "model_2.add(Dense(1, activation = 'linear'))\n",
        "\n",
        "\n",
        "#compile model\n",
        "model_2.compile(loss ='mse', optimizer= 'adam', metrics = [mae_in_months] )\n",
        "\n",
        "#model summary\n",
        "model_2.summary()"
      ],
      "metadata": {
        "id": "GL6Qd7LKezT4"
      },
      "execution_count": null,
      "outputs": []
    },
    {
      "cell_type": "code",
      "source": [
        "# Load the TensorBoard notebook extension # Tensorflow รองรับกับเครื่องที่\n",
        "%load_ext tensorboard\n",
        "logs_dir = '.\\logs'\n",
        "%tensorboard --logdir {logs_dir}"
      ],
      "metadata": {
        "id": "uOUPk_BUfHUU"
      },
      "execution_count": null,
      "outputs": []
    },
    {
      "cell_type": "code",
      "source": [
        "#early stopping\n",
        "early_stopping = EarlyStopping(monitor='val_loss',\n",
        "                              min_delta=0,\n",
        "                              patience= 5,\n",
        "                              verbose=0, mode='auto')"
      ],
      "metadata": {
        "id": "VPKGFN32fJ2Z"
      },
      "execution_count": null,
      "outputs": []
    },
    {
      "cell_type": "code",
      "source": [
        "#model checkpoint\n",
        "mc = ModelCheckpoint('best_model.h5', monitor='val_loss', mode='min', save_best_only=True)\n",
        "mc"
      ],
      "metadata": {
        "id": "2M35DbG5fMzw"
      },
      "execution_count": null,
      "outputs": []
    },
    {
      "cell_type": "code",
      "source": [
        "#tensorboard callback\n",
        "logdir = os.path.join(logs_dir,datetime.datetime.now().strftime('%Y%m%d-%H%M%S'))\n",
        "tensorboard_callback =  TensorBoard(logdir, histogram_freq = 1)\n",
        "tensorboard_callback"
      ],
      "metadata": {
        "id": "I63lpWBnfUqp"
      },
      "execution_count": null,
      "outputs": []
    },
    {
      "cell_type": "code",
      "source": [
        "#reduce lr on plateau\n",
        "red_lr_plat = ReduceLROnPlateau(monitor='val_loss', factor=0.1, patience=10, verbose=0, mode='auto', min_delta=0.0001, cooldown=0, min_lr=0)\n",
        "red_lr_plat"
      ],
      "metadata": {
        "id": "-uMvv75ZfZsv"
      },
      "execution_count": null,
      "outputs": []
    },
    {
      "cell_type": "code",
      "source": [
        "callbacks = [tensorboard_callback,early_stopping,mc, red_lr_plat]\n",
        "callbacks"
      ],
      "metadata": {
        "id": "d_rzcYqsmZ_c"
      },
      "execution_count": null,
      "outputs": []
    },
    {
      "cell_type": "code",
      "source": [
        "#fit model\n",
        "history = model_2.fit(train_generator,\n",
        "                            steps_per_epoch = 31,\n",
        "                            validation_data = val_generator,\n",
        "                            validation_steps = 1,\n",
        "                            epochs = 50,\n",
        "                            callbacks= callbacks)\n",
        "history\n",
        "%tensorboard --logdir logs\n",
        "plot_it(history)"
      ],
      "metadata": {
        "id": "PIunt_X-flEK"
      },
      "execution_count": null,
      "outputs": []
    },
    {
      "cell_type": "markdown",
      "source": [
        "# Evaluating the best saved model on the validation data and visualising results!!"
      ],
      "metadata": {
        "id": "fnhML9JqfzUK"
      }
    },
    {
      "cell_type": "code",
      "source": [
        "model_2.load_weights('best_model.h5')\n",
        "pred = mean_bone_age + std_bone_age*(model_2.predict(test_X, batch_size = 32, verbose = True))\n",
        "test_months = mean_bone_age + std_bone_age*(test_Y)"
      ],
      "metadata": {
        "id": "hz5ra1UjfrSA"
      },
      "execution_count": null,
      "outputs": []
    },
    {
      "cell_type": "code",
      "source": [
        "ord_ind = np.argsort(test_Y)\n",
        "ord_ind = ord_ind[np.linspace(0, len(ord_ind)-1, 8).astype(int)] # take 8 evenly spaced ones\n",
        "fig, axs = plt.subplots(4, 2, figsize = (15, 30))\n",
        "for (ind, ax) in zip(ord_ind, axs.flatten()):\n",
        "    ax.imshow(test_X[ind, :,:,0], cmap = 'bone')\n",
        "    ax.set_title('Age: %fY\\nPredicted Age: %fY' % (test_months[ind]/12.0, \n",
        "                                                           pred[ind]/12.0))\n",
        "    ax.axis('off')\n",
        "fig.savefig('trained_image_predictions.png', dpi = 300)"
      ],
      "metadata": {
        "id": "nTcEawOWf5RW"
      },
      "execution_count": null,
      "outputs": []
    },
    {
      "cell_type": "code",
      "source": [
        "fig, ax = plt.subplots(figsize = (7,7))\n",
        "ax.plot(test_months, pred, 'r.', label = 'predictions')\n",
        "ax.plot(test_months, test_months, 'b-', label = 'actual')\n",
        "ax.legend(loc = 'upper right')\n",
        "ax.set_xlabel('Actual Age (Months)')\n",
        "ax.set_ylabel('Predicted Age (Months)')"
      ],
      "metadata": {
        "id": "5eJXirZff9Wz"
      },
      "execution_count": null,
      "outputs": []
    },
    {
      "cell_type": "markdown",
      "source": [
        "# The plot deviates from the line at very old and very young ages probably because we have less examples for those cases in the dataset\n",
        "\n",
        "Predicting on test data, we obtain:"
      ],
      "metadata": {
        "id": "Fx1Uo_AggAKi"
      }
    },
    {
      "cell_type": "code",
      "source": [
        "test_generator.reset()\n",
        "y_pred = model_2.predict(test_generator)\n",
        "predicted = y_pred.flatten()\n",
        "predicted_months = mean_bone_age + std_bone_age*(predicted)\n",
        "filenames=test_generator.filenames\n",
        "results=pd.DataFrame({\"Filename\":filenames,\n",
        "                      \"Predictions\": predicted_months})\n",
        "results.to_csv(\"results.csv\",index=False)"
      ],
      "metadata": {
        "id": "ExS7w60lgCBp"
      },
      "execution_count": null,
      "outputs": []
    }
  ]
}