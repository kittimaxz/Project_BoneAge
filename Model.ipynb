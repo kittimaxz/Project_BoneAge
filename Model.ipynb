{
  "nbformat": 4,
  "nbformat_minor": 0,
  "metadata": {
    "colab": {
      "provenance": [],
      "authorship_tag": "ABX9TyNINEvJsRedGsA1Doqka0ne",
      "include_colab_link": true
    },
    "kernelspec": {
      "name": "python3",
      "display_name": "Python 3"
    },
    "language_info": {
      "name": "python"
    },
    "accelerator": "GPU",
    "gpuClass": "standard"
  },
  "cells": [
    {
      "cell_type": "markdown",
      "metadata": {
        "id": "view-in-github",
        "colab_type": "text"
      },
      "source": [
        "<a href=\"https://colab.research.google.com/github/kittimaxz/Project_BoneAge/blob/main/Model.ipynb\" target=\"_parent\"><img src=\"https://colab.research.google.com/assets/colab-badge.svg\" alt=\"Open In Colab\"/></a>"
      ]
    },
    {
      "cell_type": "code",
      "source": [
        "# General libraries\n",
        "import pandas as pd  #For working with dataframes\n",
        "import numpy as np   #For working with image arrays\n",
        "import cv2          #For transforming image\n",
        "import matplotlib.pyplot as plt  #For representation\n",
        "#For model building\n",
        "import torch\n",
        "from torch import nn, optim\n",
        "import torchvision\n",
        "from torchvision import transforms, datasets, models, utils\n",
        "from torch.utils.data import Dataset, DataLoader \n",
        "from PIL import Image\n",
        "from sklearn.model_selection import train_test_split\n",
        "from torch.nn import functional as F\n",
        "from skimage import io, transform\n",
        "from torch.optim import lr_scheduler\n",
        "from skimage.transform import AffineTransform, warp"
      ],
      "metadata": {
        "id": "ezEUrHpcptsK"
      },
      "execution_count": 1,
      "outputs": []
    },
    {
      "cell_type": "code",
      "source": [
        "class TrainMyData(Dataset):\n",
        "    def __init__(self, train, transform=None):\n",
        "        #Loading train.csv\n",
        "        train_df=pd.read_csv('train.csv')\n",
        "        #Loading image data and merging with train.csv\n",
        "        df=pd.merge(pd.read_parquet('boneage-training-dataset.parquet'),\\\n",
        "        train_df, on='image_id').drop(['image_id'], axis=1)\n",
        "        #Leaving only image related  columns\n",
        "        feature=df.drop(['id','boneage', 'male'], axis=1)\n",
        "        #Setting labels\n",
        "        label_id=df['id']\n",
        "        label_age=df['age']\n",
        "        label_gender=df['gender']\n",
        "        \n",
        "        #Splitting the data into train and validation set\n",
        "        X_train, X_test, y_age_train, y_age_test, y_gender_train, y_gender_test, y_id_train,\\\n",
        "        y_id_test = train_test_split(feature, label_age, label_gender, label_id, test_size=0.2)\n",
        "        \n",
        "        if train:\n",
        "            self.id_y=y_id_train\n",
        "            self.x=X_train\n",
        "            self.age_y=y_age_train\n",
        "            self.gender_y=y_gender_train\n",
        "            \n",
        "        else:\n",
        "            self.id_y=y_id_test\n",
        "            self.x=X_test\n",
        "            self.age_y=y_age_test\n",
        "            self.gender_y=y_gender_test\n",
        "                        \n",
        "        \n",
        "        #Applying transformation\n",
        "        self.transform=transform\n",
        "        \n",
        "    def __len__(self):\n",
        "        return len(self.x)\n",
        "    \n",
        "    def __getitem__(self, idx):\n",
        "        image=np.array(self.x.iloc[idx, 0:]).astype(float).reshape(137, 236)\n",
        "        label1=np.array([self.id_y.iloc[idx]]).astype('float')\n",
        "        label2=np.array([self.age_y.iloc[idx]]).astype('float')\n",
        "        label3=np.array([self.gender_y.iloc[idx]]).astype('float')\n",
        "        \n",
        "        \n",
        "        sample={'image': np.uint8(image), 'label_id': label1,\\\n",
        "                'label_age': label2,\\\n",
        "                'label_gender': label3,\\\n",
        "                }\n",
        "        \n",
        "        #Applying transformation\n",
        "        if self.transform:\n",
        "            sample=self.transform(sample)\n",
        "            \n",
        "        return sample"
      ],
      "metadata": {
        "id": "mvnw-Ko3tlbE"
      },
      "execution_count": 2,
      "outputs": []
    },
    {
      "cell_type": "code",
      "source": [
        "class crop(object):\n",
        "    def __init__(self, resize_size):\n",
        "        self.resize_size = resize_size\n",
        "    def __call__(self, sample):\n",
        "        image, label1, label2, label3 = sample['image'],\\\n",
        "        sample['label_id'], sample['label_age'], sample['label_gender']\n",
        "        _, thresh=cv2.threshold(image, 30, 255, cv2.THRESH_BINARY_INV + cv2.THRESH_OTSU)\n",
        "        contours, _ = cv2.findContours(thresh,cv2.RETR_LIST,cv2.CHAIN_APPROX_SIMPLE)[-2:]\n",
        "        \n",
        "        idx=0\n",
        "        ls_xmin=[]\n",
        "        ls_ymin=[]\n",
        "        ls_xmax=[]\n",
        "        ls_ymax=[]\n",
        "        \n",
        "        for cnt in contours:\n",
        "            idx+=1\n",
        "            x,y,w,h = cv2.boundingRect(cnt)\n",
        "            ls_xmin.append(x)\n",
        "            ls_ymin.append(y)\n",
        "            ls_xmax.append(x + w)\n",
        "            ls_ymax.append(y + h)\n",
        "        xmin = min(ls_xmin)\n",
        "        ymin = min(ls_ymin)\n",
        "        xmax = max(ls_xmax)\n",
        "        ymax = max(ls_ymax)\n",
        "        roi = image[ymin:ymax,xmin:xmax]    \n",
        "        resized_image = cv2.resize(roi, (self.resize_size, self.resize_size),\\\n",
        "                                                             interpolation=cv2.INTER_AREA)\n",
        "        sample={'image': resized_image, 'label_id': label1, 'label_age': label2,\\\n",
        "                'label_gender': label3}\n",
        "        return sample"
      ],
      "metadata": {
        "id": "_7t-SLuyvH-Z"
      },
      "execution_count": 3,
      "outputs": []
    },
    {
      "cell_type": "code",
      "source": [
        "class rotate_image(object):\n",
        "    def __call__(self, sample):\n",
        "        image, label1, label2, label3 = sample['image'],\\\n",
        "        sample['label_id'], sample['label_age'], sample['label_gender']\n",
        "        min_scale = 0.8\n",
        "        max_scale = 1.2\n",
        "        sx = np.random.uniform(min_scale, max_scale)\n",
        "        sy = np.random.uniform(min_scale, max_scale)\n",
        "        # --- rotation ---\n",
        "        max_rot_angle = 7\n",
        "        rot_angle = np.random.uniform(-max_rot_angle, max_rot_angle) * np.pi / 180.\n",
        "        # --- shear ---\n",
        "        max_shear_angle = 10\n",
        "        shear_angle = np.random.uniform(-max_shear_angle, max_shear_angle) * np.pi / 180.\n",
        "        # --- translation ---\n",
        "        max_translation = 4\n",
        "        tx = np.random.randint(-max_translation, max_translation)\n",
        "        ty = np.random.randint(-max_translation, max_translation)\n",
        "        tform = AffineTransform(scale=(sx, sy), rotation=rot_angle, shear=shear_angle,\n",
        "                            translation=(tx, ty))\n",
        "        transformed_image = warp(image, tform)\n",
        "        assert transformed_image.ndim == 2\n",
        "        sample={'image': resized_image, 'label_id': label1, 'label_age': label2,\\\n",
        "                'label_gender': label3}\n",
        "        return sample"
      ],
      "metadata": {
        "id": "OSX3ZwKm6Dh4"
      },
      "execution_count": 4,
      "outputs": []
    },
    {
      "cell_type": "code",
      "source": [
        "class RGB_ToTensor(object):\n",
        "    def __call__(self, sample):\n",
        "        image, label1, label2, label3 = sample['image'],\\\n",
        "        sample['label_id'], sample['label_age'], sample['label_gender']\n",
        "        \n",
        "        image=torch.from_numpy(image).unsqueeze_(0).repeat(3, 1, 1)\n",
        "        label1=torch.from_numpy(label1)\n",
        "        label2=torch.from_numpy(label2)\n",
        "        label3=torch.from_numpy(label3)\n",
        "        \n",
        "        return {'image': image,\n",
        "                'label_id': label1,\n",
        "                'label_age': label2,\n",
        "                'label_gender': label3}"
      ],
      "metadata": {
        "id": "1DySVulZ77la"
      },
      "execution_count": 5,
      "outputs": []
    },
    {
      "cell_type": "code",
      "source": [
        "class Normalization(object):\n",
        "    def __init__(self, mean, std):\n",
        "        self.mean = mean.view(-1, 1, 1)\n",
        "        self.std = std.view(-1, 1, 1)\n",
        "    def __call__(self, sample):\n",
        "        image, label1, label2, label3 = sample['image'],\\\n",
        "        sample['label_id'], sample['label_age'], sample['label_gender']\n",
        "        \n",
        "        return {'image': image,\n",
        "                'label_id': label1,\n",
        "                'label_age': label2,\n",
        "                'label_gender': label3}"
      ],
      "metadata": {
        "id": "cfpRXUpa8FlN"
      },
      "execution_count": 6,
      "outputs": []
    },
    {
      "cell_type": "code",
      "source": [
        "cnn_normalization_mean = torch.tensor([0.485, 0.456, 0.406])\n",
        "cnn_normalization_std = torch.tensor([0.229, 0.224, 0.225])\n",
        "transformed_train_data = MyData(train, transform=transforms.Compose([crop(256),\\\n",
        "                                            rotate_image(), RGB_ToTensor(),\n",
        "                                            Normalization(cnn_normalization_mean,\\\n",
        "                                            cnn_normalization_std)]))\n",
        "transformed_test_data = MyData(test, transform=transforms.Compose([crop(256),\\\n",
        "                                            RGB_ToTensor(),\n",
        "                                            Normalization(cnn_normalization_mean,\\\n",
        "                                            cnn_normalization_std)]))\n",
        "train_dataloader = DataLoader(transformed_train_data, batch_size=50, shuffle=True, num_workers=4)\n",
        "test_dataloader = DataLoader(transformed_test_data, batch_size=50, shuffle=True, num_workers=4)"
      ],
      "metadata": {
        "colab": {
          "base_uri": "https://localhost:8080/",
          "height": 236
        },
        "id": "tTpgabUt8P-D",
        "outputId": "c0364e69-6187-45cf-de7e-bf998b4e4333"
      },
      "execution_count": 7,
      "outputs": [
        {
          "output_type": "error",
          "ename": "NameError",
          "evalue": "ignored",
          "traceback": [
            "\u001b[0;31m---------------------------------------------------------------------------\u001b[0m",
            "\u001b[0;31mNameError\u001b[0m                                 Traceback (most recent call last)",
            "\u001b[0;32m<ipython-input-7-328332a25e0d>\u001b[0m in \u001b[0;36m<module>\u001b[0;34m\u001b[0m\n\u001b[1;32m      1\u001b[0m \u001b[0mcnn_normalization_mean\u001b[0m \u001b[0;34m=\u001b[0m \u001b[0mtorch\u001b[0m\u001b[0;34m.\u001b[0m\u001b[0mtensor\u001b[0m\u001b[0;34m(\u001b[0m\u001b[0;34m[\u001b[0m\u001b[0;36m0.485\u001b[0m\u001b[0;34m,\u001b[0m \u001b[0;36m0.456\u001b[0m\u001b[0;34m,\u001b[0m \u001b[0;36m0.406\u001b[0m\u001b[0;34m]\u001b[0m\u001b[0;34m)\u001b[0m\u001b[0;34m\u001b[0m\u001b[0;34m\u001b[0m\u001b[0m\n\u001b[1;32m      2\u001b[0m \u001b[0mcnn_normalization_std\u001b[0m \u001b[0;34m=\u001b[0m \u001b[0mtorch\u001b[0m\u001b[0;34m.\u001b[0m\u001b[0mtensor\u001b[0m\u001b[0;34m(\u001b[0m\u001b[0;34m[\u001b[0m\u001b[0;36m0.229\u001b[0m\u001b[0;34m,\u001b[0m \u001b[0;36m0.224\u001b[0m\u001b[0;34m,\u001b[0m \u001b[0;36m0.225\u001b[0m\u001b[0;34m]\u001b[0m\u001b[0;34m)\u001b[0m\u001b[0;34m\u001b[0m\u001b[0;34m\u001b[0m\u001b[0m\n\u001b[0;32m----> 3\u001b[0;31m transformed_train_data = MyData(train, transform=transforms.Compose([crop(256),\\\n\u001b[0m\u001b[1;32m      4\u001b[0m                                             \u001b[0mrotate_image\u001b[0m\u001b[0;34m(\u001b[0m\u001b[0;34m)\u001b[0m\u001b[0;34m,\u001b[0m \u001b[0mRGB_ToTensor\u001b[0m\u001b[0;34m(\u001b[0m\u001b[0;34m)\u001b[0m\u001b[0;34m,\u001b[0m\u001b[0;34m\u001b[0m\u001b[0;34m\u001b[0m\u001b[0m\n\u001b[1;32m      5\u001b[0m                                             Normalization(cnn_normalization_mean,\\\n",
            "\u001b[0;31mNameError\u001b[0m: name 'train' is not defined"
          ]
        }
      ]
    },
    {
      "cell_type": "code",
      "source": [],
      "metadata": {
        "id": "b7r8NwYq9EmP"
      },
      "execution_count": null,
      "outputs": []
    }
  ]
}