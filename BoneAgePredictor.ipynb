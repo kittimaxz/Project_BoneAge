{
  "nbformat": 4,
  "nbformat_minor": 0,
  "metadata": {
    "colab": {
      "provenance": [],
      "machine_shape": "hm",
      "include_colab_link": true
    },
    "kernelspec": {
      "name": "python3",
      "display_name": "Python 3"
    },
    "language_info": {
      "name": "python"
    },
    "accelerator": "GPU",
    "gpuClass": "standard"
  },
  "cells": [
    {
      "cell_type": "markdown",
      "metadata": {
        "id": "view-in-github",
        "colab_type": "text"
      },
      "source": [
        "<a href=\"https://colab.research.google.com/github/kittimaxz/Project_BoneAge/blob/main/BoneAgePredictor.ipynb\" target=\"_parent\"><img src=\"https://colab.research.google.com/assets/colab-badge.svg\" alt=\"Open In Colab\"/></a>"
      ]
    },
    {
      "cell_type": "code",
      "source": [
        "import numpy as np\n",
        "import torch\n",
        "import torch.nn as nn\n",
        "import torch.nn.functional as F\n",
        "import torch.optim as optim\n",
        "from torchvision import datasets, transforms\n",
        "from torch.utils.data import Dataset, DataLoader\n",
        "from torch.optim.lr_scheduler import ReduceLROnPlateau\n",
        "import os\n",
        "import pandas as pd\n",
        "from PIL import Image\n",
        "import matplotlib.pyplot as plt"
      ],
      "metadata": {
        "id": "pduFNGhc55Dw"
      },
      "execution_count": 1,
      "outputs": []
    },
    {
      "cell_type": "code",
      "source": [
        "from google.colab import drive # เชื่อม drive ของเรา ถ้าเชื่อมสำเร็จจะขึ้นคำว่าMounted at /content/drive \n",
        "drive.mount('/content/drive')"
      ],
      "metadata": {
        "colab": {
          "base_uri": "https://localhost:8080/"
        },
        "id": "pnsm5FPI6met",
        "outputId": "9c31e452-4fe0-40e1-f1ac-24e4fc0bd68d"
      },
      "execution_count": 2,
      "outputs": [
        {
          "output_type": "stream",
          "name": "stdout",
          "text": [
            "Mounted at /content/drive\n"
          ]
        }
      ]
    },
    {
      "cell_type": "code",
      "source": [
        "def dataset_path(*rel_path):\n",
        "    return os.path.join('/content/drive/My Drive/Project_Boneage', *rel_path);"
      ],
      "metadata": {
        "id": "8SUUfnwf6qqC"
      },
      "execution_count": 3,
      "outputs": []
    },
    {
      "cell_type": "code",
      "source": [
        "transform = transforms.Compose([\n",
        "    transforms.ToTensor()\n",
        "])"
      ],
      "metadata": {
        "id": "xGcSme2e-cjG"
      },
      "execution_count": 4,
      "outputs": []
    },
    {
      "cell_type": "code",
      "source": [
        "class BoneAgeTrainingDataset(Dataset):\n",
        "    def __init__(self,csv_path,img_folder):\n",
        "        self.csv = pd.read_csv(dataset_path(csv_path));\n",
        "        self.img_folder = img_folder;        \n",
        "\n",
        "    def __len__(self):\n",
        "        return self.csv.shape[0]\n",
        "\n",
        "    def __getitem__(self, idx):\n",
        "        return transform(Image.open(dataset_path(self.img_folder,str(self.csv['id'][idx])+'.png')).resize((256,256))).double(),\\\n",
        "               torch.from_numpy(np.array(self.csv['boneage zscore'][idx])).double()"
      ],
      "metadata": {
        "id": "yBJUXtkR691X"
      },
      "execution_count": 5,
      "outputs": []
    },
    {
      "cell_type": "code",
      "source": [
        "class BoneAgeValidatingDataset(Dataset):\n",
        "    def __init__(self,csv_path,img_folder):\n",
        "        self.csv = pd.read_csv(dataset_path(csv_path));\n",
        "        self.img_folder = img_folder;        \n",
        "\n",
        "    def __len__(self):\n",
        "        return self.csv.shape[0]\n",
        "\n",
        "    def __getitem__(self, idx):\n",
        "        return transform(Image.open(dataset_path(self.img_folder,str(self.csv['id'][idx])+'.png')).resize((256,256))).double(),\\\n",
        "               torch.from_numpy(np.array(self.csv['boneage zscore'][idx])).double()"
      ],
      "metadata": {
        "id": "D-PjS-wI0WxX"
      },
      "execution_count": 6,
      "outputs": []
    },
    {
      "cell_type": "code",
      "source": [
        "class BoneAgePredictor(nn.Module):\n",
        "    def __init__(self):\n",
        "        super(BoneAgePredictor, self).__init__()\n",
        "        # Layer 1\n",
        "        self.conv1 = nn.Conv2d(1, 4, 3)\n",
        "        nn.init.kaiming_normal_(self.conv1.weight)\n",
        "        self.batch1 = nn.BatchNorm2d(4)\n",
        "        # Layer 2\n",
        "        self.conv2 = nn.Conv2d(4, 8, 3)\n",
        "        nn.init.kaiming_normal_(self.conv2.weight)\n",
        "        self.batch2 = nn.BatchNorm2d(8)\n",
        "        # Layer 3\n",
        "        self.conv3 = nn.Conv2d(8, 16, 3)\n",
        "        nn.init.kaiming_normal_(self.conv3.weight)\n",
        "        self.batch3 = nn.BatchNorm2d(16)\n",
        "        # Layer 4\n",
        "        self.conv4 = nn.Conv2d(16, 16, 3)\n",
        "        nn.init.kaiming_normal_(self.conv4.weight)\n",
        "        self.batch4 = nn.BatchNorm2d(16)\n",
        "        # Layer 5\n",
        "        self.conv5 = nn.Conv2d(16, 16, 3)\n",
        "        nn.init.kaiming_normal_(self.conv5.weight)\n",
        "        self.batch5 = nn.BatchNorm2d(16)\n",
        "        # Fully connected\n",
        "        self.fc1 = nn.Linear(576, 24)\n",
        "        self.fc2 = nn.Linear(24, 1)\n",
        "\n",
        "    def forward(self, x):\n",
        "        # Layer 1\n",
        "        x = F.relu(self.batch1(self.conv1(x)))\n",
        "        x = F.max_pool2d(x, 2)\n",
        "        # Layer 2\n",
        "        x = F.relu(self.batch2(self.conv2(x)))\n",
        "        x = F.max_pool2d(x, 2)\n",
        "        # Layer 3\n",
        "        x = F.relu(self.batch3(self.conv3(x)))\n",
        "        x = F.max_pool2d(x, 2)\n",
        "        # Layer 4\n",
        "        x = F.relu(self.batch4(self.conv4(x)))\n",
        "        x = F.max_pool2d(x, 2)\n",
        "        # Layer 5\n",
        "        x = F.relu(self.batch5(self.conv5(x)))\n",
        "        x = F.max_pool2d(x, 2)\n",
        "        # Pooling\n",
        "        x = x.view(-1, 576)\n",
        "        x = self.fc1(x)\n",
        "        x = self.fc2(x)\n",
        "        return x"
      ],
      "metadata": {
        "id": "WgTn4ZQ3AwYh"
      },
      "execution_count": 7,
      "outputs": []
    },
    {
      "cell_type": "code",
      "source": [
        "def train(model, device, train_loader, optimizer, epoch):\n",
        "    model.train()\n",
        "    for batch_idx, (data, target) in enumerate(train_loader):\n",
        "        data, target = data.to(device), target.to(device)\n",
        "        optimizer.zero_grad()\n",
        "        output = model(data)\n",
        "        loss = F.l1_loss(output.view(-1), target)\n",
        "        loss.backward()\n",
        "        optimizer.step()\n",
        "        print('Train Epoch: {} [{}/{} ({:.0f}%)]\\tLoss: {:.6f}'.format(\n",
        "                epoch, batch_idx * len(data), len(train_loader.dataset),\n",
        "                100. * batch_idx / len(train_loader), loss.item()))"
      ],
      "metadata": {
        "id": "UXdVbnBtFghc"
      },
      "execution_count": 8,
      "outputs": []
    },
    {
      "cell_type": "code",
      "source": [
        "def val(model, device, loader, loader_name):\n",
        "    model.eval()\n",
        "    loss = 0\n",
        "    with torch.no_grad():\n",
        "        for batch_idx, (data, target) in enumerate(loader):\n",
        "            data, target = data.to(device), target.to(device)\n",
        "            output = model(data)\n",
        "            loss += F.l1_loss(output.view(-1), target, reduction='sum').item()  # sum up batch loss            \n",
        "    loss /= len(loader.dataset)\n",
        "    print('\\n', loader_name, 'set: Average loss: {:.4f}\\n'.format(loss))\n",
        "    return loss;"
      ],
      "metadata": {
        "id": "4UbDJqkSGIOY"
      },
      "execution_count": 9,
      "outputs": []
    },
    {
      "cell_type": "code",
      "source": [
        "use_cuda = torch.cuda.is_available()\n",
        "device = torch.device(\"cuda\" if use_cuda else \"cpu\")\n",
        "kwargs = {'num_workers': 0, 'pin_memory': True} if use_cuda else {}\n",
        "training_data_loader = torch.utils.data.DataLoader(\n",
        "    BoneAgeTrainingDataset('train_z.csv', 'boneage_training_dataset'),\n",
        "    batch_size=64, shuffle=True, **kwargs)\n",
        "validating_data_loader = torch.utils.data.DataLoader(\n",
        "    BoneAgeValidatingDataset('validation_z.csv', 'boneage_validation_dataset'),\n",
        "    batch_size=64, shuffle=True, **kwargs)"
      ],
      "metadata": {
        "id": "ns7Mm3vQG1MH"
      },
      "execution_count": 10,
      "outputs": []
    },
    {
      "cell_type": "code",
      "source": [
        "model = BoneAgePredictor().double().to(device)\n",
        "print(model)\n",
        "optimizer = optim.Adam(model.parameters())\n",
        "scheduler = ReduceLROnPlateau(optimizer, factor=0.1, patience=2, min_lr=1e-3, verbose=True)"
      ],
      "metadata": {
        "colab": {
          "base_uri": "https://localhost:8080/"
        },
        "id": "nPQsyeOTH0ny",
        "outputId": "1b27162c-ce54-456e-a135-061551952ffc"
      },
      "execution_count": 11,
      "outputs": [
        {
          "output_type": "stream",
          "name": "stdout",
          "text": [
            "BoneAgePredictor(\n",
            "  (conv1): Conv2d(1, 4, kernel_size=(3, 3), stride=(1, 1))\n",
            "  (batch1): BatchNorm2d(4, eps=1e-05, momentum=0.1, affine=True, track_running_stats=True)\n",
            "  (conv2): Conv2d(4, 8, kernel_size=(3, 3), stride=(1, 1))\n",
            "  (batch2): BatchNorm2d(8, eps=1e-05, momentum=0.1, affine=True, track_running_stats=True)\n",
            "  (conv3): Conv2d(8, 16, kernel_size=(3, 3), stride=(1, 1))\n",
            "  (batch3): BatchNorm2d(16, eps=1e-05, momentum=0.1, affine=True, track_running_stats=True)\n",
            "  (conv4): Conv2d(16, 16, kernel_size=(3, 3), stride=(1, 1))\n",
            "  (batch4): BatchNorm2d(16, eps=1e-05, momentum=0.1, affine=True, track_running_stats=True)\n",
            "  (conv5): Conv2d(16, 16, kernel_size=(3, 3), stride=(1, 1))\n",
            "  (batch5): BatchNorm2d(16, eps=1e-05, momentum=0.1, affine=True, track_running_stats=True)\n",
            "  (fc1): Linear(in_features=576, out_features=24, bias=True)\n",
            "  (fc2): Linear(in_features=24, out_features=1, bias=True)\n",
            ")\n"
          ]
        }
      ]
    },
    {
      "cell_type": "code",
      "source": [
        "def save_model(epochs, model, optimizer):\n",
        "    \"\"\"\n",
        "    Function to save the trained model to disk.\n",
        "    \"\"\"\n",
        "    print(f\"Saving final model...\")\n",
        "    torch.save({\n",
        "                'epoch': epoch,\n",
        "                'model_state_dict': model.state_dict(),\n",
        "                'optimizer_state_dict': optimizer.state_dict(),\n",
        "                'loss': loss\n",
        "                }, 'outputs/final_model.pth')"
      ],
      "metadata": {
        "id": "MZIGLmvhFY3u"
      },
      "execution_count": 12,
      "outputs": []
    },
    {
      "cell_type": "code",
      "source": [
        "def save_plots(train_loss, val_loss):\n",
        "    \"\"\"\n",
        "    Function to save the loss and accuracy plots to disk.\n",
        "    \"\"\"\n",
        "    # loss plots\n",
        "    plt.figure(figsize=(10, 7))\n",
        "    plt.plot(\n",
        "        train_loss, color='orange', linestyle='-', \n",
        "        label='train loss'\n",
        "    )\n",
        "    plt.plot(\n",
        "        val_loss, color='red', linestyle='-', \n",
        "        label='validataion loss'\n",
        "    )\n",
        "    plt.xlabel('Epochs')\n",
        "    plt.ylabel('Loss')\n",
        "    plt.legend()\n",
        "    plt.savefig('outputs/loss.png')"
      ],
      "metadata": {
        "id": "qoygzoiNF2Rl"
      },
      "execution_count": 13,
      "outputs": []
    },
    {
      "cell_type": "code",
      "source": [
        "train_loss, val_loss = [], []\n",
        "for epoch in range(1, 4):\n",
        "        train(model, device, training_data_loader, optimizer, epoch)\n",
        "        train_loss = val(model, device, training_data_loader,'Train')\n",
        "        val_loss = val(model, device, validating_data_loader,'Validate')\n",
        "        train_loss.append(train_loss)\n",
        "        val_loss.append(val_loss)\n",
        "        scheduler.step(val_loss)\n",
        "        print('-'*50)\n",
        "\n",
        "save_model(epoch, model, optimizer)\n",
        "save_plots(train_loss, val_loss)\n",
        "print(save_model)\n",
        "print(save_plots)"
      ],
      "metadata": {
        "colab": {
          "base_uri": "https://localhost:8080/",
          "height": 1000
        },
        "id": "sizddBfdIOdf",
        "outputId": "183b5cfb-af38-4d22-f3c7-76000da6824a"
      },
      "execution_count": 14,
      "outputs": [
        {
          "output_type": "stream",
          "name": "stdout",
          "text": [
            "Train Epoch: 1 [0/10089 (0%)]\tLoss: 0.887439\n",
            "Train Epoch: 1 [64/10089 (1%)]\tLoss: 0.809661\n",
            "Train Epoch: 1 [128/10089 (1%)]\tLoss: 0.868859\n",
            "Train Epoch: 1 [192/10089 (2%)]\tLoss: 0.799823\n",
            "Train Epoch: 1 [256/10089 (3%)]\tLoss: 0.768306\n",
            "Train Epoch: 1 [320/10089 (3%)]\tLoss: 0.898697\n",
            "Train Epoch: 1 [384/10089 (4%)]\tLoss: 0.757976\n",
            "Train Epoch: 1 [448/10089 (4%)]\tLoss: 1.083018\n",
            "Train Epoch: 1 [512/10089 (5%)]\tLoss: 0.811823\n",
            "Train Epoch: 1 [576/10089 (6%)]\tLoss: 0.834821\n",
            "Train Epoch: 1 [640/10089 (6%)]\tLoss: 0.904706\n",
            "Train Epoch: 1 [704/10089 (7%)]\tLoss: 0.756992\n",
            "Train Epoch: 1 [768/10089 (8%)]\tLoss: 0.867355\n",
            "Train Epoch: 1 [832/10089 (8%)]\tLoss: 0.894255\n",
            "Train Epoch: 1 [896/10089 (9%)]\tLoss: 0.847238\n",
            "Train Epoch: 1 [960/10089 (9%)]\tLoss: 0.880642\n",
            "Train Epoch: 1 [1024/10089 (10%)]\tLoss: 0.785913\n",
            "Train Epoch: 1 [1088/10089 (11%)]\tLoss: 0.925184\n",
            "Train Epoch: 1 [1152/10089 (11%)]\tLoss: 0.774310\n",
            "Train Epoch: 1 [1216/10089 (12%)]\tLoss: 0.787925\n",
            "Train Epoch: 1 [1280/10089 (13%)]\tLoss: 0.739528\n",
            "Train Epoch: 1 [1344/10089 (13%)]\tLoss: 0.839117\n",
            "Train Epoch: 1 [1408/10089 (14%)]\tLoss: 0.632248\n",
            "Train Epoch: 1 [1472/10089 (15%)]\tLoss: 0.730722\n",
            "Train Epoch: 1 [1536/10089 (15%)]\tLoss: 0.834135\n",
            "Train Epoch: 1 [1600/10089 (16%)]\tLoss: 0.974581\n",
            "Train Epoch: 1 [1664/10089 (16%)]\tLoss: 0.705957\n",
            "Train Epoch: 1 [1728/10089 (17%)]\tLoss: 0.726258\n",
            "Train Epoch: 1 [1792/10089 (18%)]\tLoss: 0.732675\n",
            "Train Epoch: 1 [1856/10089 (18%)]\tLoss: 0.768363\n",
            "Train Epoch: 1 [1920/10089 (19%)]\tLoss: 0.745143\n",
            "Train Epoch: 1 [1984/10089 (20%)]\tLoss: 0.780747\n",
            "Train Epoch: 1 [2048/10089 (20%)]\tLoss: 0.792501\n",
            "Train Epoch: 1 [2112/10089 (21%)]\tLoss: 0.949479\n",
            "Train Epoch: 1 [2176/10089 (22%)]\tLoss: 0.678466\n",
            "Train Epoch: 1 [2240/10089 (22%)]\tLoss: 0.729186\n",
            "Train Epoch: 1 [2304/10089 (23%)]\tLoss: 0.650575\n",
            "Train Epoch: 1 [2368/10089 (23%)]\tLoss: 0.664195\n",
            "Train Epoch: 1 [2432/10089 (24%)]\tLoss: 0.861330\n",
            "Train Epoch: 1 [2496/10089 (25%)]\tLoss: 0.750802\n",
            "Train Epoch: 1 [2560/10089 (25%)]\tLoss: 0.760482\n",
            "Train Epoch: 1 [2624/10089 (26%)]\tLoss: 0.853463\n",
            "Train Epoch: 1 [2688/10089 (27%)]\tLoss: 0.720591\n",
            "Train Epoch: 1 [2752/10089 (27%)]\tLoss: 0.789751\n",
            "Train Epoch: 1 [2816/10089 (28%)]\tLoss: 0.600367\n",
            "Train Epoch: 1 [2880/10089 (28%)]\tLoss: 0.733170\n",
            "Train Epoch: 1 [2944/10089 (29%)]\tLoss: 0.671081\n",
            "Train Epoch: 1 [3008/10089 (30%)]\tLoss: 0.673995\n",
            "Train Epoch: 1 [3072/10089 (30%)]\tLoss: 0.828317\n",
            "Train Epoch: 1 [3136/10089 (31%)]\tLoss: 0.816127\n",
            "Train Epoch: 1 [3200/10089 (32%)]\tLoss: 0.590615\n",
            "Train Epoch: 1 [3264/10089 (32%)]\tLoss: 0.823744\n",
            "Train Epoch: 1 [3328/10089 (33%)]\tLoss: 0.782659\n",
            "Train Epoch: 1 [3392/10089 (34%)]\tLoss: 0.694570\n",
            "Train Epoch: 1 [3456/10089 (34%)]\tLoss: 0.672465\n",
            "Train Epoch: 1 [3520/10089 (35%)]\tLoss: 0.729698\n",
            "Train Epoch: 1 [3584/10089 (35%)]\tLoss: 0.743182\n",
            "Train Epoch: 1 [3648/10089 (36%)]\tLoss: 0.751715\n",
            "Train Epoch: 1 [3712/10089 (37%)]\tLoss: 0.758420\n",
            "Train Epoch: 1 [3776/10089 (37%)]\tLoss: 0.685106\n",
            "Train Epoch: 1 [3840/10089 (38%)]\tLoss: 0.699648\n",
            "Train Epoch: 1 [3904/10089 (39%)]\tLoss: 0.658207\n",
            "Train Epoch: 1 [3968/10089 (39%)]\tLoss: 0.666098\n",
            "Train Epoch: 1 [4032/10089 (40%)]\tLoss: 0.677567\n",
            "Train Epoch: 1 [4096/10089 (41%)]\tLoss: 0.787749\n",
            "Train Epoch: 1 [4160/10089 (41%)]\tLoss: 0.740058\n",
            "Train Epoch: 1 [4224/10089 (42%)]\tLoss: 0.677180\n",
            "Train Epoch: 1 [4288/10089 (42%)]\tLoss: 0.798379\n",
            "Train Epoch: 1 [4352/10089 (43%)]\tLoss: 0.757394\n",
            "Train Epoch: 1 [4416/10089 (44%)]\tLoss: 0.766337\n",
            "Train Epoch: 1 [4480/10089 (44%)]\tLoss: 0.648794\n",
            "Train Epoch: 1 [4544/10089 (45%)]\tLoss: 0.746150\n",
            "Train Epoch: 1 [4608/10089 (46%)]\tLoss: 0.892436\n",
            "Train Epoch: 1 [4672/10089 (46%)]\tLoss: 0.752354\n",
            "Train Epoch: 1 [4736/10089 (47%)]\tLoss: 0.665182\n",
            "Train Epoch: 1 [4800/10089 (47%)]\tLoss: 0.612995\n",
            "Train Epoch: 1 [4864/10089 (48%)]\tLoss: 0.739943\n",
            "Train Epoch: 1 [4928/10089 (49%)]\tLoss: 0.713614\n",
            "Train Epoch: 1 [4992/10089 (49%)]\tLoss: 0.804313\n",
            "Train Epoch: 1 [5056/10089 (50%)]\tLoss: 0.702458\n",
            "Train Epoch: 1 [5120/10089 (51%)]\tLoss: 0.678667\n",
            "Train Epoch: 1 [5184/10089 (51%)]\tLoss: 0.831978\n",
            "Train Epoch: 1 [5248/10089 (52%)]\tLoss: 0.715800\n",
            "Train Epoch: 1 [5312/10089 (53%)]\tLoss: 0.731759\n",
            "Train Epoch: 1 [5376/10089 (53%)]\tLoss: 0.682470\n",
            "Train Epoch: 1 [5440/10089 (54%)]\tLoss: 0.682743\n",
            "Train Epoch: 1 [5504/10089 (54%)]\tLoss: 0.572791\n",
            "Train Epoch: 1 [5568/10089 (55%)]\tLoss: 0.688575\n",
            "Train Epoch: 1 [5632/10089 (56%)]\tLoss: 0.726259\n",
            "Train Epoch: 1 [5696/10089 (56%)]\tLoss: 0.679434\n",
            "Train Epoch: 1 [5760/10089 (57%)]\tLoss: 0.723261\n",
            "Train Epoch: 1 [5824/10089 (58%)]\tLoss: 0.800972\n",
            "Train Epoch: 1 [5888/10089 (58%)]\tLoss: 0.669116\n",
            "Train Epoch: 1 [5952/10089 (59%)]\tLoss: 0.647819\n",
            "Train Epoch: 1 [6016/10089 (59%)]\tLoss: 0.765464\n",
            "Train Epoch: 1 [6080/10089 (60%)]\tLoss: 0.832980\n",
            "Train Epoch: 1 [6144/10089 (61%)]\tLoss: 0.679795\n",
            "Train Epoch: 1 [6208/10089 (61%)]\tLoss: 0.666113\n",
            "Train Epoch: 1 [6272/10089 (62%)]\tLoss: 0.647713\n",
            "Train Epoch: 1 [6336/10089 (63%)]\tLoss: 0.793378\n",
            "Train Epoch: 1 [6400/10089 (63%)]\tLoss: 0.644756\n",
            "Train Epoch: 1 [6464/10089 (64%)]\tLoss: 0.866441\n",
            "Train Epoch: 1 [6528/10089 (65%)]\tLoss: 0.705392\n",
            "Train Epoch: 1 [6592/10089 (65%)]\tLoss: 0.709824\n",
            "Train Epoch: 1 [6656/10089 (66%)]\tLoss: 0.595364\n",
            "Train Epoch: 1 [6720/10089 (66%)]\tLoss: 0.623845\n",
            "Train Epoch: 1 [6784/10089 (67%)]\tLoss: 0.635035\n",
            "Train Epoch: 1 [6848/10089 (68%)]\tLoss: 0.550287\n",
            "Train Epoch: 1 [6912/10089 (68%)]\tLoss: 0.704413\n",
            "Train Epoch: 1 [6976/10089 (69%)]\tLoss: 0.821075\n",
            "Train Epoch: 1 [7040/10089 (70%)]\tLoss: 0.566855\n",
            "Train Epoch: 1 [7104/10089 (70%)]\tLoss: 0.766888\n",
            "Train Epoch: 1 [7168/10089 (71%)]\tLoss: 0.689621\n",
            "Train Epoch: 1 [7232/10089 (72%)]\tLoss: 0.638946\n",
            "Train Epoch: 1 [7296/10089 (72%)]\tLoss: 0.699739\n",
            "Train Epoch: 1 [7360/10089 (73%)]\tLoss: 0.756520\n",
            "Train Epoch: 1 [7424/10089 (73%)]\tLoss: 0.751390\n",
            "Train Epoch: 1 [7488/10089 (74%)]\tLoss: 0.568797\n",
            "Train Epoch: 1 [7552/10089 (75%)]\tLoss: 0.572074\n",
            "Train Epoch: 1 [7616/10089 (75%)]\tLoss: 0.718471\n",
            "Train Epoch: 1 [7680/10089 (76%)]\tLoss: 0.617882\n",
            "Train Epoch: 1 [7744/10089 (77%)]\tLoss: 0.658486\n",
            "Train Epoch: 1 [7808/10089 (77%)]\tLoss: 0.663036\n",
            "Train Epoch: 1 [7872/10089 (78%)]\tLoss: 0.812787\n",
            "Train Epoch: 1 [7936/10089 (78%)]\tLoss: 0.620952\n",
            "Train Epoch: 1 [8000/10089 (79%)]\tLoss: 0.632403\n",
            "Train Epoch: 1 [8064/10089 (80%)]\tLoss: 0.697441\n",
            "Train Epoch: 1 [8128/10089 (80%)]\tLoss: 0.722749\n",
            "Train Epoch: 1 [8192/10089 (81%)]\tLoss: 0.732709\n",
            "Train Epoch: 1 [8256/10089 (82%)]\tLoss: 0.591723\n",
            "Train Epoch: 1 [8320/10089 (82%)]\tLoss: 0.761244\n",
            "Train Epoch: 1 [8384/10089 (83%)]\tLoss: 0.646120\n",
            "Train Epoch: 1 [8448/10089 (84%)]\tLoss: 0.566675\n",
            "Train Epoch: 1 [8512/10089 (84%)]\tLoss: 0.716718\n",
            "Train Epoch: 1 [8576/10089 (85%)]\tLoss: 0.688412\n",
            "Train Epoch: 1 [8640/10089 (85%)]\tLoss: 0.671373\n",
            "Train Epoch: 1 [8704/10089 (86%)]\tLoss: 0.690676\n",
            "Train Epoch: 1 [8768/10089 (87%)]\tLoss: 0.644884\n",
            "Train Epoch: 1 [8832/10089 (87%)]\tLoss: 0.690202\n",
            "Train Epoch: 1 [8896/10089 (88%)]\tLoss: 0.705109\n",
            "Train Epoch: 1 [8960/10089 (89%)]\tLoss: 0.699451\n",
            "Train Epoch: 1 [9024/10089 (89%)]\tLoss: 0.703742\n",
            "Train Epoch: 1 [9088/10089 (90%)]\tLoss: 0.571055\n",
            "Train Epoch: 1 [9152/10089 (91%)]\tLoss: 0.680050\n",
            "Train Epoch: 1 [9216/10089 (91%)]\tLoss: 0.726085\n",
            "Train Epoch: 1 [9280/10089 (92%)]\tLoss: 0.571060\n",
            "Train Epoch: 1 [9344/10089 (92%)]\tLoss: 0.645543\n",
            "Train Epoch: 1 [9408/10089 (93%)]\tLoss: 0.631824\n",
            "Train Epoch: 1 [9472/10089 (94%)]\tLoss: 0.586530\n",
            "Train Epoch: 1 [9536/10089 (94%)]\tLoss: 0.801211\n",
            "Train Epoch: 1 [9600/10089 (95%)]\tLoss: 0.511996\n",
            "Train Epoch: 1 [9664/10089 (96%)]\tLoss: 0.723349\n",
            "Train Epoch: 1 [9728/10089 (96%)]\tLoss: 0.630090\n",
            "Train Epoch: 1 [9792/10089 (97%)]\tLoss: 0.693506\n",
            "Train Epoch: 1 [9856/10089 (97%)]\tLoss: 0.566884\n",
            "Train Epoch: 1 [9920/10089 (98%)]\tLoss: 0.644537\n",
            "Train Epoch: 1 [9984/10089 (99%)]\tLoss: 0.556907\n",
            "Train Epoch: 1 [6437/10089 (99%)]\tLoss: 0.640981\n",
            "\n",
            " Train set: Average loss: 0.6040\n",
            "\n"
          ]
        },
        {
          "output_type": "error",
          "ename": "KeyboardInterrupt",
          "evalue": "ignored",
          "traceback": [
            "\u001b[0;31m---------------------------------------------------------------------------\u001b[0m",
            "\u001b[0;31mKeyboardInterrupt\u001b[0m                         Traceback (most recent call last)",
            "\u001b[0;32m<ipython-input-14-10f95059063f>\u001b[0m in \u001b[0;36m<module>\u001b[0;34m\u001b[0m\n\u001b[1;32m      3\u001b[0m         \u001b[0mtrain\u001b[0m\u001b[0;34m(\u001b[0m\u001b[0mmodel\u001b[0m\u001b[0;34m,\u001b[0m \u001b[0mdevice\u001b[0m\u001b[0;34m,\u001b[0m \u001b[0mtraining_data_loader\u001b[0m\u001b[0;34m,\u001b[0m \u001b[0moptimizer\u001b[0m\u001b[0;34m,\u001b[0m \u001b[0mepoch\u001b[0m\u001b[0;34m)\u001b[0m\u001b[0;34m\u001b[0m\u001b[0;34m\u001b[0m\u001b[0m\n\u001b[1;32m      4\u001b[0m         \u001b[0mtrain_loss\u001b[0m \u001b[0;34m=\u001b[0m \u001b[0mval\u001b[0m\u001b[0;34m(\u001b[0m\u001b[0mmodel\u001b[0m\u001b[0;34m,\u001b[0m \u001b[0mdevice\u001b[0m\u001b[0;34m,\u001b[0m \u001b[0mtraining_data_loader\u001b[0m\u001b[0;34m,\u001b[0m\u001b[0;34m'Train'\u001b[0m\u001b[0;34m)\u001b[0m\u001b[0;34m\u001b[0m\u001b[0;34m\u001b[0m\u001b[0m\n\u001b[0;32m----> 5\u001b[0;31m         \u001b[0mval_loss\u001b[0m \u001b[0;34m=\u001b[0m \u001b[0mval\u001b[0m\u001b[0;34m(\u001b[0m\u001b[0mmodel\u001b[0m\u001b[0;34m,\u001b[0m \u001b[0mdevice\u001b[0m\u001b[0;34m,\u001b[0m \u001b[0mvalidating_data_loader\u001b[0m\u001b[0;34m,\u001b[0m\u001b[0;34m'Validate'\u001b[0m\u001b[0;34m)\u001b[0m\u001b[0;34m\u001b[0m\u001b[0;34m\u001b[0m\u001b[0m\n\u001b[0m\u001b[1;32m      6\u001b[0m         \u001b[0mtrain_loss\u001b[0m\u001b[0;34m.\u001b[0m\u001b[0mappend\u001b[0m\u001b[0;34m(\u001b[0m\u001b[0mtrain_loss\u001b[0m\u001b[0;34m)\u001b[0m\u001b[0;34m\u001b[0m\u001b[0;34m\u001b[0m\u001b[0m\n\u001b[1;32m      7\u001b[0m         \u001b[0mval_loss\u001b[0m\u001b[0;34m.\u001b[0m\u001b[0mappend\u001b[0m\u001b[0;34m(\u001b[0m\u001b[0mval_loss\u001b[0m\u001b[0;34m)\u001b[0m\u001b[0;34m\u001b[0m\u001b[0;34m\u001b[0m\u001b[0m\n",
            "\u001b[0;32m<ipython-input-9-9f8a099acd22>\u001b[0m in \u001b[0;36mval\u001b[0;34m(model, device, loader, loader_name)\u001b[0m\n\u001b[1;32m      3\u001b[0m     \u001b[0mloss\u001b[0m \u001b[0;34m=\u001b[0m \u001b[0;36m0\u001b[0m\u001b[0;34m\u001b[0m\u001b[0;34m\u001b[0m\u001b[0m\n\u001b[1;32m      4\u001b[0m     \u001b[0;32mwith\u001b[0m \u001b[0mtorch\u001b[0m\u001b[0;34m.\u001b[0m\u001b[0mno_grad\u001b[0m\u001b[0;34m(\u001b[0m\u001b[0;34m)\u001b[0m\u001b[0;34m:\u001b[0m\u001b[0;34m\u001b[0m\u001b[0;34m\u001b[0m\u001b[0m\n\u001b[0;32m----> 5\u001b[0;31m         \u001b[0;32mfor\u001b[0m \u001b[0mbatch_idx\u001b[0m\u001b[0;34m,\u001b[0m \u001b[0;34m(\u001b[0m\u001b[0mdata\u001b[0m\u001b[0;34m,\u001b[0m \u001b[0mtarget\u001b[0m\u001b[0;34m)\u001b[0m \u001b[0;32min\u001b[0m \u001b[0menumerate\u001b[0m\u001b[0;34m(\u001b[0m\u001b[0mloader\u001b[0m\u001b[0;34m)\u001b[0m\u001b[0;34m:\u001b[0m\u001b[0;34m\u001b[0m\u001b[0;34m\u001b[0m\u001b[0m\n\u001b[0m\u001b[1;32m      6\u001b[0m             \u001b[0mdata\u001b[0m\u001b[0;34m,\u001b[0m \u001b[0mtarget\u001b[0m \u001b[0;34m=\u001b[0m \u001b[0mdata\u001b[0m\u001b[0;34m.\u001b[0m\u001b[0mto\u001b[0m\u001b[0;34m(\u001b[0m\u001b[0mdevice\u001b[0m\u001b[0;34m)\u001b[0m\u001b[0;34m,\u001b[0m \u001b[0mtarget\u001b[0m\u001b[0;34m.\u001b[0m\u001b[0mto\u001b[0m\u001b[0;34m(\u001b[0m\u001b[0mdevice\u001b[0m\u001b[0;34m)\u001b[0m\u001b[0;34m\u001b[0m\u001b[0;34m\u001b[0m\u001b[0m\n\u001b[1;32m      7\u001b[0m             \u001b[0moutput\u001b[0m \u001b[0;34m=\u001b[0m \u001b[0mmodel\u001b[0m\u001b[0;34m(\u001b[0m\u001b[0mdata\u001b[0m\u001b[0;34m)\u001b[0m\u001b[0;34m\u001b[0m\u001b[0;34m\u001b[0m\u001b[0m\n",
            "\u001b[0;32m/usr/local/lib/python3.8/dist-packages/torch/utils/data/dataloader.py\u001b[0m in \u001b[0;36m__next__\u001b[0;34m(self)\u001b[0m\n\u001b[1;32m    626\u001b[0m                 \u001b[0;31m# TODO(https://github.com/pytorch/pytorch/issues/76750)\u001b[0m\u001b[0;34m\u001b[0m\u001b[0;34m\u001b[0m\u001b[0;34m\u001b[0m\u001b[0m\n\u001b[1;32m    627\u001b[0m                 \u001b[0mself\u001b[0m\u001b[0;34m.\u001b[0m\u001b[0m_reset\u001b[0m\u001b[0;34m(\u001b[0m\u001b[0;34m)\u001b[0m  \u001b[0;31m# type: ignore[call-arg]\u001b[0m\u001b[0;34m\u001b[0m\u001b[0;34m\u001b[0m\u001b[0m\n\u001b[0;32m--> 628\u001b[0;31m             \u001b[0mdata\u001b[0m \u001b[0;34m=\u001b[0m \u001b[0mself\u001b[0m\u001b[0;34m.\u001b[0m\u001b[0m_next_data\u001b[0m\u001b[0;34m(\u001b[0m\u001b[0;34m)\u001b[0m\u001b[0;34m\u001b[0m\u001b[0;34m\u001b[0m\u001b[0m\n\u001b[0m\u001b[1;32m    629\u001b[0m             \u001b[0mself\u001b[0m\u001b[0;34m.\u001b[0m\u001b[0m_num_yielded\u001b[0m \u001b[0;34m+=\u001b[0m \u001b[0;36m1\u001b[0m\u001b[0;34m\u001b[0m\u001b[0;34m\u001b[0m\u001b[0m\n\u001b[1;32m    630\u001b[0m             \u001b[0;32mif\u001b[0m \u001b[0mself\u001b[0m\u001b[0;34m.\u001b[0m\u001b[0m_dataset_kind\u001b[0m \u001b[0;34m==\u001b[0m \u001b[0m_DatasetKind\u001b[0m\u001b[0;34m.\u001b[0m\u001b[0mIterable\u001b[0m \u001b[0;32mand\u001b[0m\u001b[0;31m \u001b[0m\u001b[0;31m\\\u001b[0m\u001b[0;34m\u001b[0m\u001b[0;34m\u001b[0m\u001b[0m\n",
            "\u001b[0;32m/usr/local/lib/python3.8/dist-packages/torch/utils/data/dataloader.py\u001b[0m in \u001b[0;36m_next_data\u001b[0;34m(self)\u001b[0m\n\u001b[1;32m    669\u001b[0m     \u001b[0;32mdef\u001b[0m \u001b[0m_next_data\u001b[0m\u001b[0;34m(\u001b[0m\u001b[0mself\u001b[0m\u001b[0;34m)\u001b[0m\u001b[0;34m:\u001b[0m\u001b[0;34m\u001b[0m\u001b[0;34m\u001b[0m\u001b[0m\n\u001b[1;32m    670\u001b[0m         \u001b[0mindex\u001b[0m \u001b[0;34m=\u001b[0m \u001b[0mself\u001b[0m\u001b[0;34m.\u001b[0m\u001b[0m_next_index\u001b[0m\u001b[0;34m(\u001b[0m\u001b[0;34m)\u001b[0m  \u001b[0;31m# may raise StopIteration\u001b[0m\u001b[0;34m\u001b[0m\u001b[0;34m\u001b[0m\u001b[0m\n\u001b[0;32m--> 671\u001b[0;31m         \u001b[0mdata\u001b[0m \u001b[0;34m=\u001b[0m \u001b[0mself\u001b[0m\u001b[0;34m.\u001b[0m\u001b[0m_dataset_fetcher\u001b[0m\u001b[0;34m.\u001b[0m\u001b[0mfetch\u001b[0m\u001b[0;34m(\u001b[0m\u001b[0mindex\u001b[0m\u001b[0;34m)\u001b[0m  \u001b[0;31m# may raise StopIteration\u001b[0m\u001b[0;34m\u001b[0m\u001b[0;34m\u001b[0m\u001b[0m\n\u001b[0m\u001b[1;32m    672\u001b[0m         \u001b[0;32mif\u001b[0m \u001b[0mself\u001b[0m\u001b[0;34m.\u001b[0m\u001b[0m_pin_memory\u001b[0m\u001b[0;34m:\u001b[0m\u001b[0;34m\u001b[0m\u001b[0;34m\u001b[0m\u001b[0m\n\u001b[1;32m    673\u001b[0m             \u001b[0mdata\u001b[0m \u001b[0;34m=\u001b[0m \u001b[0m_utils\u001b[0m\u001b[0;34m.\u001b[0m\u001b[0mpin_memory\u001b[0m\u001b[0;34m.\u001b[0m\u001b[0mpin_memory\u001b[0m\u001b[0;34m(\u001b[0m\u001b[0mdata\u001b[0m\u001b[0;34m,\u001b[0m \u001b[0mself\u001b[0m\u001b[0;34m.\u001b[0m\u001b[0m_pin_memory_device\u001b[0m\u001b[0;34m)\u001b[0m\u001b[0;34m\u001b[0m\u001b[0;34m\u001b[0m\u001b[0m\n",
            "\u001b[0;32m/usr/local/lib/python3.8/dist-packages/torch/utils/data/_utils/fetch.py\u001b[0m in \u001b[0;36mfetch\u001b[0;34m(self, possibly_batched_index)\u001b[0m\n\u001b[1;32m     56\u001b[0m                 \u001b[0mdata\u001b[0m \u001b[0;34m=\u001b[0m \u001b[0mself\u001b[0m\u001b[0;34m.\u001b[0m\u001b[0mdataset\u001b[0m\u001b[0;34m.\u001b[0m\u001b[0m__getitems__\u001b[0m\u001b[0;34m(\u001b[0m\u001b[0mpossibly_batched_index\u001b[0m\u001b[0;34m)\u001b[0m\u001b[0;34m\u001b[0m\u001b[0;34m\u001b[0m\u001b[0m\n\u001b[1;32m     57\u001b[0m             \u001b[0;32melse\u001b[0m\u001b[0;34m:\u001b[0m\u001b[0;34m\u001b[0m\u001b[0;34m\u001b[0m\u001b[0m\n\u001b[0;32m---> 58\u001b[0;31m                 \u001b[0mdata\u001b[0m \u001b[0;34m=\u001b[0m \u001b[0;34m[\u001b[0m\u001b[0mself\u001b[0m\u001b[0;34m.\u001b[0m\u001b[0mdataset\u001b[0m\u001b[0;34m[\u001b[0m\u001b[0midx\u001b[0m\u001b[0;34m]\u001b[0m \u001b[0;32mfor\u001b[0m \u001b[0midx\u001b[0m \u001b[0;32min\u001b[0m \u001b[0mpossibly_batched_index\u001b[0m\u001b[0;34m]\u001b[0m\u001b[0;34m\u001b[0m\u001b[0;34m\u001b[0m\u001b[0m\n\u001b[0m\u001b[1;32m     59\u001b[0m         \u001b[0;32melse\u001b[0m\u001b[0;34m:\u001b[0m\u001b[0;34m\u001b[0m\u001b[0;34m\u001b[0m\u001b[0m\n\u001b[1;32m     60\u001b[0m             \u001b[0mdata\u001b[0m \u001b[0;34m=\u001b[0m \u001b[0mself\u001b[0m\u001b[0;34m.\u001b[0m\u001b[0mdataset\u001b[0m\u001b[0;34m[\u001b[0m\u001b[0mpossibly_batched_index\u001b[0m\u001b[0;34m]\u001b[0m\u001b[0;34m\u001b[0m\u001b[0;34m\u001b[0m\u001b[0m\n",
            "\u001b[0;32m/usr/local/lib/python3.8/dist-packages/torch/utils/data/_utils/fetch.py\u001b[0m in \u001b[0;36m<listcomp>\u001b[0;34m(.0)\u001b[0m\n\u001b[1;32m     56\u001b[0m                 \u001b[0mdata\u001b[0m \u001b[0;34m=\u001b[0m \u001b[0mself\u001b[0m\u001b[0;34m.\u001b[0m\u001b[0mdataset\u001b[0m\u001b[0;34m.\u001b[0m\u001b[0m__getitems__\u001b[0m\u001b[0;34m(\u001b[0m\u001b[0mpossibly_batched_index\u001b[0m\u001b[0;34m)\u001b[0m\u001b[0;34m\u001b[0m\u001b[0;34m\u001b[0m\u001b[0m\n\u001b[1;32m     57\u001b[0m             \u001b[0;32melse\u001b[0m\u001b[0;34m:\u001b[0m\u001b[0;34m\u001b[0m\u001b[0;34m\u001b[0m\u001b[0m\n\u001b[0;32m---> 58\u001b[0;31m                 \u001b[0mdata\u001b[0m \u001b[0;34m=\u001b[0m \u001b[0;34m[\u001b[0m\u001b[0mself\u001b[0m\u001b[0;34m.\u001b[0m\u001b[0mdataset\u001b[0m\u001b[0;34m[\u001b[0m\u001b[0midx\u001b[0m\u001b[0;34m]\u001b[0m \u001b[0;32mfor\u001b[0m \u001b[0midx\u001b[0m \u001b[0;32min\u001b[0m \u001b[0mpossibly_batched_index\u001b[0m\u001b[0;34m]\u001b[0m\u001b[0;34m\u001b[0m\u001b[0;34m\u001b[0m\u001b[0m\n\u001b[0m\u001b[1;32m     59\u001b[0m         \u001b[0;32melse\u001b[0m\u001b[0;34m:\u001b[0m\u001b[0;34m\u001b[0m\u001b[0;34m\u001b[0m\u001b[0m\n\u001b[1;32m     60\u001b[0m             \u001b[0mdata\u001b[0m \u001b[0;34m=\u001b[0m \u001b[0mself\u001b[0m\u001b[0;34m.\u001b[0m\u001b[0mdataset\u001b[0m\u001b[0;34m[\u001b[0m\u001b[0mpossibly_batched_index\u001b[0m\u001b[0;34m]\u001b[0m\u001b[0;34m\u001b[0m\u001b[0;34m\u001b[0m\u001b[0m\n",
            "\u001b[0;32m<ipython-input-6-16f0cc8cac95>\u001b[0m in \u001b[0;36m__getitem__\u001b[0;34m(self, idx)\u001b[0m\n\u001b[1;32m      8\u001b[0m \u001b[0;34m\u001b[0m\u001b[0m\n\u001b[1;32m      9\u001b[0m     \u001b[0;32mdef\u001b[0m \u001b[0m__getitem__\u001b[0m\u001b[0;34m(\u001b[0m\u001b[0mself\u001b[0m\u001b[0;34m,\u001b[0m \u001b[0midx\u001b[0m\u001b[0;34m)\u001b[0m\u001b[0;34m:\u001b[0m\u001b[0;34m\u001b[0m\u001b[0;34m\u001b[0m\u001b[0m\n\u001b[0;32m---> 10\u001b[0;31m         \u001b[0;32mreturn\u001b[0m \u001b[0mtransform\u001b[0m\u001b[0;34m(\u001b[0m\u001b[0mImage\u001b[0m\u001b[0;34m.\u001b[0m\u001b[0mopen\u001b[0m\u001b[0;34m(\u001b[0m\u001b[0mdataset_path\u001b[0m\u001b[0;34m(\u001b[0m\u001b[0mself\u001b[0m\u001b[0;34m.\u001b[0m\u001b[0mimg_folder\u001b[0m\u001b[0;34m,\u001b[0m\u001b[0mstr\u001b[0m\u001b[0;34m(\u001b[0m\u001b[0mself\u001b[0m\u001b[0;34m.\u001b[0m\u001b[0mcsv\u001b[0m\u001b[0;34m[\u001b[0m\u001b[0;34m'id'\u001b[0m\u001b[0;34m]\u001b[0m\u001b[0;34m[\u001b[0m\u001b[0midx\u001b[0m\u001b[0;34m]\u001b[0m\u001b[0;34m)\u001b[0m\u001b[0;34m+\u001b[0m\u001b[0;34m'.png'\u001b[0m\u001b[0;34m)\u001b[0m\u001b[0;34m)\u001b[0m\u001b[0;34m.\u001b[0m\u001b[0mresize\u001b[0m\u001b[0;34m(\u001b[0m\u001b[0;34m(\u001b[0m\u001b[0;36m256\u001b[0m\u001b[0;34m,\u001b[0m\u001b[0;36m256\u001b[0m\u001b[0;34m)\u001b[0m\u001b[0;34m)\u001b[0m\u001b[0;34m)\u001b[0m\u001b[0;34m.\u001b[0m\u001b[0mdouble\u001b[0m\u001b[0;34m(\u001b[0m\u001b[0;34m)\u001b[0m\u001b[0;34m,\u001b[0m\u001b[0;31m\\\u001b[0m\u001b[0;34m\u001b[0m\u001b[0;34m\u001b[0m\u001b[0m\n\u001b[0m\u001b[1;32m     11\u001b[0m                \u001b[0mtorch\u001b[0m\u001b[0;34m.\u001b[0m\u001b[0mfrom_numpy\u001b[0m\u001b[0;34m(\u001b[0m\u001b[0mnp\u001b[0m\u001b[0;34m.\u001b[0m\u001b[0marray\u001b[0m\u001b[0;34m(\u001b[0m\u001b[0mself\u001b[0m\u001b[0;34m.\u001b[0m\u001b[0mcsv\u001b[0m\u001b[0;34m[\u001b[0m\u001b[0;34m'boneage zscore'\u001b[0m\u001b[0;34m]\u001b[0m\u001b[0;34m[\u001b[0m\u001b[0midx\u001b[0m\u001b[0;34m]\u001b[0m\u001b[0;34m)\u001b[0m\u001b[0;34m)\u001b[0m\u001b[0;34m.\u001b[0m\u001b[0mdouble\u001b[0m\u001b[0;34m(\u001b[0m\u001b[0;34m)\u001b[0m\u001b[0;34m\u001b[0m\u001b[0;34m\u001b[0m\u001b[0m\n",
            "\u001b[0;32m/usr/local/lib/python3.8/dist-packages/PIL/Image.py\u001b[0m in \u001b[0;36mopen\u001b[0;34m(fp, mode)\u001b[0m\n\u001b[1;32m   2850\u001b[0m         \u001b[0mexclusive_fp\u001b[0m \u001b[0;34m=\u001b[0m \u001b[0;32mTrue\u001b[0m\u001b[0;34m\u001b[0m\u001b[0;34m\u001b[0m\u001b[0m\n\u001b[1;32m   2851\u001b[0m \u001b[0;34m\u001b[0m\u001b[0m\n\u001b[0;32m-> 2852\u001b[0;31m     \u001b[0mprefix\u001b[0m \u001b[0;34m=\u001b[0m \u001b[0mfp\u001b[0m\u001b[0;34m.\u001b[0m\u001b[0mread\u001b[0m\u001b[0;34m(\u001b[0m\u001b[0;36m16\u001b[0m\u001b[0;34m)\u001b[0m\u001b[0;34m\u001b[0m\u001b[0;34m\u001b[0m\u001b[0m\n\u001b[0m\u001b[1;32m   2853\u001b[0m \u001b[0;34m\u001b[0m\u001b[0m\n\u001b[1;32m   2854\u001b[0m     \u001b[0mpreinit\u001b[0m\u001b[0;34m(\u001b[0m\u001b[0;34m)\u001b[0m\u001b[0;34m\u001b[0m\u001b[0;34m\u001b[0m\u001b[0m\n",
            "\u001b[0;31mKeyboardInterrupt\u001b[0m: "
          ]
        }
      ]
    },
    {
      "cell_type": "code",
      "source": [
        "# check = torch.rand(5,1,256,256)\n",
        "# model = BoneAgePredictor();\n",
        "# print(model.forward(check).size())"
      ],
      "metadata": {
        "id": "Y7ycrSgtQtp8"
      },
      "execution_count": null,
      "outputs": []
    },
    {
      "cell_type": "code",
      "source": [
        "# check = pd.read_csv(dataset_path('boneage-training-dataset.csv'));\n",
        "# print(check)\n",
        "# print(check['boneage'][0])\n",
        "# print(check['id'][1])\n",
        "# check = Image.open(dataset_path('boneage-training-dataset',str(check['id'][1])+'.png')).resize((256,256))\n",
        "# print(check)\n",
        "# # check = transform(check)\n",
        "# # print(check.size())\n",
        "# # check = torch.from_numpy(np.array(check['boneage'][0]))\n",
        "# # print(check)"
      ],
      "metadata": {
        "id": "ces1HsnPbNtq"
      },
      "execution_count": null,
      "outputs": []
    }
  ]
}