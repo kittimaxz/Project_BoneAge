{
  "nbformat": 4,
  "nbformat_minor": 0,
  "metadata": {
    "colab": {
      "provenance": [],
      "machine_shape": "hm",
      "include_colab_link": true
    },
    "kernelspec": {
      "name": "python3",
      "display_name": "Python 3"
    },
    "language_info": {
      "name": "python"
    },
    "gpuClass": "standard"
  },
  "cells": [
    {
      "cell_type": "markdown",
      "metadata": {
        "id": "view-in-github",
        "colab_type": "text"
      },
      "source": [
        "<a href=\"https://colab.research.google.com/github/kittimaxz/Project_BoneAge/blob/main/BoneAgePredictor_5-Fold.ipynb\" target=\"_parent\"><img src=\"https://colab.research.google.com/assets/colab-badge.svg\" alt=\"Open In Colab\"/></a>"
      ]
    },
    {
      "cell_type": "code",
      "source": [
        "import numpy as np\n",
        "import torch\n",
        "import torch.nn as nn\n",
        "import torch.nn.functional as F\n",
        "import torch.optim as optim\n",
        "from torchvision import datasets, transforms\n",
        "from torch.utils.data import Dataset, DataLoader,SubsetRandomSampler, ConcatDataset\n",
        "from torch.optim.lr_scheduler import ReduceLROnPlateau\n",
        "import os\n",
        "import pandas as pd\n",
        "from PIL import Image\n",
        "import skimage.transform\n",
        "from sklearn.model_selection import KFold"
      ],
      "metadata": {
        "id": "pduFNGhc55Dw"
      },
      "execution_count": 1,
      "outputs": []
    },
    {
      "cell_type": "code",
      "source": [
        "from google.colab import drive # เชื่อม drive ของเรา ถ้าเชื่อมสำเร็จจะขึ้นคำว่าMounted at /content/drive \n",
        "drive.mount('/content/drive')"
      ],
      "metadata": {
        "colab": {
          "base_uri": "https://localhost:8080/"
        },
        "id": "pnsm5FPI6met",
        "outputId": "93556f3f-4c2d-4379-9edb-ad4763bc62db"
      },
      "execution_count": 2,
      "outputs": [
        {
          "output_type": "stream",
          "name": "stdout",
          "text": [
            "Drive already mounted at /content/drive; to attempt to forcibly remount, call drive.mount(\"/content/drive\", force_remount=True).\n"
          ]
        }
      ]
    },
    {
      "cell_type": "code",
      "source": [
        "def dataset_path(*rel_path):\n",
        "    return os.path.join('/content/drive/My Drive/Project_Boneage', *rel_path);"
      ],
      "metadata": {
        "id": "8SUUfnwf6qqC"
      },
      "execution_count": 3,
      "outputs": []
    },
    {
      "cell_type": "code",
      "source": [
        "transform = transforms.Compose([\n",
        "    transforms.ToTensor()\n",
        "])"
      ],
      "metadata": {
        "id": "xGcSme2e-cjG"
      },
      "execution_count": 4,
      "outputs": []
    },
    {
      "cell_type": "code",
      "source": [
        "class BoneAgeTrainingDataset(Dataset):\n",
        "    def __init__(self,csv_path,img_folder):\n",
        "        self.csv = pd.read_csv(dataset_path(csv_path));\n",
        "        self.img_folder = img_folder;        \n",
        "\n",
        "    def __len__(self):\n",
        "        return self.csv.shape[0]\n",
        "\n",
        "    def __getitem__(self, idx):\n",
        "        male = np.array([1]) if (self.csv['male'][idx] == 'TRUE') else np.array([0])\n",
        "        return transform(Image.open(dataset_path(self.img_folder,str(self.csv['id'][idx])+'.png')).resize((256,256))).double(),\\\n",
        "               torch.from_numpy(np.array(self.csv['boneage'][idx])).double(),\\\n",
        "               torch.from_numpy(male).double()"
      ],
      "metadata": {
        "id": "yBJUXtkR691X"
      },
      "execution_count": 5,
      "outputs": []
    },
    {
      "cell_type": "code",
      "source": [
        "class BoneAgeValidationDataset(Dataset):\n",
        "    def __init__(self,csv_path,img_folder):\n",
        "        self.csv = pd.read_csv(dataset_path(csv_path));\n",
        "        self.img_folder = img_folder;        \n",
        "\n",
        "    def __len__(self):\n",
        "        return self.csv.shape[0]\n",
        "\n",
        "    def __getitem__(self, idx):\n",
        "        male = np.array([1]) if (self.csv['male'][idx] == 'TRUE') else np.array([0])\n",
        "        return transform(Image.open(dataset_path(self.img_folder,str(self.csv['id'][idx])+'.png')).resize((256,256))).double(),\\\n",
        "               torch.from_numpy(np.array(self.csv['boneage'][idx])).double(),\\\n",
        "               torch.from_numpy(male).double()"
      ],
      "metadata": {
        "id": "V-L_1F9P5Zgl"
      },
      "execution_count": 6,
      "outputs": []
    },
    {
      "cell_type": "code",
      "source": [
        "class BoneAgeTestingDataset(Dataset):\n",
        "    def __init__(self,csv_path,img_folder):\n",
        "        self.csv = pd.read_csv(dataset_path(csv_path));\n",
        "        self.img_folder = img_folder;        \n",
        "\n",
        "    def __len__(self):\n",
        "        return self.csv.shape[0]\n",
        "\n",
        "    def __getitem__(self, idx):\n",
        "        male = np.array([1]) if (self.csv['male'][idx] == 'TRUE') else np.array([0])\n",
        "        return transform(Image.open(dataset_path(self.img_folder,str(self.csv['id'][idx])+'.png')).resize((256,256))).double(),\\\n",
        "               torch.from_numpy(np.array(self.csv['boneage'][idx])).double(),\\\n",
        "               torch.from_numpy(male).double()"
      ],
      "metadata": {
        "id": "D-PjS-wI0WxX"
      },
      "execution_count": 7,
      "outputs": []
    },
    {
      "cell_type": "code",
      "source": [
        "class BoneAgePredictor(nn.Module):\n",
        "    def __init__(self):\n",
        "        super(BoneAgePredictor, self).__init__()\n",
        "        # Layer 1\n",
        "        self.conv1 = nn.Conv2d(1, 16, 3)\n",
        "        nn.init.kaiming_normal_(self.conv1.weight)\n",
        "        self.batch1 = nn.BatchNorm2d(16)\n",
        "        # Layer 2\n",
        "        self.conv2 = nn.Conv2d(16, 32, 3)\n",
        "        nn.init.kaiming_normal_(self.conv2.weight)\n",
        "        self.batch2 = nn.BatchNorm2d(32)\n",
        "        # Layer 3\n",
        "        self.conv3 = nn.Conv2d(32, 64, 3)\n",
        "        nn.init.kaiming_normal_(self.conv3.weight)\n",
        "        self.batch3 = nn.BatchNorm2d(64)\n",
        "        # Layer 4\n",
        "        self.conv4 = nn.Conv2d(64, 128, 3)\n",
        "        nn.init.kaiming_normal_(self.conv4.weight)\n",
        "        self.batch4 = nn.BatchNorm2d(128)\n",
        "        # Layer 5\n",
        "        self.conv5 = nn.Conv2d(128, 128, 3)\n",
        "        nn.init.kaiming_normal_(self.conv5.weight)\n",
        "        self.batch5 = nn.BatchNorm2d(128)\n",
        "        # Fully connected\n",
        "        self.fc1 = nn.Linear(4609, 68)\n",
        "        self.fc2 = nn.Linear(69, 1)\n",
        "        #self.fc2 = nn.Linear(64, 1)\n",
        "    \n",
        "    def forward(self, x, m):\n",
        "        # Layer 1\n",
        "        x = F.relu(self.batch1(self.conv1(x)))\n",
        "        x = F.max_pool2d(x, 2)\n",
        "        # Layer 2\n",
        "        x = F.relu(self.batch2(self.conv2(x)))\n",
        "        x = F.max_pool2d(x, 2)\n",
        "        # Layer 3\n",
        "        x = F.relu(self.batch3(self.conv3(x)))\n",
        "        x = F.max_pool2d(x, 2)\n",
        "        # Layer 4\n",
        "        x = F.relu(self.batch4(self.conv4(x)))\n",
        "        x = F.max_pool2d(x, 2)\n",
        "        # Layer 5\n",
        "        x = F.relu(self.batch5(self.conv5(x)))\n",
        "        x = F.max_pool2d(x, 2)\n",
        "        \n",
        "        # Pooling\n",
        "        x = x.view(-1,4608)\n",
        "        x = torch.cat((x,m), axis = 1)\n",
        "        x = self.fc1(x)\n",
        "        x = torch.cat((x,m), axis = 1)\n",
        "        x = self.fc2(x)\n",
        "        #x = torch.cat((x,m), axis = 1)\n",
        "        #x = self.fc3(x)\n",
        "        return x"
      ],
      "metadata": {
        "id": "WgTn4ZQ3AwYh"
      },
      "execution_count": 8,
      "outputs": []
    },
    {
      "cell_type": "code",
      "source": [
        "# Split your dataset into 5 folds\n",
        "kfold = KFold(n_splits=5, shuffle=True,random_state=42)"
      ],
      "metadata": {
        "id": "Ytr6IVoDETpV"
      },
      "execution_count": 9,
      "outputs": []
    },
    {
      "cell_type": "code",
      "source": [
        "#for fold, (train, validation) in enumerate(kfold.split(np.arange(len(dataset)))):\n",
        "    #print(f'Fold {fold+1}')"
      ],
      "metadata": {
        "id": "IvxFpQ48BRbl"
      },
      "execution_count": 10,
      "outputs": []
    },
    {
      "cell_type": "code",
      "source": [
        "def train(fold,model, device, train_loader, optimizer, epoch):\n",
        "    model.train()\n",
        "    for batch_idx,fold, (data, target, male) in enumerate(kfold(train_loader)):\n",
        "        data, target = data.to(device), target.to(device)\n",
        "        optimizer.zero_grad()\n",
        "        output = model(data, male)\n",
        "        loss = F.l1_loss(output.view(-1), target)\n",
        "        loss.backward()\n",
        "        optimizer.step()\n",
        "        print(f'Fold {fold+1}')\n",
        "        #print('Train Epoch: {} [{}/{} ({:.0f}%)]\\tLoss: {:.6f}'.format(\n",
        "                #epoch, batch_idx * len(data), len(train_loader.dataset),\n",
        "                #100. * batch_idx / len(train_loader), loss.item()))"
      ],
      "metadata": {
        "id": "UXdVbnBtFghc"
      },
      "execution_count": 11,
      "outputs": []
    },
    {
      "cell_type": "code",
      "source": [
        "def validation(fold,model, device, val_loader, loader_name):\n",
        "    model.eval()\n",
        "    loss = 0\n",
        "    with torch.no_grad():\n",
        "        for batch_idx,fold, (data, target, male) in enumerate(kfold(val_loader)):\n",
        "            data, target = data.to(device), target.to(device)\n",
        "            output = model(data, male)\n",
        "            loss += F.l1_loss(output.view(-1), target, reduction='sum').item()  # sum up batch loss            \n",
        "    loss /= len(val_loader.dataset)\n",
        "    print('\\n', loader_name, 'set: Average loss: {:.4f}\\n'.format(loss))\n",
        "    return loss;\n",
        "     "
      ],
      "metadata": {
        "id": "C50cnWSk5miu"
      },
      "execution_count": 12,
      "outputs": []
    },
    {
      "cell_type": "code",
      "source": [
        "def test(model, device, loader, loader_name):\n",
        "    model.eval()\n",
        "    loss = 0\n",
        "    with torch.no_grad():\n",
        "        for batch_idx, (data, target, male) in enumerate(loader):\n",
        "            data, target = data.to(device), target.to(device)\n",
        "            output = model(data, male)\n",
        "            loss += F.l1_loss(output.view(-1), target, reduction='sum').item()  # sum up batch loss            \n",
        "    loss /= len(loader.dataset)\n",
        "    print('\\n', loader_name, 'set: Average loss: {:.4f}\\n'.format(loss))\n",
        "    return loss;"
      ],
      "metadata": {
        "id": "4UbDJqkSGIOY"
      },
      "execution_count": 13,
      "outputs": []
    },
    {
      "cell_type": "code",
      "source": [
        "use_cuda = torch.cuda.is_available()\n",
        "device = torch.device(\"cuda\" if use_cuda else \"cpu\")\n",
        "kwargs = {'num_workers': 0, 'pin_memory': True} if use_cuda else {}\n",
        "trainig_data_loader = torch.utils.data.DataLoader(\n",
        "    BoneAgeTrainingDataset('train_z.csv', 'boneage_training_dataset'),\n",
        "    batch_size=32, shuffle=True, **kwargs)\n",
        "validation_data_loader = torch.utils.data.DataLoader(\n",
        "    BoneAgeValidationDataset('validation_z.csv', 'boneage_validation_dataset'),\n",
        "    batch_size=32, shuffle=True, **kwargs)\n",
        "testing_data_loader = torch.utils.data.DataLoader(\n",
        "    BoneAgeTestingDataset('boneage-test-dataset.csv', 'boneage-test-dataset'),\n",
        "    batch_size=32, shuffle=True, **kwargs)"
      ],
      "metadata": {
        "id": "ns7Mm3vQG1MH"
      },
      "execution_count": 14,
      "outputs": []
    },
    {
      "cell_type": "code",
      "source": [
        "#con_dataset = ConcatDataset((trainig_data_loader,validation_data_loader))\n",
        "#con_dataset"
      ],
      "metadata": {
        "id": "3Q1zGmCiVC7d"
      },
      "execution_count": 15,
      "outputs": []
    },
    {
      "cell_type": "code",
      "source": [
        "#dataset = DataLoader(con_dataset)\n",
        "#dataset"
      ],
      "metadata": {
        "id": "Au6KEHVHMLww"
      },
      "execution_count": 16,
      "outputs": []
    },
    {
      "cell_type": "code",
      "source": [
        "model = BoneAgePredictor().double().to(device)\n",
        "print(model)\n",
        "optimizer = optim.Adam(model.parameters())\n",
        "scheduler = ReduceLROnPlateau(optimizer, factor=0.1, patience=2, min_lr=0.0001, verbose=True)"
      ],
      "metadata": {
        "colab": {
          "base_uri": "https://localhost:8080/"
        },
        "id": "nPQsyeOTH0ny",
        "outputId": "05e09517-f26f-4540-d0d6-249523e12125"
      },
      "execution_count": 17,
      "outputs": [
        {
          "output_type": "stream",
          "name": "stdout",
          "text": [
            "BoneAgePredictor(\n",
            "  (conv1): Conv2d(1, 16, kernel_size=(3, 3), stride=(1, 1))\n",
            "  (batch1): BatchNorm2d(16, eps=1e-05, momentum=0.1, affine=True, track_running_stats=True)\n",
            "  (conv2): Conv2d(16, 32, kernel_size=(3, 3), stride=(1, 1))\n",
            "  (batch2): BatchNorm2d(32, eps=1e-05, momentum=0.1, affine=True, track_running_stats=True)\n",
            "  (conv3): Conv2d(32, 64, kernel_size=(3, 3), stride=(1, 1))\n",
            "  (batch3): BatchNorm2d(64, eps=1e-05, momentum=0.1, affine=True, track_running_stats=True)\n",
            "  (conv4): Conv2d(64, 128, kernel_size=(3, 3), stride=(1, 1))\n",
            "  (batch4): BatchNorm2d(128, eps=1e-05, momentum=0.1, affine=True, track_running_stats=True)\n",
            "  (conv5): Conv2d(128, 128, kernel_size=(3, 3), stride=(1, 1))\n",
            "  (batch5): BatchNorm2d(128, eps=1e-05, momentum=0.1, affine=True, track_running_stats=True)\n",
            "  (fc1): Linear(in_features=4609, out_features=68, bias=True)\n",
            "  (fc2): Linear(in_features=69, out_features=1, bias=True)\n",
            ")\n"
          ]
        }
      ]
    },
    {
      "cell_type": "code",
      "source": [
        "# for fold, (train, validation) in enumerate(kfold.split(np.arange(len(dataset)))):\n",
        "#     print(f'Fold {fold+1}')\n",
        "#     train_subsampler = SubsetRandomSampler(train)\n",
        "#     training = DataLoader(dataset,sampler = train_subsampler,batch_size=32)\n",
        "#     validation_subsampler = SubsetRandomSampler(validation)\n",
        "#     validate= DataLoader(dataset,sampler = validation_subsampler,batch_size=32)\n",
        "#     train_losses = []\n",
        "#     val_losses = []\n",
        "#     for epoch in range(20):\n",
        "#         train(model,device, training, optimizer, epoch)\n",
        "#         train_loss = validation(model,device,training,'Train')\n",
        "#         val_loss = validation(model,device,validate,'Validation')\n",
        "#         scheduler.step(val_loss)\n",
        "#         train_losses.append(train_loss)\n",
        "#         val_losses.append(val_loss)\n",
        "#         checkpoint = torch.save({\n",
        "#             'epoch': epoch + 1,\n",
        "#             'train_loss': train_losses,\n",
        "#             'val_loss': val_losses,\n",
        "#             'state_dict': model.state_dict(),\n",
        "#             'optimizer': optimizer.state_dict()\n",
        "#         },'model.pth')"
      ],
      "metadata": {
        "id": "uKAhzG1YP5O4"
      },
      "execution_count": 18,
      "outputs": []
    },
    {
      "cell_type": "code",
      "source": [
        "# # Sample elements randomly from a given list of ids, no replacement.\n",
        "# train_subsampler = torch.utils.data.Subset(dataset,train)\n",
        "# validation_subsampler = torch.utils.data.Subset(dataset,validation)"
      ],
      "metadata": {
        "id": "RryPhYAVVo2D"
      },
      "execution_count": 19,
      "outputs": []
    },
    {
      "cell_type": "code",
      "source": [
        "# trainig_loader = torch.utils.data.DataLoader(train_subsampler,batch_size=32, shuffle=True, **kwargs)\n",
        "# validation_loader = torch.utils.data.DataLoader(validation_subsampler,batch_size=32, shuffle=False, **kwargs)"
      ],
      "metadata": {
        "id": "-fWof6WLV07p"
      },
      "execution_count": 20,
      "outputs": []
    },
    {
      "cell_type": "code",
      "source": [
        "train_losses = []\n",
        "val_losses = []\n",
        "for epoch in range(20):\n",
        "        train(model, device, trainig_data_loader, optimizer, epoch)\n",
        "        train_loss = validation(model, device, trainig_data_loader,'Train')\n",
        "        val_loss = validation(model, device, validation_data_loader,'Validation')\n",
        "        scheduler.step(val_loss)\n",
        "        train_losses.append(train_loss)\n",
        "        val_losses.append(val_loss)\n",
        "        checkpoint = torch.save({\n",
        "            'epoch': epoch + 1,\n",
        "            'train_loss': train_losses,\n",
        "            'val_loss': val_losses,\n",
        "            'state_dict': model.state_dict(),\n",
        "            'optimizer': optimizer.state_dict()\n",
        "        },'model_1.pth')"
      ],
      "metadata": {
        "colab": {
          "base_uri": "https://localhost:8080/",
          "height": 236
        },
        "id": "sizddBfdIOdf",
        "outputId": "4eaad8f0-57b3-4450-f9c8-090f4961d05f"
      },
      "execution_count": 21,
      "outputs": [
        {
          "output_type": "error",
          "ename": "TypeError",
          "evalue": "ignored",
          "traceback": [
            "\u001b[0;31m---------------------------------------------------------------------------\u001b[0m",
            "\u001b[0;31mTypeError\u001b[0m                                 Traceback (most recent call last)",
            "\u001b[0;32m<ipython-input-21-8bd1adc85fe6>\u001b[0m in \u001b[0;36m<cell line: 3>\u001b[0;34m()\u001b[0m\n\u001b[1;32m      2\u001b[0m \u001b[0mval_losses\u001b[0m \u001b[0;34m=\u001b[0m \u001b[0;34m[\u001b[0m\u001b[0;34m]\u001b[0m\u001b[0;34m\u001b[0m\u001b[0;34m\u001b[0m\u001b[0m\n\u001b[1;32m      3\u001b[0m \u001b[0;32mfor\u001b[0m \u001b[0mepoch\u001b[0m \u001b[0;32min\u001b[0m \u001b[0mrange\u001b[0m\u001b[0;34m(\u001b[0m\u001b[0;36m20\u001b[0m\u001b[0;34m)\u001b[0m\u001b[0;34m:\u001b[0m\u001b[0;34m\u001b[0m\u001b[0;34m\u001b[0m\u001b[0m\n\u001b[0;32m----> 4\u001b[0;31m         \u001b[0mtrain\u001b[0m\u001b[0;34m(\u001b[0m\u001b[0mmodel\u001b[0m\u001b[0;34m,\u001b[0m \u001b[0mdevice\u001b[0m\u001b[0;34m,\u001b[0m \u001b[0mtrainig_data_loader\u001b[0m\u001b[0;34m,\u001b[0m \u001b[0moptimizer\u001b[0m\u001b[0;34m,\u001b[0m \u001b[0mepoch\u001b[0m\u001b[0;34m)\u001b[0m\u001b[0;34m\u001b[0m\u001b[0;34m\u001b[0m\u001b[0m\n\u001b[0m\u001b[1;32m      5\u001b[0m         \u001b[0mtrain_loss\u001b[0m \u001b[0;34m=\u001b[0m \u001b[0mvalidation\u001b[0m\u001b[0;34m(\u001b[0m\u001b[0mmodel\u001b[0m\u001b[0;34m,\u001b[0m \u001b[0mdevice\u001b[0m\u001b[0;34m,\u001b[0m \u001b[0mtrainig_data_loader\u001b[0m\u001b[0;34m,\u001b[0m\u001b[0;34m'Train'\u001b[0m\u001b[0;34m)\u001b[0m\u001b[0;34m\u001b[0m\u001b[0;34m\u001b[0m\u001b[0m\n\u001b[1;32m      6\u001b[0m         \u001b[0mval_loss\u001b[0m \u001b[0;34m=\u001b[0m \u001b[0mvalidation\u001b[0m\u001b[0;34m(\u001b[0m\u001b[0mmodel\u001b[0m\u001b[0;34m,\u001b[0m \u001b[0mdevice\u001b[0m\u001b[0;34m,\u001b[0m \u001b[0mvalidation_data_loader\u001b[0m\u001b[0;34m,\u001b[0m\u001b[0;34m'Validation'\u001b[0m\u001b[0;34m)\u001b[0m\u001b[0;34m\u001b[0m\u001b[0;34m\u001b[0m\u001b[0m\n",
            "\u001b[0;31mTypeError\u001b[0m: train() missing 1 required positional argument: 'epoch'"
          ]
        }
      ]
    },
    {
      "cell_type": "code",
      "source": [
        "checkpoint = torch.load('model.pth')\n",
        "checkpoint"
      ],
      "metadata": {
        "id": "hOhIfAkzP8-v"
      },
      "execution_count": null,
      "outputs": []
    },
    {
      "cell_type": "code",
      "source": [
        "model.load_state_dict(checkpoint['state_dict'])\n",
        "model"
      ],
      "metadata": {
        "id": "-0h6W09LQDk0"
      },
      "execution_count": null,
      "outputs": []
    },
    {
      "cell_type": "code",
      "source": [
        "optimizer.load_state_dict(checkpoint['optimizer'])\n",
        "optimizer"
      ],
      "metadata": {
        "id": "Qz4_E9D_QPAp"
      },
      "execution_count": null,
      "outputs": []
    },
    {
      "cell_type": "code",
      "source": [
        "epoch = checkpoint['epoch']\n",
        "epoch"
      ],
      "metadata": {
        "id": "32OaBblOQQsK"
      },
      "execution_count": null,
      "outputs": []
    },
    {
      "cell_type": "code",
      "source": [
        "train_loss = checkpoint['train_loss']\n",
        "train_loss"
      ],
      "metadata": {
        "id": "I6DEgWiGQSZm"
      },
      "execution_count": null,
      "outputs": []
    },
    {
      "cell_type": "code",
      "source": [
        "val_loss = checkpoint['val_loss']\n",
        "val_loss"
      ],
      "metadata": {
        "id": "qKzmpDroQULH"
      },
      "execution_count": null,
      "outputs": []
    },
    {
      "cell_type": "code",
      "source": [
        "import matplotlib.pyplot as plt\n",
        "plt.figure(figsize=(10, 7))\n",
        "plt.plot(train_losses, color='blue', linestyle='-', label='train loss')\n",
        "plt.plot(val_losses, color='red', linestyle='-', label='validataion loss')\n",
        "plt.xlabel('Epochs')\n",
        "plt.ylabel('Loss')\n",
        "plt.legend()\n",
        "plt.show()"
      ],
      "metadata": {
        "id": "L9yO8wiupb1I"
      },
      "execution_count": null,
      "outputs": []
    },
    {
      "cell_type": "code",
      "source": [
        "# check = torch.rand(5,1,256,256)\n",
        "# model = BoneAgePredictor();\n",
        "# print(model.forward(check).size())"
      ],
      "metadata": {
        "id": "JV1tLDbUCw0Z"
      },
      "execution_count": null,
      "outputs": []
    },
    {
      "cell_type": "code",
      "source": [
        "# check = pd.read_csv(dataset_path('boneage-training-dataset.csv'));\n",
        "# print(check)\n",
        "# print(check['boneage'][0])\n",
        "# print(check['id'][1])\n",
        "# check = Image.open(dataset_path('boneage-training-dataset',str(check['id'][1])+'.png')).resize((256,256))\n",
        "# print(check)\n",
        "# # check = transform(check)\n",
        "# # print(check.size())\n",
        "# # check = torch.from_numpy(np.array(check['boneage'][0]))\n",
        "# # print(check)"
      ],
      "metadata": {
        "id": "W1zPxAL38T_w"
      },
      "execution_count": null,
      "outputs": []
    }
  ]
}