{
  "nbformat": 4,
  "nbformat_minor": 0,
  "metadata": {
    "colab": {
      "provenance": [],
      "authorship_tag": "ABX9TyPU7lfTOGdTFZ/NsTgDUYk9",
      "include_colab_link": true
    },
    "kernelspec": {
      "name": "python3",
      "display_name": "Python 3"
    },
    "language_info": {
      "name": "python"
    },
    "gpuClass": "standard",
    "accelerator": "GPU"
  },
  "cells": [
    {
      "cell_type": "markdown",
      "metadata": {
        "id": "view-in-github",
        "colab_type": "text"
      },
      "source": [
        "<a href=\"https://colab.research.google.com/github/kittimaxz/Project_BoneAge/blob/main/Model_Regression.ipynb\" target=\"_parent\"><img src=\"https://colab.research.google.com/assets/colab-badge.svg\" alt=\"Open In Colab\"/></a>"
      ]
    },
    {
      "cell_type": "code",
      "source": [
        "# General libraries\n",
        "import pandas as pd  #For working with dataframes\n",
        "import numpy as np   #For working with image arrays\n",
        "import cv2          #For transforming image\n",
        "import matplotlib.pyplot as plt  #For representation\n",
        "#For model building\n",
        "import torch\n",
        "from torch import nn, optim\n",
        "import torchvision\n",
        "from torchvision import transforms, datasets, models, utils\n",
        "from torch.utils.data import Dataset, DataLoader \n",
        "from PIL import Image\n",
        "from sklearn.model_selection import train_test_split\n",
        "from torch.nn import functional as F\n",
        "from skimage import io, transform\n",
        "from torch.optim import lr_scheduler\n",
        "from skimage.transform import AffineTransform, warp\n",
        "import cv2"
      ],
      "metadata": {
        "id": "muNasIe373bj"
      },
      "execution_count": 1,
      "outputs": []
    },
    {
      "cell_type": "code",
      "source": [
        "from google.colab import drive # เชื่อม drive ของเรา ถ้าเชื่อมสำเร็จจะขึ้นคำว่าMounted at /content/drive \n",
        "drive.mount('/content/drive')"
      ],
      "metadata": {
        "colab": {
          "base_uri": "https://localhost:8080/"
        },
        "id": "8La5Le2S5fIR",
        "outputId": "2a31b63b-ca61-48e1-a39b-bcd7a97366f3"
      },
      "execution_count": 2,
      "outputs": [
        {
          "output_type": "stream",
          "name": "stdout",
          "text": [
            "Mounted at /content/drive\n"
          ]
        }
      ]
    },
    {
      "cell_type": "code",
      "source": [
        "data_path = \"/content/drive/My Drive/Project_Boneage\""
      ],
      "metadata": {
        "id": "Rty_DekrJ7PT"
      },
      "execution_count": 3,
      "outputs": []
    },
    {
      "cell_type": "code",
      "source": [
        "class MyData(Dataset):\n",
        "    def __init__(self, train, transform=None):\n",
        "        #Loading train.csv\n",
        "        train_df=pd.read_csv(os.path.join(data_path,'train.csv'))\n",
        "        #Loading image data and merging with train.csv\n",
        "        df=pd.merge(cv2.imread('boneage_training_dataset'),\\\n",
        "        train_df, on='image_id').drop(['image_id'], axis=1)\n",
        "        #Leaving only image related  columns\n",
        "        feature=df.drop(['id','age', 'gender'], axis=1)\n",
        "        #Setting labels\n",
        "        label_id=df['id']\n",
        "        label_age=df['age']\n",
        "        label_gender=df['gender']\n",
        "        \n",
        "        #Splitting the data into train and validation set\n",
        "        X_train, y_age_train, y_gender_train, y_race_train\n",
        "        if train:\n",
        "            self.x=X_train\n",
        "            self.id_y=y_id_train\n",
        "            self.age_y=y_age_train\n",
        "            self.gender_y=y_gender_train\n",
        "            \n",
        "        #Applying transformation\n",
        "        self.transform=transform\n",
        "        \n",
        "    def __len__(self):\n",
        "        return len(self.x)\n",
        "    \n",
        "    def __getitem__(self, idx):\n",
        "        image=np.array(self.x.iloc[idx, 0:]).astype(float).reshape(137, 236)\n",
        "        label1=np.array([self.id_y.iloc[idx]]).astype('float')\n",
        "        label2=np.array([self.age_y.iloc[idx]]).astype('float')\n",
        "        label3=np.array([self.gender_y.iloc[idx]]).astype('float')\n",
        "        \n",
        "        \n",
        "        train_sample={'image': np.uint8(image), 'label_id': label1,\\\n",
        "                'label_age': label2,\\\n",
        "                'label_gender': label3}\n",
        "        \n",
        "        #Applying transformation\n",
        "        if self.transform:\n",
        "            train_sample=self.transform(train_sample)\n",
        "            \n",
        "        return train_sample"
      ],
      "metadata": {
        "id": "vOWR53_38dLj"
      },
      "execution_count": 4,
      "outputs": []
    },
    {
      "cell_type": "code",
      "source": [
        "class crop(object):\n",
        "    def __init__(self, resize_size):\n",
        "        self.resize_size = resize_size\n",
        "    def __call__(self, train_sample):\n",
        "        image, label1, label2, label3 = train_sample['image'],\\\n",
        "        train_sample['label_id'],train_sample['label_age'], train_sample['label_gender']\n",
        "        _, thresh=cv2.threshold(image, 30, 255, cv2.THRESH_BINARY_INV + cv2.THRESH_OTSU)\n",
        "        contours, _ = cv2.findContours(thresh,cv2.RETR_LIST,cv2.CHAIN_APPROX_SIMPLE)[-2:]\n",
        "        \n",
        "        idx=0\n",
        "        ls_xmin=[]\n",
        "        ls_ymin=[]\n",
        "        ls_xmax=[]\n",
        "        ls_ymax=[]\n",
        "        \n",
        "        for cnt in contours:\n",
        "            idx+=1\n",
        "            x,y,w,h = cv2.boundingRect(cnt)\n",
        "            ls_xmin.append(x)\n",
        "            ls_ymin.append(y)\n",
        "            ls_xmax.append(x + w)\n",
        "            ls_ymax.append(y + h)\n",
        "        xmin = min(ls_xmin)\n",
        "        ymin = min(ls_ymin)\n",
        "        xmax = max(ls_xmax)\n",
        "        ymax = max(ls_ymax)\n",
        "        roi = image[ymin:ymax,xmin:xmax]    \n",
        "        resized_image = cv2.resize(roi, (self.resize_size, self.resize_size),\\\n",
        "                                                             interpolation=cv2.INTER_AREA)\n",
        "        train_sample['label_id'],train_sample['label_age'], train_sample['label_gender']={'image': resized_image, 'label_id': label1, 'label_age': label2,\\\n",
        "                'label_gender': label3}\n",
        "        return train_sample['label_id'],train_sample['label_age'], train_sample['label_gender']"
      ],
      "metadata": {
        "id": "LNRufXw0MG2u"
      },
      "execution_count": 5,
      "outputs": []
    },
    {
      "cell_type": "code",
      "source": [
        "class rotate_image(object):\n",
        "    def __call__(self, train_sample):\n",
        "        image, label1, label2, label3 = train_sample['image'],\\\n",
        "        train_sample['label_id'],train_sample['label_age'], train_sample['label_gender']\n",
        "        min_scale = 0.8\n",
        "        max_scale = 1.2\n",
        "        sx = np.random.uniform(min_scale, max_scale)\n",
        "        sy = np.random.uniform(min_scale, max_scale)\n",
        "        # --- rotation ---\n",
        "        max_rot_angle = 7\n",
        "        rot_angle = np.random.uniform(-max_rot_angle, max_rot_angle) * np.pi / 180.\n",
        "        # --- shear ---\n",
        "        max_shear_angle = 10\n",
        "        shear_angle = np.random.uniform(-max_shear_angle, max_shear_angle) * np.pi / 180.\n",
        "        # --- translation ---\n",
        "        max_translation = 4\n",
        "        tx = np.random.randint(-max_translation, max_translation)\n",
        "        ty = np.random.randint(-max_translation, max_translation)\n",
        "        tform = AffineTransform(scale=(sx, sy), rotation=rot_angle, shear=shear_angle,\n",
        "                            translation=(tx, ty))\n",
        "        transformed_image = warp(image, tform)\n",
        "        assert transformed_image.ndim == 2\n",
        "        train_sample={'image': resized_image, 'label_id': label1, 'label_age': label2,\\\n",
        "                'label_gender': label3}\n",
        "        return train_sample"
      ],
      "metadata": {
        "id": "ogwD9VEoMHrU"
      },
      "execution_count": 6,
      "outputs": []
    },
    {
      "cell_type": "code",
      "source": [
        "class RGB_ToTensor(object):\n",
        "    def __call__(self, train_sample):\n",
        "        image, label1, label2, label3 = train_sample['image'],\\\n",
        "        train_sample['label_id'],train_sample['label_age'], train_sample['label_gender']\n",
        "        \n",
        "        image=torch.from_numpy(image).unsqueeze_(0).repeat(3, 1, 1)\n",
        "        label1=torch.from_numpy(label1)\n",
        "        label2=torch.from_numpy(label2)\n",
        "        label3=torch.from_numpy(label3)\n",
        "        \n",
        "        return {'image': image,\n",
        "                'label_id': label1,\n",
        "                'label_age': label2,\n",
        "                'label_gender': label3}"
      ],
      "metadata": {
        "id": "4IrWJjCm-yna"
      },
      "execution_count": 7,
      "outputs": []
    },
    {
      "cell_type": "code",
      "source": [
        "class Normalization(object):\n",
        "    def __init__(self, mean, std):\n",
        "        self.mean = mean.view(-1, 1, 1)\n",
        "        self.std = std.view(-1, 1, 1)\n",
        "    def __call__(self, train_sample):\n",
        "        image, label1, label2, label3 = train_sample['image'],\\\n",
        "        train_sample['label_id'],train_sample['label_age'], train_sample['label_gender']\n",
        "        \n",
        "        return {'image': image,\n",
        "                'label_id': label1,\n",
        "                'label_age': label2,\n",
        "                'label_gender': label3}"
      ],
      "metadata": {
        "id": "gsnmOTnLAOjK"
      },
      "execution_count": 8,
      "outputs": []
    },
    {
      "cell_type": "code",
      "source": [
        "cnn_normalization_mean = torch.tensor([0.485, 0.456, 0.406])\n",
        "cnn_normalization_std = torch.tensor([0.229, 0.224, 0.225])\n",
        "transformed_train_data = MyData(train, transform=transforms.Compose([RGB_ToTensor(),\n",
        "                                            Normalization(cnn_normalization_mean,\\\n",
        "                                            cnn_normalization_std)]))\n",
        "train_dataloader = DataLoader(transformed_train_data, batch_size=50, shuffle=True, num_workers=4)"
      ],
      "metadata": {
        "id": "x8Kq2y3CAOdh",
        "outputId": "fac3cd9c-1f0c-414d-8f96-415267c2ce76",
        "colab": {
          "base_uri": "https://localhost:8080/",
          "height": 236
        }
      },
      "execution_count": 9,
      "outputs": [
        {
          "output_type": "error",
          "ename": "NameError",
          "evalue": "ignored",
          "traceback": [
            "\u001b[0;31m---------------------------------------------------------------------------\u001b[0m",
            "\u001b[0;31mNameError\u001b[0m                                 Traceback (most recent call last)",
            "\u001b[0;32m<ipython-input-9-a01c076e098b>\u001b[0m in \u001b[0;36m<module>\u001b[0;34m\u001b[0m\n\u001b[1;32m      1\u001b[0m \u001b[0mcnn_normalization_mean\u001b[0m \u001b[0;34m=\u001b[0m \u001b[0mtorch\u001b[0m\u001b[0;34m.\u001b[0m\u001b[0mtensor\u001b[0m\u001b[0;34m(\u001b[0m\u001b[0;34m[\u001b[0m\u001b[0;36m0.485\u001b[0m\u001b[0;34m,\u001b[0m \u001b[0;36m0.456\u001b[0m\u001b[0;34m,\u001b[0m \u001b[0;36m0.406\u001b[0m\u001b[0;34m]\u001b[0m\u001b[0;34m)\u001b[0m\u001b[0;34m\u001b[0m\u001b[0;34m\u001b[0m\u001b[0m\n\u001b[1;32m      2\u001b[0m \u001b[0mcnn_normalization_std\u001b[0m \u001b[0;34m=\u001b[0m \u001b[0mtorch\u001b[0m\u001b[0;34m.\u001b[0m\u001b[0mtensor\u001b[0m\u001b[0;34m(\u001b[0m\u001b[0;34m[\u001b[0m\u001b[0;36m0.229\u001b[0m\u001b[0;34m,\u001b[0m \u001b[0;36m0.224\u001b[0m\u001b[0;34m,\u001b[0m \u001b[0;36m0.225\u001b[0m\u001b[0;34m]\u001b[0m\u001b[0;34m)\u001b[0m\u001b[0;34m\u001b[0m\u001b[0;34m\u001b[0m\u001b[0m\n\u001b[0;32m----> 3\u001b[0;31m transformed_train_data = MyData(train, transform=transforms.Compose([RGB_ToTensor(),\n\u001b[0m\u001b[1;32m      4\u001b[0m                                             Normalization(cnn_normalization_mean,\\\n\u001b[1;32m      5\u001b[0m                                             cnn_normalization_std)]))\n",
            "\u001b[0;31mNameError\u001b[0m: name 'train' is not defined"
          ]
        }
      ]
    }
  ]
}