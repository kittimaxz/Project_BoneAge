{
  "nbformat": 4,
  "nbformat_minor": 0,
  "metadata": {
    "colab": {
      "provenance": [],
      "authorship_tag": "ABX9TyMKEcY852sSdd4fjsU/2Ugt",
      "include_colab_link": true
    },
    "kernelspec": {
      "name": "python3",
      "display_name": "Python 3"
    },
    "language_info": {
      "name": "python"
    },
    "gpuClass": "standard",
    "accelerator": "GPU"
  },
  "cells": [
    {
      "cell_type": "markdown",
      "metadata": {
        "id": "view-in-github",
        "colab_type": "text"
      },
      "source": [
        "<a href=\"https://colab.research.google.com/github/kittimaxz/Project_BoneAge/blob/main/Model_Regression.ipynb\" target=\"_parent\"><img src=\"https://colab.research.google.com/assets/colab-badge.svg\" alt=\"Open In Colab\"/></a>"
      ]
    },
    {
      "cell_type": "code",
      "source": [
        "import pandas as pd\n",
        "import numpy as np\n",
        "from PIL import Image\n",
        "\n",
        "import torch\n",
        "import torch.nn as nn\n",
        "from torch.utils.data import Dataset, DataLoader, random_split\n",
        "from torchvision import transforms\n",
        "\n",
        "!pip install pytorch-lightning \n",
        "import pytorch_lightning as pl\n",
        "from pytorch_lightning.loggers import TensorBoardLogger\n",
        "from pytorch_lightning.callbacks.early_stopping import EarlyStopping"
      ],
      "metadata": {
        "id": "2903h94KIPmm",
        "outputId": "3ccd75ad-388e-4cee-ce59-00edb3ba21e2",
        "colab": {
          "base_uri": "https://localhost:8080/"
        }
      },
      "execution_count": 1,
      "outputs": [
        {
          "output_type": "stream",
          "name": "stdout",
          "text": [
            "Looking in indexes: https://pypi.org/simple, https://us-python.pkg.dev/colab-wheels/public/simple/\n",
            "Requirement already satisfied: pytorch-lightning in /usr/local/lib/python3.8/dist-packages (1.8.6)\n",
            "Requirement already satisfied: tqdm>=4.57.0 in /usr/local/lib/python3.8/dist-packages (from pytorch-lightning) (4.64.1)\n",
            "Requirement already satisfied: PyYAML>=5.4 in /usr/local/lib/python3.8/dist-packages (from pytorch-lightning) (6.0)\n",
            "Requirement already satisfied: fsspec[http]>2021.06.0 in /usr/local/lib/python3.8/dist-packages (from pytorch-lightning) (2022.11.0)\n",
            "Requirement already satisfied: torchmetrics>=0.7.0 in /usr/local/lib/python3.8/dist-packages (from pytorch-lightning) (0.11.0)\n",
            "Requirement already satisfied: torch>=1.9.0 in /usr/local/lib/python3.8/dist-packages (from pytorch-lightning) (1.13.0+cu116)\n",
            "Requirement already satisfied: lightning-utilities!=0.4.0,>=0.3.0 in /usr/local/lib/python3.8/dist-packages (from pytorch-lightning) (0.5.0)\n",
            "Requirement already satisfied: typing-extensions>=4.0.0 in /usr/local/lib/python3.8/dist-packages (from pytorch-lightning) (4.4.0)\n",
            "Requirement already satisfied: packaging>=17.0 in /usr/local/lib/python3.8/dist-packages (from pytorch-lightning) (21.3)\n",
            "Requirement already satisfied: tensorboardX>=2.2 in /usr/local/lib/python3.8/dist-packages (from pytorch-lightning) (2.5.1)\n",
            "Requirement already satisfied: numpy>=1.17.2 in /usr/local/lib/python3.8/dist-packages (from pytorch-lightning) (1.21.6)\n",
            "Requirement already satisfied: requests in /usr/local/lib/python3.8/dist-packages (from fsspec[http]>2021.06.0->pytorch-lightning) (2.25.1)\n",
            "Requirement already satisfied: aiohttp!=4.0.0a0,!=4.0.0a1 in /usr/local/lib/python3.8/dist-packages (from fsspec[http]>2021.06.0->pytorch-lightning) (3.8.3)\n",
            "Requirement already satisfied: pyparsing!=3.0.5,>=2.0.2 in /usr/local/lib/python3.8/dist-packages (from packaging>=17.0->pytorch-lightning) (3.0.9)\n",
            "Requirement already satisfied: protobuf<=3.20.1,>=3.8.0 in /usr/local/lib/python3.8/dist-packages (from tensorboardX>=2.2->pytorch-lightning) (3.19.6)\n",
            "Requirement already satisfied: multidict<7.0,>=4.5 in /usr/local/lib/python3.8/dist-packages (from aiohttp!=4.0.0a0,!=4.0.0a1->fsspec[http]>2021.06.0->pytorch-lightning) (6.0.3)\n",
            "Requirement already satisfied: attrs>=17.3.0 in /usr/local/lib/python3.8/dist-packages (from aiohttp!=4.0.0a0,!=4.0.0a1->fsspec[http]>2021.06.0->pytorch-lightning) (22.2.0)\n",
            "Requirement already satisfied: frozenlist>=1.1.1 in /usr/local/lib/python3.8/dist-packages (from aiohttp!=4.0.0a0,!=4.0.0a1->fsspec[http]>2021.06.0->pytorch-lightning) (1.3.3)\n",
            "Requirement already satisfied: charset-normalizer<3.0,>=2.0 in /usr/local/lib/python3.8/dist-packages (from aiohttp!=4.0.0a0,!=4.0.0a1->fsspec[http]>2021.06.0->pytorch-lightning) (2.1.1)\n",
            "Requirement already satisfied: async-timeout<5.0,>=4.0.0a3 in /usr/local/lib/python3.8/dist-packages (from aiohttp!=4.0.0a0,!=4.0.0a1->fsspec[http]>2021.06.0->pytorch-lightning) (4.0.2)\n",
            "Requirement already satisfied: aiosignal>=1.1.2 in /usr/local/lib/python3.8/dist-packages (from aiohttp!=4.0.0a0,!=4.0.0a1->fsspec[http]>2021.06.0->pytorch-lightning) (1.3.1)\n",
            "Requirement already satisfied: yarl<2.0,>=1.0 in /usr/local/lib/python3.8/dist-packages (from aiohttp!=4.0.0a0,!=4.0.0a1->fsspec[http]>2021.06.0->pytorch-lightning) (1.8.2)\n",
            "Requirement already satisfied: urllib3<1.27,>=1.21.1 in /usr/local/lib/python3.8/dist-packages (from requests->fsspec[http]>2021.06.0->pytorch-lightning) (1.24.3)\n",
            "Requirement already satisfied: certifi>=2017.4.17 in /usr/local/lib/python3.8/dist-packages (from requests->fsspec[http]>2021.06.0->pytorch-lightning) (2022.12.7)\n",
            "Requirement already satisfied: chardet<5,>=3.0.2 in /usr/local/lib/python3.8/dist-packages (from requests->fsspec[http]>2021.06.0->pytorch-lightning) (4.0.0)\n",
            "Requirement already satisfied: idna<3,>=2.5 in /usr/local/lib/python3.8/dist-packages (from requests->fsspec[http]>2021.06.0->pytorch-lightning) (2.10)\n"
          ]
        }
      ]
    },
    {
      "cell_type": "code",
      "source": [
        "from google.colab import drive # เชื่อม drive ของเรา ถ้าเชื่อมสำเร็จจะขึ้นคำว่าMounted at /content/drive \n",
        "drive.mount('/content/drive')"
      ],
      "metadata": {
        "colab": {
          "base_uri": "https://localhost:8080/"
        },
        "id": "8La5Le2S5fIR",
        "outputId": "f8795360-fce6-4f4e-a7ce-07eccaa73c44"
      },
      "execution_count": 2,
      "outputs": [
        {
          "output_type": "stream",
          "name": "stdout",
          "text": [
            "Drive already mounted at /content/drive; to attempt to forcibly remount, call drive.mount(\"/content/drive\", force_remount=True).\n"
          ]
        }
      ]
    },
    {
      "cell_type": "code",
      "source": [
        "data_path = \"/content/drive/My Drive/Project_Boneage\""
      ],
      "metadata": {
        "id": "Rty_DekrJ7PT"
      },
      "execution_count": 3,
      "outputs": []
    },
    {
      "cell_type": "code",
      "source": [
        "class ImageDataset(Dataset):\n",
        "    \"\"\"Tabular and Image dataset.\"\"\"\n",
        "\n",
        "    def __init__(self, pickle_file, image_dir):\n",
        "        self.image_dir = \"/boneage_training_dataset\"\n",
        "        self.pickle_file = \"/train.csv\"\n",
        "        self.tabular = pd.read_pickle(pickle_file)\n",
        "\n",
        "    def __len__(self):\n",
        "        return len(self.tabular)\n",
        "\n",
        "    def __getitem__(self, idx):\n",
        "        if torch.is_tensor(idx):\n",
        "            idx = idx.tolist()\n",
        "\n",
        "        tabular = self.tabular.iloc[idx, 0:]\n",
        "\n",
        "        y = tabular[\"boneage\"]\n",
        "\n",
        "        image = Image.open(f\"{self.image_dir}/{tabular['id']}.png\")\n",
        "        image = np.array(image)\n",
        "        image = image[..., :3]\n",
        "\n",
        "        image = transforms.functional.to_tensor(image)\n",
        "\n",
        "        tabular = tabular[[\"male\"]]\n",
        "        tabular = tabular.tolist()\n",
        "        tabular = torch.FloatTensor(tabular)\n",
        "\n",
        "        return image, tabular, y"
      ],
      "metadata": {
        "id": "arS1GNukKEXx"
      },
      "execution_count": 4,
      "outputs": []
    },
    {
      "cell_type": "code",
      "source": [
        "def conv_block(input_size, output_size):\n",
        "    block = nn.Sequential(\n",
        "        nn.Conv2d(input_size, output_size, (3, 3)), nn.ReLU(), nn.BatchNorm2d(output_size), nn.MaxPool2d((2, 2)),\n",
        "    )\n",
        "\n",
        "    return block"
      ],
      "metadata": {
        "id": "t-kaxur3KhbG"
      },
      "execution_count": 5,
      "outputs": []
    },
    {
      "cell_type": "code",
      "source": [
        "class LitClassifier(pl.LightningModule):\n",
        "    def __init__(\n",
        "        self, lr: float = 1e-3, num_workers: int = 4, batch_size: int = 32,\n",
        "    ):\n",
        "        super().__init__()\n",
        "        self.lr = lr\n",
        "        self.num_workers = num_workers\n",
        "        self.batch_size = batch_size\n",
        "\n",
        "        self.conv1 = conv_block(3, 16)\n",
        "        self.conv2 = conv_block(16, 32)\n",
        "        self.conv3 = conv_block(32, 64)\n",
        "\n",
        "        self.ln1 = nn.Linear(64 * 26 * 26, 16)\n",
        "        self.relu = nn.ReLU()\n",
        "        self.batchnorm = nn.BatchNorm1d(16)\n",
        "        self.dropout = nn.Dropout2d(0.5)\n",
        "        self.ln2 = nn.Linear(16, 5)\n",
        "\n",
        "        self.ln4 = nn.Linear(5, 10)\n",
        "        self.ln5 = nn.Linear(10, 10)\n",
        "        self.ln6 = nn.Linear(10, 5)\n",
        "        self.ln7 = nn.Linear(10, 1)"
      ],
      "metadata": {
        "id": "ZfYsmmXnKpSr"
      },
      "execution_count": 6,
      "outputs": []
    },
    {
      "cell_type": "code",
      "source": [
        "def forward(self, img, tab):\n",
        "        img = self.conv1(img)\n",
        "        img = self.conv2(img)\n",
        "        img = self.conv3(img)\n",
        "        img = img.reshape(img.shape[0], -1)\n",
        "        img = self.ln1(img)\n",
        "        img = self.relu(img)\n",
        "        img = self.batchnorm(img)\n",
        "        img = self.dropout(img)\n",
        "        img = self.ln2(img)\n",
        "        img = self.relu(img)\n",
        "\n",
        "        tab = self.ln4(tab)\n",
        "        tab = self.relu(tab)\n",
        "        tab = self.ln5(tab)\n",
        "        tab = self.relu(tab)\n",
        "        tab = self.ln6(tab)\n",
        "        tab = self.relu(tab)\n",
        "\n",
        "        x = torch.cat((img, tab), dim=1)\n",
        "        x = self.relu(x)\n",
        "\n",
        "        return self.ln7(x)"
      ],
      "metadata": {
        "id": "dBGDQZtXKwtw"
      },
      "execution_count": 7,
      "outputs": []
    },
    {
      "cell_type": "code",
      "source": [
        "def training_step(self, batch, batch_idx):\n",
        "        image, tabular, y = batch\n",
        "\n",
        "        criterion = torch.nn.L1Loss()\n",
        "        y_pred = torch.flatten(self(image, tabular))\n",
        "        y_pred = y_pred.double()\n",
        "\n",
        "        loss = criterion(y_pred, y)\n",
        "\n",
        "        tensorboard_logs = {\"train_loss\": loss}\n",
        "        return {\"loss\": loss, \"log\": tensorboard_logs}"
      ],
      "metadata": {
        "id": "aI6Wo6w9K052"
      },
      "execution_count": 8,
      "outputs": []
    },
    {
      "cell_type": "code",
      "source": [
        "def validation_step(self, batch, batch_idx):\n",
        "        image, tabular, y = batch\n",
        "\n",
        "        criterion = torch.nn.L1Loss()\n",
        "        y_pred = torch.flatten(self(image, tabular))\n",
        "        y_pred = y_pred.double()\n",
        "\n",
        "        val_loss = criterion(y_pred, y)\n",
        "\n",
        "        return {\"val_loss\": val_loss}"
      ],
      "metadata": {
        "id": "pgruqw3mK_99"
      },
      "execution_count": 9,
      "outputs": []
    },
    {
      "cell_type": "code",
      "source": [
        "def validation_epoch_end(self, outputs):\n",
        "        avg_loss = torch.stack([x[\"val_loss\"] for x in outputs]).mean()\n",
        "        tensorboard_logs = {\"val_loss\": avg_loss}\n",
        "        return {\"val_loss\": avg_loss, \"log\": tensorboard_logs}"
      ],
      "metadata": {
        "id": "DIKpRiT6LCvV"
      },
      "execution_count": 10,
      "outputs": []
    },
    {
      "cell_type": "code",
      "source": [
        "def test_step(self, batch, batch_idx):\n",
        "        image, tabular, y = batch\n",
        "\n",
        "        criterion = torch.nn.L1Loss()\n",
        "        y_pred = torch.flatten(self(image, tabular))\n",
        "        y_pred = y_pred.double()\n",
        "\n",
        "        test_loss = criterion(y_pred, y)\n",
        "\n",
        "        return {\"test_loss\": test_loss}"
      ],
      "metadata": {
        "id": "qy9HauPALLpK"
      },
      "execution_count": 11,
      "outputs": []
    },
    {
      "cell_type": "code",
      "source": [
        "def test_epoch_end(self, outputs):\n",
        "        avg_loss = torch.stack([x[\"test_loss\"] for x in outputs]).mean()\n",
        "        logs = {\"test_loss\": avg_loss}\n",
        "        return {\"test_loss\": avg_loss, \"log\": logs, \"progress_bar\": logs}"
      ],
      "metadata": {
        "id": "n1bnVlTrLOt7"
      },
      "execution_count": 12,
      "outputs": []
    },
    {
      "cell_type": "code",
      "source": [
        "def setup(self, stage):\n",
        "\n",
        "        image_data = ImageDataset(pickle_file=f\"{data_path}df.pkl\", image_dir=f\"{data_path}processed_images/\")\n",
        "\n",
        "        train_size = int(0.80 * len(image_data))\n",
        "        val_size = int((len(image_data) - train_size) / 2)\n",
        "        test_size = int((len(image_data) - train_size) / 2)\n",
        "\n",
        "        self.train_set, self.val_set, self.test_set = random_split(image_data, (train_size, val_size, test_size))"
      ],
      "metadata": {
        "id": "vdmZgHjdLRB6"
      },
      "execution_count": 13,
      "outputs": []
    },
    {
      "cell_type": "code",
      "source": [
        "def configure_optimizers(self):\n",
        "    return torch.optim.Adam(self.parameters(), lr=(self.lr))"
      ],
      "metadata": {
        "id": "wH7OMiy6LqT7"
      },
      "execution_count": 14,
      "outputs": []
    },
    {
      "cell_type": "code",
      "source": [
        "def train_dataloader(self):\n",
        "    return DataLoader(self.train_set, batch_size=self.batch_size)"
      ],
      "metadata": {
        "id": "4vu60pB2Lsxo"
      },
      "execution_count": 15,
      "outputs": []
    },
    {
      "cell_type": "code",
      "source": [
        "def val_dataloader(self):\n",
        "    return DataLoader(self.val_set, batch_size=self.batch_size)"
      ],
      "metadata": {
        "id": "BWNF-V0OLwuJ"
      },
      "execution_count": 16,
      "outputs": []
    },
    {
      "cell_type": "code",
      "source": [
        "def test_dataloader(self):\n",
        "        return DataLoader(self.test_set, batch_size=self.batch_size)"
      ],
      "metadata": {
        "id": "SEGrQa0YL6eK"
      },
      "execution_count": 17,
      "outputs": []
    },
    {
      "cell_type": "code",
      "source": [
        "if __name__ == \"__main__\":\n",
        "    logger = TensorBoardLogger(\"lightning_logs\", name=\"multi_input\")\n",
        "    early_stop_callback =EarlyStopping(monitor=\"val_loss\", min_delta=5000, patience=7, verbose=False, mode=\"min\")"
      ],
      "metadata": {
        "id": "KuBIQgoAL_A8"
      },
      "execution_count": 18,
      "outputs": []
    },
    {
      "cell_type": "code",
      "source": [
        "model = LitClassifier()\n",
        "trainer = pl.Trainer(accelerator='gpu', devices=1, logger=logger, callbacks=early_stop_callback)"
      ],
      "metadata": {
        "id": "Mm-UuZRqMB7t",
        "outputId": "564273f5-2b91-46fc-b479-e1a7adfbf022",
        "colab": {
          "base_uri": "https://localhost:8080/"
        }
      },
      "execution_count": 19,
      "outputs": [
        {
          "output_type": "stream",
          "name": "stderr",
          "text": [
            "INFO:pytorch_lightning.utilities.rank_zero:GPU available: True (cuda), used: True\n",
            "INFO:pytorch_lightning.utilities.rank_zero:TPU available: False, using: 0 TPU cores\n",
            "INFO:pytorch_lightning.utilities.rank_zero:IPU available: False, using: 0 IPUs\n",
            "INFO:pytorch_lightning.utilities.rank_zero:HPU available: False, using: 0 HPUs\n"
          ]
        }
      ]
    },
    {
      "cell_type": "code",
      "source": [
        "lr_finder = trainer.lr_find(model)\n",
        "fig = lr_finder.plot(suggest=True, show=True)\n",
        "new_lr = lr_finder.suggestion()\n",
        "model.hparams.lr = new_lr"
      ],
      "metadata": {
        "id": "Gint_bBuMFYb",
        "outputId": "8c382e2b-fc25-4ee9-a6fb-3827f289a51b",
        "colab": {
          "base_uri": "https://localhost:8080/",
          "height": 219
        }
      },
      "execution_count": 20,
      "outputs": [
        {
          "output_type": "error",
          "ename": "AttributeError",
          "evalue": "ignored",
          "traceback": [
            "\u001b[0;31m---------------------------------------------------------------------------\u001b[0m",
            "\u001b[0;31mAttributeError\u001b[0m                            Traceback (most recent call last)",
            "\u001b[0;32m<ipython-input-20-a22780833699>\u001b[0m in \u001b[0;36m<module>\u001b[0;34m\u001b[0m\n\u001b[0;32m----> 1\u001b[0;31m \u001b[0mlr_finder\u001b[0m \u001b[0;34m=\u001b[0m \u001b[0mtrainer\u001b[0m\u001b[0;34m.\u001b[0m\u001b[0mlr_find\u001b[0m\u001b[0;34m(\u001b[0m\u001b[0mmodel\u001b[0m\u001b[0;34m)\u001b[0m\u001b[0;34m\u001b[0m\u001b[0;34m\u001b[0m\u001b[0m\n\u001b[0m\u001b[1;32m      2\u001b[0m \u001b[0mfig\u001b[0m \u001b[0;34m=\u001b[0m \u001b[0mlr_finder\u001b[0m\u001b[0;34m.\u001b[0m\u001b[0mplot\u001b[0m\u001b[0;34m(\u001b[0m\u001b[0msuggest\u001b[0m\u001b[0;34m=\u001b[0m\u001b[0;32mTrue\u001b[0m\u001b[0;34m,\u001b[0m \u001b[0mshow\u001b[0m\u001b[0;34m=\u001b[0m\u001b[0;32mTrue\u001b[0m\u001b[0;34m)\u001b[0m\u001b[0;34m\u001b[0m\u001b[0;34m\u001b[0m\u001b[0m\n\u001b[1;32m      3\u001b[0m \u001b[0mnew_lr\u001b[0m \u001b[0;34m=\u001b[0m \u001b[0mlr_finder\u001b[0m\u001b[0;34m.\u001b[0m\u001b[0msuggestion\u001b[0m\u001b[0;34m(\u001b[0m\u001b[0;34m)\u001b[0m\u001b[0;34m\u001b[0m\u001b[0;34m\u001b[0m\u001b[0m\n\u001b[1;32m      4\u001b[0m \u001b[0mmodel\u001b[0m\u001b[0;34m.\u001b[0m\u001b[0mhparams\u001b[0m\u001b[0;34m.\u001b[0m\u001b[0mlr\u001b[0m \u001b[0;34m=\u001b[0m \u001b[0mnew_lr\u001b[0m\u001b[0;34m\u001b[0m\u001b[0;34m\u001b[0m\u001b[0m\n",
            "\u001b[0;31mAttributeError\u001b[0m: 'Trainer' object has no attribute 'lr_find'"
          ]
        }
      ]
    },
    {
      "cell_type": "code",
      "source": [],
      "metadata": {
        "id": "ENv6cdGqwUXN"
      },
      "execution_count": null,
      "outputs": []
    }
  ]
}