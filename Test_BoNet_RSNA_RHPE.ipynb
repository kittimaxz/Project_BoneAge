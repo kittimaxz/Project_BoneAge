{
  "nbformat": 4,
  "nbformat_minor": 0,
  "metadata": {
    "colab": {
      "provenance": [],
      "authorship_tag": "ABX9TyOGanqdKhcs4zN1UWIjpgkw",
      "include_colab_link": true
    },
    "kernelspec": {
      "name": "python3",
      "display_name": "Python 3"
    },
    "language_info": {
      "name": "python"
    },
    "accelerator": "GPU",
    "gpuClass": "standard"
  },
  "cells": [
    {
      "cell_type": "markdown",
      "metadata": {
        "id": "view-in-github",
        "colab_type": "text"
      },
      "source": [
        "<a href=\"https://colab.research.google.com/github/kittimaxz/Project_BoneAge/blob/main/Test_BoNet_RSNA_RHPE.ipynb\" target=\"_parent\"><img src=\"https://colab.research.google.com/assets/colab-badge.svg\" alt=\"Open In Colab\"/></a>"
      ]
    },
    {
      "cell_type": "code",
      "source": [
        "!git clone https://github.com/BCV-Uniandes/Bonet.git\n",
        "!cd Bonet"
      ],
      "metadata": {
        "id": "QJp0fnYQQAG2",
        "outputId": "a132d8d4-a6de-49f9-987e-37a863d85348",
        "colab": {
          "base_uri": "https://localhost:8080/"
        }
      },
      "execution_count": 1,
      "outputs": [
        {
          "output_type": "stream",
          "name": "stdout",
          "text": [
            "Cloning into 'Bonet'...\n",
            "remote: Enumerating objects: 52, done.\u001b[K\n",
            "remote: Total 52 (delta 0), reused 0 (delta 0), pack-reused 52\u001b[K\n",
            "Unpacking objects: 100% (52/52), done.\n"
          ]
        }
      ]
    },
    {
      "cell_type": "code",
      "source": [
        "import numpy as np # linear algebra # เป็นการ import numpy เพื่อเปิดใช้ฟังก์ชันในการทำงาน\n",
        "import pandas as pd # data processing, CSV file I/O (e.g. pd.read_csv) # เป็น library ในการจัดการ dataframe"
      ],
      "metadata": {
        "id": "Kno738cbwESa"
      },
      "execution_count": 2,
      "outputs": []
    },
    {
      "cell_type": "code",
      "source": [
        "import Bonet"
      ],
      "metadata": {
        "id": "Wj-RW6EuI2-k"
      },
      "execution_count": 3,
      "outputs": []
    },
    {
      "cell_type": "code",
      "source": [
        "# Standard lib imports\n",
        "import os\n",
        "import csv\n",
        "import glob\n",
        "import time\n",
        "import argparse\n",
        "import warnings\n",
        "import pandas as pd\n",
        "import os.path as osp"
      ],
      "metadata": {
        "id": "ZUsIgmmk7D3i"
      },
      "execution_count": 4,
      "outputs": []
    },
    {
      "cell_type": "code",
      "source": [
        "# PyTorch imports\n",
        "import torch\n",
        "import torch.nn as nn\n",
        "import torch.optim as optim\n",
        "!pip install horovod\n",
        "import horovod.torch as hvd\n",
        "from torchvision import transforms\n",
        "from torch.autograd import Variable\n",
        "from torch.utils.data import DataLoader\n",
        "from torch.utils.data.distributed import DistributedSampler"
      ],
      "metadata": {
        "colab": {
          "base_uri": "https://localhost:8080/"
        },
        "id": "RmNDPKn09VZh",
        "outputId": "b5bc91fc-c46b-4cff-aac2-a94db0a4329e"
      },
      "execution_count": 5,
      "outputs": [
        {
          "output_type": "stream",
          "name": "stdout",
          "text": [
            "Looking in indexes: https://pypi.org/simple, https://us-python.pkg.dev/colab-wheels/public/simple/\n",
            "Collecting horovod\n",
            "  Downloading horovod-0.26.1.tar.gz (3.5 MB)\n",
            "\u001b[K     |████████████████████████████████| 3.5 MB 5.7 MB/s \n",
            "\u001b[?25hRequirement already satisfied: cloudpickle in /usr/local/lib/python3.8/dist-packages (from horovod) (1.5.0)\n",
            "Requirement already satisfied: psutil in /usr/local/lib/python3.8/dist-packages (from horovod) (5.4.8)\n",
            "Requirement already satisfied: pyyaml in /usr/local/lib/python3.8/dist-packages (from horovod) (6.0)\n",
            "Requirement already satisfied: packaging in /usr/local/lib/python3.8/dist-packages (from horovod) (21.3)\n",
            "Requirement already satisfied: cffi>=1.4.0 in /usr/local/lib/python3.8/dist-packages (from horovod) (1.15.1)\n",
            "Requirement already satisfied: pycparser in /usr/local/lib/python3.8/dist-packages (from cffi>=1.4.0->horovod) (2.21)\n",
            "Requirement already satisfied: pyparsing!=3.0.5,>=2.0.2 in /usr/local/lib/python3.8/dist-packages (from packaging->horovod) (3.0.9)\n",
            "Building wheels for collected packages: horovod\n",
            "  Building wheel for horovod (setup.py) ... \u001b[?25l\u001b[?25hdone\n",
            "  Created wheel for horovod: filename=horovod-0.26.1-cp38-cp38-linux_x86_64.whl size=28368570 sha256=2379dbbea2e3c02a9c0af70ae1285e90095829d0b360a2189d714c3b07949f87\n",
            "  Stored in directory: /root/.cache/pip/wheels/eb/0b/90/d53058f75f3ae3db9557f3e55dd8c016b2397e9b38557c8b66\n",
            "Successfully built horovod\n",
            "Installing collected packages: horovod\n",
            "Successfully installed horovod-0.26.1\n"
          ]
        }
      ]
    },
    {
      "cell_type": "code",
      "source": [
        "# Other imports\n",
        "from tqdm import tqdm\n",
        "import pdb"
      ],
      "metadata": {
        "id": "iLQexxu090bz"
      },
      "execution_count": 6,
      "outputs": []
    },
    {
      "cell_type": "code",
      "source": [
        "warnings.filterwarnings(\"ignore\")"
      ],
      "metadata": {
        "id": "objPvC22OY0j"
      },
      "execution_count": 7,
      "outputs": []
    },
    {
      "cell_type": "code",
      "source": [
        "parser = argparse.ArgumentParser()"
      ],
      "metadata": {
        "id": "mtKHhSaJOd6V"
      },
      "execution_count": 8,
      "outputs": []
    },
    {
      "cell_type": "code",
      "source": [
        "from google.colab import drive # เชื่อม drive ของเรา ถ้าเชื่อมสำเร็จจะขึ้นคำว่าMounted at /content/drive \n",
        "drive.mount('/content/drive')"
      ],
      "metadata": {
        "id": "7tVAhNI6HHeR",
        "outputId": "83f418f2-7b13-4448-efa1-e31f7542deeb",
        "colab": {
          "base_uri": "https://localhost:8080/"
        }
      },
      "execution_count": 9,
      "outputs": [
        {
          "output_type": "stream",
          "name": "stdout",
          "text": [
            "Mounted at /content/drive\n"
          ]
        }
      ]
    },
    {
      "cell_type": "code",
      "source": [
        "import os # os จัดการเกี่ยวกับไฟล์ต่างๆ ในโฟล์เดอร์"
      ],
      "metadata": {
        "id": "4FmGEDgXHMc7"
      },
      "execution_count": 10,
      "outputs": []
    },
    {
      "cell_type": "code",
      "source": [
        "path = '/content/drive/My Drive/Model_Bonet'  # ชี้ว่า data เราอยู่โฟล์เดอร์ไหน"
      ],
      "metadata": {
        "id": "wJBeWvLSN1zt"
      },
      "execution_count": 11,
      "outputs": []
    },
    {
      "cell_type": "code",
      "source": [
        "ls"
      ],
      "metadata": {
        "id": "X1RZP8aMN7Qw",
        "outputId": "512a0f1c-2304-4687-c28e-bae9f3b682fb",
        "colab": {
          "base_uri": "https://localhost:8080/"
        }
      },
      "execution_count": 12,
      "outputs": [
        {
          "output_type": "stream",
          "name": "stdout",
          "text": [
            "\u001b[0m\u001b[01;34mBonet\u001b[0m/  \u001b[01;34mdrive\u001b[0m/  \u001b[01;34msample_data\u001b[0m/\n"
          ]
        }
      ]
    },
    {
      "cell_type": "code",
      "source": [
        "# Dataloading-related settings\n",
        "parser.add_argument('--heatmaps', default=False, action='store_true',\n",
        "                help='Train model with gaussian heatmaps')\n",
        "parser.add_argument('--cropped', default=False, action='store_true',\n",
        "                help='Train model with cropped images according to bbox')\n",
        "parser.add_argument('--dataset', default='RSNA', type=str,choices=['RSNA','RHPE'],\n",
        "                help='Dataset to perform training')\n",
        "\n",
        "parser.add_argument('Data/Train/', default='Data/Train/', type=str,\n",
        "                help='path to train data folder')\n",
        "parser.add_argument('Data/Train/', default='train.csv', type=str,\n",
        "                help='path to BAA annotations file')\n",
        "parser.add_argument('Data/', default='train.json',\n",
        "                type=str, help='path to ROIs annotations in coco format')\n",
        "\n",
        "parser.add_argument('Data/Validation/', default='Data/Validation/', type=str,\n",
        "                help='path to val data folder')\n",
        "parser.add_argument('Data/Validation/', default='validation.csv', type=str,\n",
        "                help='path to BAA annotations file')\n",
        "parser.add_argument('Data/', default='validation.json',\n",
        "                type=str, help='path to ROIs annotations in coco format')\n",
        "\n",
        "parser.add_argument('--save-folder', default='TRAIN/new_test/',\n",
        "                help='location to save checkpoint models')\n",
        "parser.add_argument('--snapshot', default='boneage_bonet_weights.pth',\n",
        "                help='path to weight snapshot file')\n",
        "parser.add_argument('--optim-snapshot', type=str,\n",
        "                default='boneage_bonet_optim.pth',\n",
        "                help='path to optimizer state snapshot')\n",
        "\n",
        "parser.add_argument('--eval-first', default=False, action='store_true',\n",
        "                help='evaluate model weights before training')\n",
        "parser.add_argument('-j', '--workers', default=4, type=int, metavar='N',\n",
        "                help='number of data loading workers (default: 4)')"
      ],
      "metadata": {
        "colab": {
          "base_uri": "https://localhost:8080/"
        },
        "id": "pp2pcxr_Ogb-",
        "outputId": "408a5898-c8d3-4fcc-a2d7-557c76233267"
      },
      "execution_count": 13,
      "outputs": [
        {
          "output_type": "execute_result",
          "data": {
            "text/plain": [
              "_StoreAction(option_strings=['-j', '--workers'], dest='workers', nargs=None, const=None, default=4, type=<class 'int'>, choices=None, help='number of data loading workers (default: 4)', metavar='N')"
            ]
          },
          "metadata": {},
          "execution_count": 13
        }
      ]
    },
    {
      "cell_type": "code",
      "source": [
        "# Training procedure settings\n",
        "parser.add_argument('--batch-size', default=1, type=int,\n",
        "                help='Batch size for training')\n",
        "parser.add_argument('--epochs', type=int, default=20,\n",
        "                help='upper epoch limit')\n",
        "parser.add_argument('--lr', '--learning-rate', default=1e-5, type=float,\n",
        "                help='initial learning rate')\n",
        "parser.add_argument('--patience', default=2, type=int,\n",
        "                help='patience epochs for LR decreasing')\n",
        "parser.add_argument('--start-epoch', type=int, default=1,\n",
        "                help='epoch number to resume')\n",
        "parser.add_argument('--seed', type=int, default=1111,\n",
        "                    help='random seed')\n",
        "parser.add_argument('--log-interval', type=int, default=30, metavar='N',\n",
        "                    help='report interval')\n",
        "\n",
        "parser.add_argument('--gpu', type=str, default='2,3')"
      ],
      "metadata": {
        "colab": {
          "base_uri": "https://localhost:8080/"
        },
        "id": "7A93-WbbOlk8",
        "outputId": "bc234768-1498-4091-e0c2-4278120d9241"
      },
      "execution_count": 14,
      "outputs": [
        {
          "output_type": "execute_result",
          "data": {
            "text/plain": [
              "_StoreAction(option_strings=['--gpu'], dest='gpu', nargs=None, const=None, default='2,3', type=<class 'str'>, choices=None, help=None, metavar=None)"
            ]
          },
          "metadata": {},
          "execution_count": 14
        }
      ]
    },
    {
      "cell_type": "code",
      "source": [
        "args = parser.parse_args(args=[])\n",
        "args"
      ],
      "metadata": {
        "colab": {
          "base_uri": "https://localhost:8080/",
          "height": 305
        },
        "id": "at1glcMbOpVd",
        "outputId": "88dbc2f2-4416-4ba8-ad19-1b9f894fc3e2"
      },
      "execution_count": 15,
      "outputs": [
        {
          "output_type": "stream",
          "name": "stderr",
          "text": [
            "usage: ipykernel_launcher.py [-h] [--heatmaps] [--cropped]\n",
            "                             [--dataset {RSNA,RHPE}]\n",
            "                             [--save-folder SAVE_FOLDER] [--snapshot SNAPSHOT]\n",
            "                             [--optim-snapshot OPTIM_SNAPSHOT] [--eval-first]\n",
            "                             [-j N] [--batch-size BATCH_SIZE]\n",
            "                             [--epochs EPOCHS] [--lr LR] [--patience PATIENCE]\n",
            "                             [--start-epoch START_EPOCH] [--seed SEED]\n",
            "                             [--log-interval N] [--gpu GPU]\n",
            "                             Data/Train/ Data/Train/ Data/ Data/Validation/\n",
            "                             Data/Validation/ Data/\n",
            "ipykernel_launcher.py: error: the following arguments are required: Data/Train/, Data/Train/, Data/, Data/Validation/, Data/Validation/, Data/\n"
          ]
        },
        {
          "output_type": "error",
          "ename": "SystemExit",
          "evalue": "ignored",
          "traceback": [
            "An exception has occurred, use %tb to see the full traceback.\n",
            "\u001b[0;31mSystemExit\u001b[0m\u001b[0;31m:\u001b[0m 2\n"
          ]
        }
      ]
    },
    {
      "cell_type": "code",
      "source": [
        "args_dict = vars(args)\n",
        "print('Argument list to program')\n",
        "print('\\n'.join(['--{0} {1}'.format(arg, args_dict[arg])\n",
        "                 for arg in args_dict]))\n",
        "print('\\n\\n')"
      ],
      "metadata": {
        "id": "7AW-AjPHOsBr"
      },
      "execution_count": null,
      "outputs": []
    },
    {
      "cell_type": "code",
      "source": [
        "torch.manual_seed(args.seed)\n",
        "device = torch.device('cuda' if torch.cuda.is_available() else 'cpu')\n",
        "os.environ['CUDA_VISIBLE_DEVICES'] = args.gpu"
      ],
      "metadata": {
        "id": "ynHsTVUyPR3L"
      },
      "execution_count": null,
      "outputs": []
    },
    {
      "cell_type": "code",
      "source": [
        "if not os.path.exists(args.save_folder):\n",
        "    os.makedirs(args.save_folder)"
      ],
      "metadata": {
        "id": "aAKAmLh-aNrs"
      },
      "execution_count": null,
      "outputs": []
    },
    {
      "cell_type": "code",
      "source": [
        "# Horovod settings\n",
        "hvd.init()\n",
        "torch.cuda.set_device(hvd.local_rank())\n",
        "torch.cuda.manual_seed(hvd.size())\n",
        "\n",
        "args.distributed = hvd.size() > 1\n",
        "args.rank = hvd.rank()\n",
        "args.size = hvd.size()"
      ],
      "metadata": {
        "id": "y_4mmkjjaQ0y"
      },
      "execution_count": null,
      "outputs": []
    },
    {
      "cell_type": "code",
      "source": [
        "# CREATE THE NETWORK ARCHITECTURE AND LOAD THE BEST MODEL\n",
        "if args.heatmaps:\n",
        "    from Bonet.models.bonet_heatmap import BoNet\n",
        "else:\n",
        "    from Bonet.models.bonet import BoNet"
      ],
      "metadata": {
        "id": "cOp2XVL1bQnd"
      },
      "execution_count": null,
      "outputs": []
    },
    {
      "cell_type": "code",
      "source": [
        "net = BoNet()"
      ],
      "metadata": {
        "id": "4wnyiJE8iFIx"
      },
      "execution_count": null,
      "outputs": []
    },
    {
      "cell_type": "code",
      "source": [
        "if args.rank == 0:\n",
        "    print('---> Number of params: {}'.format(\n",
        "        sum([p.data.nelement() for p in net.parameters()])))"
      ],
      "metadata": {
        "id": "DUkrLDWvM47E"
      },
      "execution_count": null,
      "outputs": []
    },
    {
      "cell_type": "code",
      "source": [
        "if osp.exists(args.snapshot):\n",
        "    model_to_load=args.snapshot\n",
        "else:\n",
        "    model_to_load=args.save_folder+'/'+args.snapshot"
      ],
      "metadata": {
        "id": "Hpw0q-P2M9s_"
      },
      "execution_count": null,
      "outputs": []
    },
    {
      "cell_type": "code",
      "source": [
        "if osp.exists(model_to_load) and args.rank == 0:\n",
        "    print('Loading state dict from: {0}'.format(model_to_load))\n",
        "    snapshot_dict = torch.load(model_to_load, map_location=lambda storage, loc: storage)\n",
        "    weights= net.state_dict()\n",
        "    new_snapshot_dict=snapshot_dict.copy()\n",
        "    for key in snapshot_dict:\n",
        "        if key not in weights.keys():\n",
        "            new_key='inception_v3.'+key\n",
        "            new_snapshot_dict[new_key]=snapshot_dict[key]\n",
        "            new_snapshot_dict.pop(key)\n",
        "\n",
        "    net.load_state_dict(new_snapshot_dict)\n",
        "\n",
        "net = net.to(device)"
      ],
      "metadata": {
        "id": "cruc2f2ANA9r"
      },
      "execution_count": null,
      "outputs": []
    },
    {
      "cell_type": "code",
      "source": [
        "# Criterion\n",
        "criterion = nn.L1Loss()"
      ],
      "metadata": {
        "id": "yJb-U7sHNHeb"
      },
      "execution_count": null,
      "outputs": []
    },
    {
      "cell_type": "code",
      "source": [
        "# Optimizer\n",
        "optimizer = optim.Adam(net.parameters(), lr=args.lr * args.size)\n",
        "annealing = optim.lr_scheduler.ReduceLROnPlateau(\n",
        "    optimizer, factor=0.8, patience=args.patience, cooldown=5,\n",
        "    min_lr=0.00001, eps=0.00001, verbose=True)"
      ],
      "metadata": {
        "id": "GLR2PzBPNMKf"
      },
      "execution_count": null,
      "outputs": []
    },
    {
      "cell_type": "code",
      "source": [
        "if osp.exists(args.optim_snapshot):\n",
        "    optim_to_load=args.optim_snapshot\n",
        "else:\n",
        "    optim_to_load=args.save_folder+'/'+args.optim_snapshot"
      ],
      "metadata": {
        "id": "hpOplrbLNOdf"
      },
      "execution_count": null,
      "outputs": []
    },
    {
      "cell_type": "code",
      "source": [
        "if osp.exists(optim_to_load):\n",
        "    print('loading optim snapshot from {}'.format(optim_to_load))\n",
        "    optimizer.load_state_dict(torch.load(optim_to_load, map_location=lambda storage,\n",
        "                                             loc: storage))"
      ],
      "metadata": {
        "id": "qX4XgnLzNQab"
      },
      "execution_count": null,
      "outputs": []
    },
    {
      "cell_type": "code",
      "source": [
        "# Horovod\n",
        "hvd.broadcast_parameters(net.state_dict(), root_rank=0)\n",
        "\n",
        "optimizer = hvd.DistributedOptimizer(\n",
        "    optimizer, named_parameters=net.named_parameters())\n",
        "hvd.broadcast_optimizer_state(optimizer, root_rank=0)\n",
        "group = optimizer.param_groups[0]\n",
        "group['betas'] = (float(group['betas'][0]), float(group['betas'][1]))"
      ],
      "metadata": {
        "id": "BrsWh5qgNSej"
      },
      "execution_count": null,
      "outputs": []
    },
    {
      "cell_type": "code",
      "source": [
        "# Dataloaders\n",
        "train_transform = transforms.Compose([transforms.Resize((500, 500)),\n",
        "                               transforms.RandomAffine(\n",
        "                                   20, translate=(0.2, 0.2),\n",
        "                                   scale=(1, 1.2)),\n",
        "                               transforms.RandomHorizontalFlip(),\n",
        "                               transforms.ToTensor()])\n",
        "train_transform"
      ],
      "metadata": {
        "id": "O2-014AENVBn"
      },
      "execution_count": null,
      "outputs": []
    },
    {
      "cell_type": "code",
      "source": [
        "val_transform = transforms.Compose([transforms.Resize((500, 500)),\n",
        "                               transforms.ToTensor()])\n",
        "val_transform"
      ],
      "metadata": {
        "id": "tw_6cAedNa9X"
      },
      "execution_count": null,
      "outputs": []
    },
    {
      "cell_type": "code",
      "source": [
        "if args.heatmaps:\n",
        "    from Bonet.data.data_loader import Boneage_HeatmapDataset as Dataset\n",
        "else:\n",
        "    from Bonet.data.data_loader import BoneageDataset as Dataset"
      ],
      "metadata": {
        "id": "aWBrf3eVN6Gi"
      },
      "execution_count": null,
      "outputs": []
    },
    {
      "cell_type": "code",
      "source": [
        "train_dataset = Dataset(args.data_train, args.ann_path_train,args.rois_path_train,\n",
        "                                   img_transform=train_transform,crop=args.cropped,dataset=args.dataset)\n",
        "val_dataset = Dataset(args.data_val, args.ann_path_val,args.rois_path_val,\n",
        "                                 img_transform=val_transform,crop=args.cropped,dataset=args.dataset)"
      ],
      "metadata": {
        "id": "8SUYw4WvOkfU"
      },
      "execution_count": null,
      "outputs": []
    },
    {
      "cell_type": "code",
      "source": [],
      "metadata": {
        "id": "JLdE7HKzNemN"
      },
      "execution_count": null,
      "outputs": []
    }
  ]
}