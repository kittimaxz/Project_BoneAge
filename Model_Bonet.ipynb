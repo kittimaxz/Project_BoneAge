{
  "nbformat": 4,
  "nbformat_minor": 0,
  "metadata": {
    "colab": {
      "provenance": [],
      "authorship_tag": "ABX9TyPCyYnWlzfQyMMNIdj4DQYl",
      "include_colab_link": true
    },
    "kernelspec": {
      "name": "python3",
      "display_name": "Python 3"
    },
    "language_info": {
      "name": "python"
    },
    "accelerator": "GPU",
    "gpuClass": "standard"
  },
  "cells": [
    {
      "cell_type": "markdown",
      "metadata": {
        "id": "view-in-github",
        "colab_type": "text"
      },
      "source": [
        "<a href=\"https://colab.research.google.com/github/kittimaxz/Project_BoneAge/blob/main/Model_Bonet.ipynb\" target=\"_parent\"><img src=\"https://colab.research.google.com/assets/colab-badge.svg\" alt=\"Open In Colab\"/></a>"
      ]
    },
    {
      "cell_type": "code",
      "source": [
        "!git clone https://github.com/BCV-Uniandes/Bonet.git\n",
        "!cd Bonet"
      ],
      "metadata": {
        "id": "CjtKZp2l1fxz",
        "outputId": "b6957a4f-a3d5-4153-9f80-362e033257b4",
        "colab": {
          "base_uri": "https://localhost:8080/"
        }
      },
      "execution_count": 1,
      "outputs": [
        {
          "output_type": "stream",
          "name": "stdout",
          "text": [
            "Cloning into 'Bonet'...\n",
            "remote: Enumerating objects: 52, done.\u001b[K\n",
            "remote: Total 52 (delta 0), reused 0 (delta 0), pack-reused 52\u001b[K\n",
            "Unpacking objects: 100% (52/52), done.\n"
          ]
        }
      ]
    },
    {
      "cell_type": "code",
      "execution_count": 2,
      "metadata": {
        "id": "kVtXM4zjEbf2"
      },
      "outputs": [],
      "source": [
        "# Load in relevant libraries, and alias where appropriate\n",
        "import torch\n",
        "import torch.nn as nn\n",
        "import torchvision\n",
        "import torchvision.transforms as transforms"
      ]
    },
    {
      "cell_type": "code",
      "source": [
        "import pandas as pd # data processing, CSV file I/O (e.g. pd.read_csv) # เป็น library ในการจัดการ dataframe"
      ],
      "metadata": {
        "id": "raVWe01pTUU6"
      },
      "execution_count": 3,
      "outputs": []
    },
    {
      "cell_type": "code",
      "source": [
        "from google.colab import drive # เชื่อม drive ของเรา ถ้าเชื่อมสำเร็จจะขึ้นคำว่าMounted at /content/drive \n",
        "drive.mount('/content/drive')"
      ],
      "metadata": {
        "colab": {
          "base_uri": "https://localhost:8080/"
        },
        "id": "c6EGZfMIKHN7",
        "outputId": "d691e626-277f-42b7-ceb5-45920bef365b"
      },
      "execution_count": 4,
      "outputs": [
        {
          "output_type": "stream",
          "name": "stdout",
          "text": [
            "Mounted at /content/drive\n"
          ]
        }
      ]
    },
    {
      "cell_type": "code",
      "source": [
        "import os # os จัดการเกี่ยวกับไฟล์ต่างๆ ในโฟล์เดอร์"
      ],
      "metadata": {
        "id": "imIMz1PuKYBJ"
      },
      "execution_count": 5,
      "outputs": []
    },
    {
      "cell_type": "code",
      "source": [
        "path = '/content/drive/My Drive/Project_Boneage'  # ชี้ว่า data เราอยู่โฟล์เดอร์ไหน"
      ],
      "metadata": {
        "id": "CBctdZKDLX0v"
      },
      "execution_count": 6,
      "outputs": []
    },
    {
      "cell_type": "code",
      "source": [
        "#loading dataframes # เอาที่อยู่ของไฟล์เชื่อมกับที่อยู่ของไฟล์เรา โดยกำหนดชื่่อไฟล์ที่เราต้องการ\n",
        "train_path = os.path.join(path,'train.csv')\n",
        "train_dataset = pd.read_csv(train_path)\n",
        "validation_path = os.path.join(path,'validation.csv')\n",
        "validation_dataset = pd.read_csv(validation_path)\n",
        "test_path = os.path.join(path,'boneage-test-dataset.csv')\n",
        "test_dataset = pd.read_csv(test_path)"
      ],
      "metadata": {
        "id": "ZP6LhikITHJP"
      },
      "execution_count": 7,
      "outputs": []
    },
    {
      "cell_type": "code",
      "source": [
        "train_dataset"
      ],
      "metadata": {
        "colab": {
          "base_uri": "https://localhost:8080/",
          "height": 424
        },
        "id": "ZubQM5tcQk1B",
        "outputId": "0e1564af-6e24-4ed6-d625-532cd2add91d"
      },
      "execution_count": 8,
      "outputs": [
        {
          "output_type": "execute_result",
          "data": {
            "text/plain": [
              "          id  boneage   male\n",
              "0       1377      180  False\n",
              "1       1378       12  False\n",
              "2       1379       94  False\n",
              "3       1380      120   True\n",
              "4       1381       82  False\n",
              "...      ...      ...    ...\n",
              "10084  13259       94  False\n",
              "10085  13261       94  False\n",
              "10086  13274       94  False\n",
              "10087  13286       94  False\n",
              "10088  13305      216  False\n",
              "\n",
              "[10089 rows x 3 columns]"
            ],
            "text/html": [
              "\n",
              "  <div id=\"df-c4aa3301-21d1-419e-a51c-af40538f5764\">\n",
              "    <div class=\"colab-df-container\">\n",
              "      <div>\n",
              "<style scoped>\n",
              "    .dataframe tbody tr th:only-of-type {\n",
              "        vertical-align: middle;\n",
              "    }\n",
              "\n",
              "    .dataframe tbody tr th {\n",
              "        vertical-align: top;\n",
              "    }\n",
              "\n",
              "    .dataframe thead th {\n",
              "        text-align: right;\n",
              "    }\n",
              "</style>\n",
              "<table border=\"1\" class=\"dataframe\">\n",
              "  <thead>\n",
              "    <tr style=\"text-align: right;\">\n",
              "      <th></th>\n",
              "      <th>id</th>\n",
              "      <th>boneage</th>\n",
              "      <th>male</th>\n",
              "    </tr>\n",
              "  </thead>\n",
              "  <tbody>\n",
              "    <tr>\n",
              "      <th>0</th>\n",
              "      <td>1377</td>\n",
              "      <td>180</td>\n",
              "      <td>False</td>\n",
              "    </tr>\n",
              "    <tr>\n",
              "      <th>1</th>\n",
              "      <td>1378</td>\n",
              "      <td>12</td>\n",
              "      <td>False</td>\n",
              "    </tr>\n",
              "    <tr>\n",
              "      <th>2</th>\n",
              "      <td>1379</td>\n",
              "      <td>94</td>\n",
              "      <td>False</td>\n",
              "    </tr>\n",
              "    <tr>\n",
              "      <th>3</th>\n",
              "      <td>1380</td>\n",
              "      <td>120</td>\n",
              "      <td>True</td>\n",
              "    </tr>\n",
              "    <tr>\n",
              "      <th>4</th>\n",
              "      <td>1381</td>\n",
              "      <td>82</td>\n",
              "      <td>False</td>\n",
              "    </tr>\n",
              "    <tr>\n",
              "      <th>...</th>\n",
              "      <td>...</td>\n",
              "      <td>...</td>\n",
              "      <td>...</td>\n",
              "    </tr>\n",
              "    <tr>\n",
              "      <th>10084</th>\n",
              "      <td>13259</td>\n",
              "      <td>94</td>\n",
              "      <td>False</td>\n",
              "    </tr>\n",
              "    <tr>\n",
              "      <th>10085</th>\n",
              "      <td>13261</td>\n",
              "      <td>94</td>\n",
              "      <td>False</td>\n",
              "    </tr>\n",
              "    <tr>\n",
              "      <th>10086</th>\n",
              "      <td>13274</td>\n",
              "      <td>94</td>\n",
              "      <td>False</td>\n",
              "    </tr>\n",
              "    <tr>\n",
              "      <th>10087</th>\n",
              "      <td>13286</td>\n",
              "      <td>94</td>\n",
              "      <td>False</td>\n",
              "    </tr>\n",
              "    <tr>\n",
              "      <th>10088</th>\n",
              "      <td>13305</td>\n",
              "      <td>216</td>\n",
              "      <td>False</td>\n",
              "    </tr>\n",
              "  </tbody>\n",
              "</table>\n",
              "<p>10089 rows × 3 columns</p>\n",
              "</div>\n",
              "      <button class=\"colab-df-convert\" onclick=\"convertToInteractive('df-c4aa3301-21d1-419e-a51c-af40538f5764')\"\n",
              "              title=\"Convert this dataframe to an interactive table.\"\n",
              "              style=\"display:none;\">\n",
              "        \n",
              "  <svg xmlns=\"http://www.w3.org/2000/svg\" height=\"24px\"viewBox=\"0 0 24 24\"\n",
              "       width=\"24px\">\n",
              "    <path d=\"M0 0h24v24H0V0z\" fill=\"none\"/>\n",
              "    <path d=\"M18.56 5.44l.94 2.06.94-2.06 2.06-.94-2.06-.94-.94-2.06-.94 2.06-2.06.94zm-11 1L8.5 8.5l.94-2.06 2.06-.94-2.06-.94L8.5 2.5l-.94 2.06-2.06.94zm10 10l.94 2.06.94-2.06 2.06-.94-2.06-.94-.94-2.06-.94 2.06-2.06.94z\"/><path d=\"M17.41 7.96l-1.37-1.37c-.4-.4-.92-.59-1.43-.59-.52 0-1.04.2-1.43.59L10.3 9.45l-7.72 7.72c-.78.78-.78 2.05 0 2.83L4 21.41c.39.39.9.59 1.41.59.51 0 1.02-.2 1.41-.59l7.78-7.78 2.81-2.81c.8-.78.8-2.07 0-2.86zM5.41 20L4 18.59l7.72-7.72 1.47 1.35L5.41 20z\"/>\n",
              "  </svg>\n",
              "      </button>\n",
              "      \n",
              "  <style>\n",
              "    .colab-df-container {\n",
              "      display:flex;\n",
              "      flex-wrap:wrap;\n",
              "      gap: 12px;\n",
              "    }\n",
              "\n",
              "    .colab-df-convert {\n",
              "      background-color: #E8F0FE;\n",
              "      border: none;\n",
              "      border-radius: 50%;\n",
              "      cursor: pointer;\n",
              "      display: none;\n",
              "      fill: #1967D2;\n",
              "      height: 32px;\n",
              "      padding: 0 0 0 0;\n",
              "      width: 32px;\n",
              "    }\n",
              "\n",
              "    .colab-df-convert:hover {\n",
              "      background-color: #E2EBFA;\n",
              "      box-shadow: 0px 1px 2px rgba(60, 64, 67, 0.3), 0px 1px 3px 1px rgba(60, 64, 67, 0.15);\n",
              "      fill: #174EA6;\n",
              "    }\n",
              "\n",
              "    [theme=dark] .colab-df-convert {\n",
              "      background-color: #3B4455;\n",
              "      fill: #D2E3FC;\n",
              "    }\n",
              "\n",
              "    [theme=dark] .colab-df-convert:hover {\n",
              "      background-color: #434B5C;\n",
              "      box-shadow: 0px 1px 3px 1px rgba(0, 0, 0, 0.15);\n",
              "      filter: drop-shadow(0px 1px 2px rgba(0, 0, 0, 0.3));\n",
              "      fill: #FFFFFF;\n",
              "    }\n",
              "  </style>\n",
              "\n",
              "      <script>\n",
              "        const buttonEl =\n",
              "          document.querySelector('#df-c4aa3301-21d1-419e-a51c-af40538f5764 button.colab-df-convert');\n",
              "        buttonEl.style.display =\n",
              "          google.colab.kernel.accessAllowed ? 'block' : 'none';\n",
              "\n",
              "        async function convertToInteractive(key) {\n",
              "          const element = document.querySelector('#df-c4aa3301-21d1-419e-a51c-af40538f5764');\n",
              "          const dataTable =\n",
              "            await google.colab.kernel.invokeFunction('convertToInteractive',\n",
              "                                                     [key], {});\n",
              "          if (!dataTable) return;\n",
              "\n",
              "          const docLinkHtml = 'Like what you see? Visit the ' +\n",
              "            '<a target=\"_blank\" href=https://colab.research.google.com/notebooks/data_table.ipynb>data table notebook</a>'\n",
              "            + ' to learn more about interactive tables.';\n",
              "          element.innerHTML = '';\n",
              "          dataTable['output_type'] = 'display_data';\n",
              "          await google.colab.output.renderOutput(dataTable, element);\n",
              "          const docLink = document.createElement('div');\n",
              "          docLink.innerHTML = docLinkHtml;\n",
              "          element.appendChild(docLink);\n",
              "        }\n",
              "      </script>\n",
              "    </div>\n",
              "  </div>\n",
              "  "
            ]
          },
          "metadata": {},
          "execution_count": 8
        }
      ]
    },
    {
      "cell_type": "code",
      "source": [
        "validation_dataset"
      ],
      "metadata": {
        "colab": {
          "base_uri": "https://localhost:8080/",
          "height": 424
        },
        "id": "Jev6BbP5YBNR",
        "outputId": "c6533c66-cb60-4550-f153-bad386015d07"
      },
      "execution_count": 9,
      "outputs": [
        {
          "output_type": "execute_result",
          "data": {
            "text/plain": [
              "         id  boneage   male\n",
              "0     10186       10   True\n",
              "1     10758       15  False\n",
              "2     10860      180  False\n",
              "3     10877      180  False\n",
              "4     11008      180  False\n",
              "...     ...      ...    ...\n",
              "2517  15605       50  False\n",
              "2518  15606      113  False\n",
              "2519  15608       55  False\n",
              "2520  15609      150   True\n",
              "2521  15610      132   True\n",
              "\n",
              "[2522 rows x 3 columns]"
            ],
            "text/html": [
              "\n",
              "  <div id=\"df-80e6107f-f7ec-425b-b3d2-6b02776b99b8\">\n",
              "    <div class=\"colab-df-container\">\n",
              "      <div>\n",
              "<style scoped>\n",
              "    .dataframe tbody tr th:only-of-type {\n",
              "        vertical-align: middle;\n",
              "    }\n",
              "\n",
              "    .dataframe tbody tr th {\n",
              "        vertical-align: top;\n",
              "    }\n",
              "\n",
              "    .dataframe thead th {\n",
              "        text-align: right;\n",
              "    }\n",
              "</style>\n",
              "<table border=\"1\" class=\"dataframe\">\n",
              "  <thead>\n",
              "    <tr style=\"text-align: right;\">\n",
              "      <th></th>\n",
              "      <th>id</th>\n",
              "      <th>boneage</th>\n",
              "      <th>male</th>\n",
              "    </tr>\n",
              "  </thead>\n",
              "  <tbody>\n",
              "    <tr>\n",
              "      <th>0</th>\n",
              "      <td>10186</td>\n",
              "      <td>10</td>\n",
              "      <td>True</td>\n",
              "    </tr>\n",
              "    <tr>\n",
              "      <th>1</th>\n",
              "      <td>10758</td>\n",
              "      <td>15</td>\n",
              "      <td>False</td>\n",
              "    </tr>\n",
              "    <tr>\n",
              "      <th>2</th>\n",
              "      <td>10860</td>\n",
              "      <td>180</td>\n",
              "      <td>False</td>\n",
              "    </tr>\n",
              "    <tr>\n",
              "      <th>3</th>\n",
              "      <td>10877</td>\n",
              "      <td>180</td>\n",
              "      <td>False</td>\n",
              "    </tr>\n",
              "    <tr>\n",
              "      <th>4</th>\n",
              "      <td>11008</td>\n",
              "      <td>180</td>\n",
              "      <td>False</td>\n",
              "    </tr>\n",
              "    <tr>\n",
              "      <th>...</th>\n",
              "      <td>...</td>\n",
              "      <td>...</td>\n",
              "      <td>...</td>\n",
              "    </tr>\n",
              "    <tr>\n",
              "      <th>2517</th>\n",
              "      <td>15605</td>\n",
              "      <td>50</td>\n",
              "      <td>False</td>\n",
              "    </tr>\n",
              "    <tr>\n",
              "      <th>2518</th>\n",
              "      <td>15606</td>\n",
              "      <td>113</td>\n",
              "      <td>False</td>\n",
              "    </tr>\n",
              "    <tr>\n",
              "      <th>2519</th>\n",
              "      <td>15608</td>\n",
              "      <td>55</td>\n",
              "      <td>False</td>\n",
              "    </tr>\n",
              "    <tr>\n",
              "      <th>2520</th>\n",
              "      <td>15609</td>\n",
              "      <td>150</td>\n",
              "      <td>True</td>\n",
              "    </tr>\n",
              "    <tr>\n",
              "      <th>2521</th>\n",
              "      <td>15610</td>\n",
              "      <td>132</td>\n",
              "      <td>True</td>\n",
              "    </tr>\n",
              "  </tbody>\n",
              "</table>\n",
              "<p>2522 rows × 3 columns</p>\n",
              "</div>\n",
              "      <button class=\"colab-df-convert\" onclick=\"convertToInteractive('df-80e6107f-f7ec-425b-b3d2-6b02776b99b8')\"\n",
              "              title=\"Convert this dataframe to an interactive table.\"\n",
              "              style=\"display:none;\">\n",
              "        \n",
              "  <svg xmlns=\"http://www.w3.org/2000/svg\" height=\"24px\"viewBox=\"0 0 24 24\"\n",
              "       width=\"24px\">\n",
              "    <path d=\"M0 0h24v24H0V0z\" fill=\"none\"/>\n",
              "    <path d=\"M18.56 5.44l.94 2.06.94-2.06 2.06-.94-2.06-.94-.94-2.06-.94 2.06-2.06.94zm-11 1L8.5 8.5l.94-2.06 2.06-.94-2.06-.94L8.5 2.5l-.94 2.06-2.06.94zm10 10l.94 2.06.94-2.06 2.06-.94-2.06-.94-.94-2.06-.94 2.06-2.06.94z\"/><path d=\"M17.41 7.96l-1.37-1.37c-.4-.4-.92-.59-1.43-.59-.52 0-1.04.2-1.43.59L10.3 9.45l-7.72 7.72c-.78.78-.78 2.05 0 2.83L4 21.41c.39.39.9.59 1.41.59.51 0 1.02-.2 1.41-.59l7.78-7.78 2.81-2.81c.8-.78.8-2.07 0-2.86zM5.41 20L4 18.59l7.72-7.72 1.47 1.35L5.41 20z\"/>\n",
              "  </svg>\n",
              "      </button>\n",
              "      \n",
              "  <style>\n",
              "    .colab-df-container {\n",
              "      display:flex;\n",
              "      flex-wrap:wrap;\n",
              "      gap: 12px;\n",
              "    }\n",
              "\n",
              "    .colab-df-convert {\n",
              "      background-color: #E8F0FE;\n",
              "      border: none;\n",
              "      border-radius: 50%;\n",
              "      cursor: pointer;\n",
              "      display: none;\n",
              "      fill: #1967D2;\n",
              "      height: 32px;\n",
              "      padding: 0 0 0 0;\n",
              "      width: 32px;\n",
              "    }\n",
              "\n",
              "    .colab-df-convert:hover {\n",
              "      background-color: #E2EBFA;\n",
              "      box-shadow: 0px 1px 2px rgba(60, 64, 67, 0.3), 0px 1px 3px 1px rgba(60, 64, 67, 0.15);\n",
              "      fill: #174EA6;\n",
              "    }\n",
              "\n",
              "    [theme=dark] .colab-df-convert {\n",
              "      background-color: #3B4455;\n",
              "      fill: #D2E3FC;\n",
              "    }\n",
              "\n",
              "    [theme=dark] .colab-df-convert:hover {\n",
              "      background-color: #434B5C;\n",
              "      box-shadow: 0px 1px 3px 1px rgba(0, 0, 0, 0.15);\n",
              "      filter: drop-shadow(0px 1px 2px rgba(0, 0, 0, 0.3));\n",
              "      fill: #FFFFFF;\n",
              "    }\n",
              "  </style>\n",
              "\n",
              "      <script>\n",
              "        const buttonEl =\n",
              "          document.querySelector('#df-80e6107f-f7ec-425b-b3d2-6b02776b99b8 button.colab-df-convert');\n",
              "        buttonEl.style.display =\n",
              "          google.colab.kernel.accessAllowed ? 'block' : 'none';\n",
              "\n",
              "        async function convertToInteractive(key) {\n",
              "          const element = document.querySelector('#df-80e6107f-f7ec-425b-b3d2-6b02776b99b8');\n",
              "          const dataTable =\n",
              "            await google.colab.kernel.invokeFunction('convertToInteractive',\n",
              "                                                     [key], {});\n",
              "          if (!dataTable) return;\n",
              "\n",
              "          const docLinkHtml = 'Like what you see? Visit the ' +\n",
              "            '<a target=\"_blank\" href=https://colab.research.google.com/notebooks/data_table.ipynb>data table notebook</a>'\n",
              "            + ' to learn more about interactive tables.';\n",
              "          element.innerHTML = '';\n",
              "          dataTable['output_type'] = 'display_data';\n",
              "          await google.colab.output.renderOutput(dataTable, element);\n",
              "          const docLink = document.createElement('div');\n",
              "          docLink.innerHTML = docLinkHtml;\n",
              "          element.appendChild(docLink);\n",
              "        }\n",
              "      </script>\n",
              "    </div>\n",
              "  </div>\n",
              "  "
            ]
          },
          "metadata": {},
          "execution_count": 9
        }
      ]
    },
    {
      "cell_type": "code",
      "source": [
        "test_dataset"
      ],
      "metadata": {
        "colab": {
          "base_uri": "https://localhost:8080/",
          "height": 424
        },
        "id": "LsUzJUrNQm56",
        "outputId": "76a29c7a-5824-4b3e-877f-099989b0d973"
      },
      "execution_count": 10,
      "outputs": [
        {
          "output_type": "execute_result",
          "data": {
            "text/plain": [
              "     Case ID Sex  Ground truth bone age (months)\n",
              "0       4360   M                             169\n",
              "1       4361   M                             170\n",
              "2       4362   M                              73\n",
              "3       4363   M                             153\n",
              "4       4364   M                             135\n",
              "..       ...  ..                             ...\n",
              "195     4555   F                             133\n",
              "196     4556   F                             129\n",
              "197     4557   F                             168\n",
              "198     4558   F                             136\n",
              "199     4559   F                             118\n",
              "\n",
              "[200 rows x 3 columns]"
            ],
            "text/html": [
              "\n",
              "  <div id=\"df-12eb31b2-59ce-430b-8a81-a10508992a81\">\n",
              "    <div class=\"colab-df-container\">\n",
              "      <div>\n",
              "<style scoped>\n",
              "    .dataframe tbody tr th:only-of-type {\n",
              "        vertical-align: middle;\n",
              "    }\n",
              "\n",
              "    .dataframe tbody tr th {\n",
              "        vertical-align: top;\n",
              "    }\n",
              "\n",
              "    .dataframe thead th {\n",
              "        text-align: right;\n",
              "    }\n",
              "</style>\n",
              "<table border=\"1\" class=\"dataframe\">\n",
              "  <thead>\n",
              "    <tr style=\"text-align: right;\">\n",
              "      <th></th>\n",
              "      <th>Case ID</th>\n",
              "      <th>Sex</th>\n",
              "      <th>Ground truth bone age (months)</th>\n",
              "    </tr>\n",
              "  </thead>\n",
              "  <tbody>\n",
              "    <tr>\n",
              "      <th>0</th>\n",
              "      <td>4360</td>\n",
              "      <td>M</td>\n",
              "      <td>169</td>\n",
              "    </tr>\n",
              "    <tr>\n",
              "      <th>1</th>\n",
              "      <td>4361</td>\n",
              "      <td>M</td>\n",
              "      <td>170</td>\n",
              "    </tr>\n",
              "    <tr>\n",
              "      <th>2</th>\n",
              "      <td>4362</td>\n",
              "      <td>M</td>\n",
              "      <td>73</td>\n",
              "    </tr>\n",
              "    <tr>\n",
              "      <th>3</th>\n",
              "      <td>4363</td>\n",
              "      <td>M</td>\n",
              "      <td>153</td>\n",
              "    </tr>\n",
              "    <tr>\n",
              "      <th>4</th>\n",
              "      <td>4364</td>\n",
              "      <td>M</td>\n",
              "      <td>135</td>\n",
              "    </tr>\n",
              "    <tr>\n",
              "      <th>...</th>\n",
              "      <td>...</td>\n",
              "      <td>...</td>\n",
              "      <td>...</td>\n",
              "    </tr>\n",
              "    <tr>\n",
              "      <th>195</th>\n",
              "      <td>4555</td>\n",
              "      <td>F</td>\n",
              "      <td>133</td>\n",
              "    </tr>\n",
              "    <tr>\n",
              "      <th>196</th>\n",
              "      <td>4556</td>\n",
              "      <td>F</td>\n",
              "      <td>129</td>\n",
              "    </tr>\n",
              "    <tr>\n",
              "      <th>197</th>\n",
              "      <td>4557</td>\n",
              "      <td>F</td>\n",
              "      <td>168</td>\n",
              "    </tr>\n",
              "    <tr>\n",
              "      <th>198</th>\n",
              "      <td>4558</td>\n",
              "      <td>F</td>\n",
              "      <td>136</td>\n",
              "    </tr>\n",
              "    <tr>\n",
              "      <th>199</th>\n",
              "      <td>4559</td>\n",
              "      <td>F</td>\n",
              "      <td>118</td>\n",
              "    </tr>\n",
              "  </tbody>\n",
              "</table>\n",
              "<p>200 rows × 3 columns</p>\n",
              "</div>\n",
              "      <button class=\"colab-df-convert\" onclick=\"convertToInteractive('df-12eb31b2-59ce-430b-8a81-a10508992a81')\"\n",
              "              title=\"Convert this dataframe to an interactive table.\"\n",
              "              style=\"display:none;\">\n",
              "        \n",
              "  <svg xmlns=\"http://www.w3.org/2000/svg\" height=\"24px\"viewBox=\"0 0 24 24\"\n",
              "       width=\"24px\">\n",
              "    <path d=\"M0 0h24v24H0V0z\" fill=\"none\"/>\n",
              "    <path d=\"M18.56 5.44l.94 2.06.94-2.06 2.06-.94-2.06-.94-.94-2.06-.94 2.06-2.06.94zm-11 1L8.5 8.5l.94-2.06 2.06-.94-2.06-.94L8.5 2.5l-.94 2.06-2.06.94zm10 10l.94 2.06.94-2.06 2.06-.94-2.06-.94-.94-2.06-.94 2.06-2.06.94z\"/><path d=\"M17.41 7.96l-1.37-1.37c-.4-.4-.92-.59-1.43-.59-.52 0-1.04.2-1.43.59L10.3 9.45l-7.72 7.72c-.78.78-.78 2.05 0 2.83L4 21.41c.39.39.9.59 1.41.59.51 0 1.02-.2 1.41-.59l7.78-7.78 2.81-2.81c.8-.78.8-2.07 0-2.86zM5.41 20L4 18.59l7.72-7.72 1.47 1.35L5.41 20z\"/>\n",
              "  </svg>\n",
              "      </button>\n",
              "      \n",
              "  <style>\n",
              "    .colab-df-container {\n",
              "      display:flex;\n",
              "      flex-wrap:wrap;\n",
              "      gap: 12px;\n",
              "    }\n",
              "\n",
              "    .colab-df-convert {\n",
              "      background-color: #E8F0FE;\n",
              "      border: none;\n",
              "      border-radius: 50%;\n",
              "      cursor: pointer;\n",
              "      display: none;\n",
              "      fill: #1967D2;\n",
              "      height: 32px;\n",
              "      padding: 0 0 0 0;\n",
              "      width: 32px;\n",
              "    }\n",
              "\n",
              "    .colab-df-convert:hover {\n",
              "      background-color: #E2EBFA;\n",
              "      box-shadow: 0px 1px 2px rgba(60, 64, 67, 0.3), 0px 1px 3px 1px rgba(60, 64, 67, 0.15);\n",
              "      fill: #174EA6;\n",
              "    }\n",
              "\n",
              "    [theme=dark] .colab-df-convert {\n",
              "      background-color: #3B4455;\n",
              "      fill: #D2E3FC;\n",
              "    }\n",
              "\n",
              "    [theme=dark] .colab-df-convert:hover {\n",
              "      background-color: #434B5C;\n",
              "      box-shadow: 0px 1px 3px 1px rgba(0, 0, 0, 0.15);\n",
              "      filter: drop-shadow(0px 1px 2px rgba(0, 0, 0, 0.3));\n",
              "      fill: #FFFFFF;\n",
              "    }\n",
              "  </style>\n",
              "\n",
              "      <script>\n",
              "        const buttonEl =\n",
              "          document.querySelector('#df-12eb31b2-59ce-430b-8a81-a10508992a81 button.colab-df-convert');\n",
              "        buttonEl.style.display =\n",
              "          google.colab.kernel.accessAllowed ? 'block' : 'none';\n",
              "\n",
              "        async function convertToInteractive(key) {\n",
              "          const element = document.querySelector('#df-12eb31b2-59ce-430b-8a81-a10508992a81');\n",
              "          const dataTable =\n",
              "            await google.colab.kernel.invokeFunction('convertToInteractive',\n",
              "                                                     [key], {});\n",
              "          if (!dataTable) return;\n",
              "\n",
              "          const docLinkHtml = 'Like what you see? Visit the ' +\n",
              "            '<a target=\"_blank\" href=https://colab.research.google.com/notebooks/data_table.ipynb>data table notebook</a>'\n",
              "            + ' to learn more about interactive tables.';\n",
              "          element.innerHTML = '';\n",
              "          dataTable['output_type'] = 'display_data';\n",
              "          await google.colab.output.renderOutput(dataTable, element);\n",
              "          const docLink = document.createElement('div');\n",
              "          docLink.innerHTML = docLinkHtml;\n",
              "          element.appendChild(docLink);\n",
              "        }\n",
              "      </script>\n",
              "    </div>\n",
              "  </div>\n",
              "  "
            ]
          },
          "metadata": {},
          "execution_count": 10
        }
      ]
    },
    {
      "cell_type": "code",
      "source": [
        "#appending file extension to id column for both training and testing dataframes\n",
        "# ต่อท้าย data ใน column 'id' ด้วย .png\n",
        "train_dataset['id'] = train_dataset['id'].apply(lambda x: str(x)+'.png') # ทำการเปลี่ยน type ใน column 'id' จาก int  เป็น string เพื่อให้สามารถต่อท้ายด้วย .png ได้ # ฟังก์ชันแลมบ์ดาเป็นฟังก์ชันที่ไม่ระบุตัวตนขนาดเล็ก\n",
        "validation_dataset['id'] = validation_dataset['id'].apply(lambda x: str(x)+'.png')\n",
        "test_dataset['Case ID'] = test_dataset['Case ID'].apply(lambda x: str(x)+'.png')\n",
        "\n",
        "train_dataset.head() # แสดงค่าของ train_df บางส่วน"
      ],
      "metadata": {
        "colab": {
          "base_uri": "https://localhost:8080/",
          "height": 206
        },
        "id": "i6JT22EDYolh",
        "outputId": "bec3be89-6260-41ed-b210-82882c12c7ca"
      },
      "execution_count": 11,
      "outputs": [
        {
          "output_type": "execute_result",
          "data": {
            "text/plain": [
              "         id  boneage   male\n",
              "0  1377.png      180  False\n",
              "1  1378.png       12  False\n",
              "2  1379.png       94  False\n",
              "3  1380.png      120   True\n",
              "4  1381.png       82  False"
            ],
            "text/html": [
              "\n",
              "  <div id=\"df-7da2bb3e-d9b3-42b2-9d3c-a63c751f8346\">\n",
              "    <div class=\"colab-df-container\">\n",
              "      <div>\n",
              "<style scoped>\n",
              "    .dataframe tbody tr th:only-of-type {\n",
              "        vertical-align: middle;\n",
              "    }\n",
              "\n",
              "    .dataframe tbody tr th {\n",
              "        vertical-align: top;\n",
              "    }\n",
              "\n",
              "    .dataframe thead th {\n",
              "        text-align: right;\n",
              "    }\n",
              "</style>\n",
              "<table border=\"1\" class=\"dataframe\">\n",
              "  <thead>\n",
              "    <tr style=\"text-align: right;\">\n",
              "      <th></th>\n",
              "      <th>id</th>\n",
              "      <th>boneage</th>\n",
              "      <th>male</th>\n",
              "    </tr>\n",
              "  </thead>\n",
              "  <tbody>\n",
              "    <tr>\n",
              "      <th>0</th>\n",
              "      <td>1377.png</td>\n",
              "      <td>180</td>\n",
              "      <td>False</td>\n",
              "    </tr>\n",
              "    <tr>\n",
              "      <th>1</th>\n",
              "      <td>1378.png</td>\n",
              "      <td>12</td>\n",
              "      <td>False</td>\n",
              "    </tr>\n",
              "    <tr>\n",
              "      <th>2</th>\n",
              "      <td>1379.png</td>\n",
              "      <td>94</td>\n",
              "      <td>False</td>\n",
              "    </tr>\n",
              "    <tr>\n",
              "      <th>3</th>\n",
              "      <td>1380.png</td>\n",
              "      <td>120</td>\n",
              "      <td>True</td>\n",
              "    </tr>\n",
              "    <tr>\n",
              "      <th>4</th>\n",
              "      <td>1381.png</td>\n",
              "      <td>82</td>\n",
              "      <td>False</td>\n",
              "    </tr>\n",
              "  </tbody>\n",
              "</table>\n",
              "</div>\n",
              "      <button class=\"colab-df-convert\" onclick=\"convertToInteractive('df-7da2bb3e-d9b3-42b2-9d3c-a63c751f8346')\"\n",
              "              title=\"Convert this dataframe to an interactive table.\"\n",
              "              style=\"display:none;\">\n",
              "        \n",
              "  <svg xmlns=\"http://www.w3.org/2000/svg\" height=\"24px\"viewBox=\"0 0 24 24\"\n",
              "       width=\"24px\">\n",
              "    <path d=\"M0 0h24v24H0V0z\" fill=\"none\"/>\n",
              "    <path d=\"M18.56 5.44l.94 2.06.94-2.06 2.06-.94-2.06-.94-.94-2.06-.94 2.06-2.06.94zm-11 1L8.5 8.5l.94-2.06 2.06-.94-2.06-.94L8.5 2.5l-.94 2.06-2.06.94zm10 10l.94 2.06.94-2.06 2.06-.94-2.06-.94-.94-2.06-.94 2.06-2.06.94z\"/><path d=\"M17.41 7.96l-1.37-1.37c-.4-.4-.92-.59-1.43-.59-.52 0-1.04.2-1.43.59L10.3 9.45l-7.72 7.72c-.78.78-.78 2.05 0 2.83L4 21.41c.39.39.9.59 1.41.59.51 0 1.02-.2 1.41-.59l7.78-7.78 2.81-2.81c.8-.78.8-2.07 0-2.86zM5.41 20L4 18.59l7.72-7.72 1.47 1.35L5.41 20z\"/>\n",
              "  </svg>\n",
              "      </button>\n",
              "      \n",
              "  <style>\n",
              "    .colab-df-container {\n",
              "      display:flex;\n",
              "      flex-wrap:wrap;\n",
              "      gap: 12px;\n",
              "    }\n",
              "\n",
              "    .colab-df-convert {\n",
              "      background-color: #E8F0FE;\n",
              "      border: none;\n",
              "      border-radius: 50%;\n",
              "      cursor: pointer;\n",
              "      display: none;\n",
              "      fill: #1967D2;\n",
              "      height: 32px;\n",
              "      padding: 0 0 0 0;\n",
              "      width: 32px;\n",
              "    }\n",
              "\n",
              "    .colab-df-convert:hover {\n",
              "      background-color: #E2EBFA;\n",
              "      box-shadow: 0px 1px 2px rgba(60, 64, 67, 0.3), 0px 1px 3px 1px rgba(60, 64, 67, 0.15);\n",
              "      fill: #174EA6;\n",
              "    }\n",
              "\n",
              "    [theme=dark] .colab-df-convert {\n",
              "      background-color: #3B4455;\n",
              "      fill: #D2E3FC;\n",
              "    }\n",
              "\n",
              "    [theme=dark] .colab-df-convert:hover {\n",
              "      background-color: #434B5C;\n",
              "      box-shadow: 0px 1px 3px 1px rgba(0, 0, 0, 0.15);\n",
              "      filter: drop-shadow(0px 1px 2px rgba(0, 0, 0, 0.3));\n",
              "      fill: #FFFFFF;\n",
              "    }\n",
              "  </style>\n",
              "\n",
              "      <script>\n",
              "        const buttonEl =\n",
              "          document.querySelector('#df-7da2bb3e-d9b3-42b2-9d3c-a63c751f8346 button.colab-df-convert');\n",
              "        buttonEl.style.display =\n",
              "          google.colab.kernel.accessAllowed ? 'block' : 'none';\n",
              "\n",
              "        async function convertToInteractive(key) {\n",
              "          const element = document.querySelector('#df-7da2bb3e-d9b3-42b2-9d3c-a63c751f8346');\n",
              "          const dataTable =\n",
              "            await google.colab.kernel.invokeFunction('convertToInteractive',\n",
              "                                                     [key], {});\n",
              "          if (!dataTable) return;\n",
              "\n",
              "          const docLinkHtml = 'Like what you see? Visit the ' +\n",
              "            '<a target=\"_blank\" href=https://colab.research.google.com/notebooks/data_table.ipynb>data table notebook</a>'\n",
              "            + ' to learn more about interactive tables.';\n",
              "          element.innerHTML = '';\n",
              "          dataTable['output_type'] = 'display_data';\n",
              "          await google.colab.output.renderOutput(dataTable, element);\n",
              "          const docLink = document.createElement('div');\n",
              "          docLink.innerHTML = docLinkHtml;\n",
              "          element.appendChild(docLink);\n",
              "        }\n",
              "      </script>\n",
              "    </div>\n",
              "  </div>\n",
              "  "
            ]
          },
          "metadata": {},
          "execution_count": 11
        }
      ]
    },
    {
      "cell_type": "code",
      "source": [
        "#finding out the number of male and female children in the dataset\n",
        "#creating a new column called gender to keep the gender of the child as a string\n",
        "train_dataset['gender'] = train_dataset['male'].apply(lambda x: 'male' if x else 'female') # ทำการเปลี่ยนค่าข้อมูล gender จาก true -> male, false -> female \n",
        "train_dataset['gender']"
      ],
      "metadata": {
        "colab": {
          "base_uri": "https://localhost:8080/"
        },
        "id": "urql8HqqYyqX",
        "outputId": "7afad8cc-5a5e-40e6-82be-639255a8d7e6"
      },
      "execution_count": 12,
      "outputs": [
        {
          "output_type": "execute_result",
          "data": {
            "text/plain": [
              "0        female\n",
              "1        female\n",
              "2        female\n",
              "3          male\n",
              "4        female\n",
              "          ...  \n",
              "10084    female\n",
              "10085    female\n",
              "10086    female\n",
              "10087    female\n",
              "10088    female\n",
              "Name: gender, Length: 10089, dtype: object"
            ]
          },
          "metadata": {},
          "execution_count": 12
        }
      ]
    },
    {
      "cell_type": "code",
      "source": [
        "validation_dataset['gender'] = validation_dataset['male'].apply(lambda x: 'male' if x else 'female') # ทำการเปลี่ยนค่าข้อมูล gender จาก true -> male, false -> female \n",
        "validation_dataset['gender']"
      ],
      "metadata": {
        "colab": {
          "base_uri": "https://localhost:8080/"
        },
        "id": "5GBe_iEFY_U-",
        "outputId": "9fafe21a-1862-435e-d17a-353f40d8ee24"
      },
      "execution_count": 13,
      "outputs": [
        {
          "output_type": "execute_result",
          "data": {
            "text/plain": [
              "0         male\n",
              "1       female\n",
              "2       female\n",
              "3       female\n",
              "4       female\n",
              "         ...  \n",
              "2517    female\n",
              "2518    female\n",
              "2519    female\n",
              "2520      male\n",
              "2521      male\n",
              "Name: gender, Length: 2522, dtype: object"
            ]
          },
          "metadata": {},
          "execution_count": 13
        }
      ]
    },
    {
      "cell_type": "code",
      "source": [
        "#mean age is # หาค่าเฉลี่ยอายุกระดูก\n",
        "mean_bone_age = train_dataset['boneage'].mean() \n",
        "print('mean: ' + str(mean_bone_age))"
      ],
      "metadata": {
        "colab": {
          "base_uri": "https://localhost:8080/"
        },
        "id": "C8vJf6wgZYi0",
        "outputId": "e661106e-49da-4722-99d7-2aea0bc5ca3b"
      },
      "execution_count": 14,
      "outputs": [
        {
          "output_type": "stream",
          "name": "stdout",
          "text": [
            "mean: 127.29467737139458\n"
          ]
        }
      ]
    },
    {
      "cell_type": "code",
      "source": [
        "#standard deviation of boneage # หาค่าส่วนเบี่ยงเบนมาตรฐานของอายุกระดูก\n",
        "std_bone_age = train_dataset['boneage'].std()\n",
        "std_bone_age"
      ],
      "metadata": {
        "colab": {
          "base_uri": "https://localhost:8080/"
        },
        "id": "makc0zEGZcwA",
        "outputId": "e1e06606-8c48-4a36-ca12-679bc67ff91b"
      },
      "execution_count": 15,
      "outputs": [
        {
          "output_type": "execute_result",
          "data": {
            "text/plain": [
              "41.230590949837755"
            ]
          },
          "metadata": {},
          "execution_count": 15
        }
      ]
    },
    {
      "cell_type": "code",
      "source": [
        "#models perform better when features are normalised to have zero mean and unity standard deviation\n",
        "#using z score for the training \n",
        "# ทำการหาค่า z-score \n",
        "train_dataset['bone_age_z'] = (train_dataset['boneage'] - mean_bone_age)/(std_bone_age)\n",
        "train_dataset"
      ],
      "metadata": {
        "colab": {
          "base_uri": "https://localhost:8080/",
          "height": 424
        },
        "id": "-Q9MhXDcZHCs",
        "outputId": "9866c192-5b4b-4a43-c195-92ae36d39890"
      },
      "execution_count": 45,
      "outputs": [
        {
          "output_type": "execute_result",
          "data": {
            "text/plain": [
              "              id  boneage   male  gender  bone_age_z\n",
              "0       1377.png      180  False  female    1.278306\n",
              "1       1378.png       12  False  female   -2.796338\n",
              "2       1379.png       94  False  female   -0.807524\n",
              "3       1380.png      120   True    male   -0.176924\n",
              "4       1381.png       82  False  female   -1.098570\n",
              "...          ...      ...    ...     ...         ...\n",
              "10084  13259.png       94  False  female   -0.807524\n",
              "10085  13261.png       94  False  female   -0.807524\n",
              "10086  13274.png       94  False  female   -0.807524\n",
              "10087  13286.png       94  False  female   -0.807524\n",
              "10088  13305.png      216  False  female    2.151444\n",
              "\n",
              "[10089 rows x 5 columns]"
            ],
            "text/html": [
              "\n",
              "  <div id=\"df-7feae394-b4c8-4b88-99d6-6f36979c29b3\">\n",
              "    <div class=\"colab-df-container\">\n",
              "      <div>\n",
              "<style scoped>\n",
              "    .dataframe tbody tr th:only-of-type {\n",
              "        vertical-align: middle;\n",
              "    }\n",
              "\n",
              "    .dataframe tbody tr th {\n",
              "        vertical-align: top;\n",
              "    }\n",
              "\n",
              "    .dataframe thead th {\n",
              "        text-align: right;\n",
              "    }\n",
              "</style>\n",
              "<table border=\"1\" class=\"dataframe\">\n",
              "  <thead>\n",
              "    <tr style=\"text-align: right;\">\n",
              "      <th></th>\n",
              "      <th>id</th>\n",
              "      <th>boneage</th>\n",
              "      <th>male</th>\n",
              "      <th>gender</th>\n",
              "      <th>bone_age_z</th>\n",
              "    </tr>\n",
              "  </thead>\n",
              "  <tbody>\n",
              "    <tr>\n",
              "      <th>0</th>\n",
              "      <td>1377.png</td>\n",
              "      <td>180</td>\n",
              "      <td>False</td>\n",
              "      <td>female</td>\n",
              "      <td>1.278306</td>\n",
              "    </tr>\n",
              "    <tr>\n",
              "      <th>1</th>\n",
              "      <td>1378.png</td>\n",
              "      <td>12</td>\n",
              "      <td>False</td>\n",
              "      <td>female</td>\n",
              "      <td>-2.796338</td>\n",
              "    </tr>\n",
              "    <tr>\n",
              "      <th>2</th>\n",
              "      <td>1379.png</td>\n",
              "      <td>94</td>\n",
              "      <td>False</td>\n",
              "      <td>female</td>\n",
              "      <td>-0.807524</td>\n",
              "    </tr>\n",
              "    <tr>\n",
              "      <th>3</th>\n",
              "      <td>1380.png</td>\n",
              "      <td>120</td>\n",
              "      <td>True</td>\n",
              "      <td>male</td>\n",
              "      <td>-0.176924</td>\n",
              "    </tr>\n",
              "    <tr>\n",
              "      <th>4</th>\n",
              "      <td>1381.png</td>\n",
              "      <td>82</td>\n",
              "      <td>False</td>\n",
              "      <td>female</td>\n",
              "      <td>-1.098570</td>\n",
              "    </tr>\n",
              "    <tr>\n",
              "      <th>...</th>\n",
              "      <td>...</td>\n",
              "      <td>...</td>\n",
              "      <td>...</td>\n",
              "      <td>...</td>\n",
              "      <td>...</td>\n",
              "    </tr>\n",
              "    <tr>\n",
              "      <th>10084</th>\n",
              "      <td>13259.png</td>\n",
              "      <td>94</td>\n",
              "      <td>False</td>\n",
              "      <td>female</td>\n",
              "      <td>-0.807524</td>\n",
              "    </tr>\n",
              "    <tr>\n",
              "      <th>10085</th>\n",
              "      <td>13261.png</td>\n",
              "      <td>94</td>\n",
              "      <td>False</td>\n",
              "      <td>female</td>\n",
              "      <td>-0.807524</td>\n",
              "    </tr>\n",
              "    <tr>\n",
              "      <th>10086</th>\n",
              "      <td>13274.png</td>\n",
              "      <td>94</td>\n",
              "      <td>False</td>\n",
              "      <td>female</td>\n",
              "      <td>-0.807524</td>\n",
              "    </tr>\n",
              "    <tr>\n",
              "      <th>10087</th>\n",
              "      <td>13286.png</td>\n",
              "      <td>94</td>\n",
              "      <td>False</td>\n",
              "      <td>female</td>\n",
              "      <td>-0.807524</td>\n",
              "    </tr>\n",
              "    <tr>\n",
              "      <th>10088</th>\n",
              "      <td>13305.png</td>\n",
              "      <td>216</td>\n",
              "      <td>False</td>\n",
              "      <td>female</td>\n",
              "      <td>2.151444</td>\n",
              "    </tr>\n",
              "  </tbody>\n",
              "</table>\n",
              "<p>10089 rows × 5 columns</p>\n",
              "</div>\n",
              "      <button class=\"colab-df-convert\" onclick=\"convertToInteractive('df-7feae394-b4c8-4b88-99d6-6f36979c29b3')\"\n",
              "              title=\"Convert this dataframe to an interactive table.\"\n",
              "              style=\"display:none;\">\n",
              "        \n",
              "  <svg xmlns=\"http://www.w3.org/2000/svg\" height=\"24px\"viewBox=\"0 0 24 24\"\n",
              "       width=\"24px\">\n",
              "    <path d=\"M0 0h24v24H0V0z\" fill=\"none\"/>\n",
              "    <path d=\"M18.56 5.44l.94 2.06.94-2.06 2.06-.94-2.06-.94-.94-2.06-.94 2.06-2.06.94zm-11 1L8.5 8.5l.94-2.06 2.06-.94-2.06-.94L8.5 2.5l-.94 2.06-2.06.94zm10 10l.94 2.06.94-2.06 2.06-.94-2.06-.94-.94-2.06-.94 2.06-2.06.94z\"/><path d=\"M17.41 7.96l-1.37-1.37c-.4-.4-.92-.59-1.43-.59-.52 0-1.04.2-1.43.59L10.3 9.45l-7.72 7.72c-.78.78-.78 2.05 0 2.83L4 21.41c.39.39.9.59 1.41.59.51 0 1.02-.2 1.41-.59l7.78-7.78 2.81-2.81c.8-.78.8-2.07 0-2.86zM5.41 20L4 18.59l7.72-7.72 1.47 1.35L5.41 20z\"/>\n",
              "  </svg>\n",
              "      </button>\n",
              "      \n",
              "  <style>\n",
              "    .colab-df-container {\n",
              "      display:flex;\n",
              "      flex-wrap:wrap;\n",
              "      gap: 12px;\n",
              "    }\n",
              "\n",
              "    .colab-df-convert {\n",
              "      background-color: #E8F0FE;\n",
              "      border: none;\n",
              "      border-radius: 50%;\n",
              "      cursor: pointer;\n",
              "      display: none;\n",
              "      fill: #1967D2;\n",
              "      height: 32px;\n",
              "      padding: 0 0 0 0;\n",
              "      width: 32px;\n",
              "    }\n",
              "\n",
              "    .colab-df-convert:hover {\n",
              "      background-color: #E2EBFA;\n",
              "      box-shadow: 0px 1px 2px rgba(60, 64, 67, 0.3), 0px 1px 3px 1px rgba(60, 64, 67, 0.15);\n",
              "      fill: #174EA6;\n",
              "    }\n",
              "\n",
              "    [theme=dark] .colab-df-convert {\n",
              "      background-color: #3B4455;\n",
              "      fill: #D2E3FC;\n",
              "    }\n",
              "\n",
              "    [theme=dark] .colab-df-convert:hover {\n",
              "      background-color: #434B5C;\n",
              "      box-shadow: 0px 1px 3px 1px rgba(0, 0, 0, 0.15);\n",
              "      filter: drop-shadow(0px 1px 2px rgba(0, 0, 0, 0.3));\n",
              "      fill: #FFFFFF;\n",
              "    }\n",
              "  </style>\n",
              "\n",
              "      <script>\n",
              "        const buttonEl =\n",
              "          document.querySelector('#df-7feae394-b4c8-4b88-99d6-6f36979c29b3 button.colab-df-convert');\n",
              "        buttonEl.style.display =\n",
              "          google.colab.kernel.accessAllowed ? 'block' : 'none';\n",
              "\n",
              "        async function convertToInteractive(key) {\n",
              "          const element = document.querySelector('#df-7feae394-b4c8-4b88-99d6-6f36979c29b3');\n",
              "          const dataTable =\n",
              "            await google.colab.kernel.invokeFunction('convertToInteractive',\n",
              "                                                     [key], {});\n",
              "          if (!dataTable) return;\n",
              "\n",
              "          const docLinkHtml = 'Like what you see? Visit the ' +\n",
              "            '<a target=\"_blank\" href=https://colab.research.google.com/notebooks/data_table.ipynb>data table notebook</a>'\n",
              "            + ' to learn more about interactive tables.';\n",
              "          element.innerHTML = '';\n",
              "          dataTable['output_type'] = 'display_data';\n",
              "          await google.colab.output.renderOutput(dataTable, element);\n",
              "          const docLink = document.createElement('div');\n",
              "          docLink.innerHTML = docLinkHtml;\n",
              "          element.appendChild(docLink);\n",
              "        }\n",
              "      </script>\n",
              "    </div>\n",
              "  </div>\n",
              "  "
            ]
          },
          "metadata": {},
          "execution_count": 45
        }
      ]
    },
    {
      "cell_type": "code",
      "source": [
        "import matplotlib.pyplot as plt # เป็น module พื้นฐานที่ใช้ในการสร้างกราฟของ python\n",
        "import matplotlib.image as mpimg #นำเข้า library ที่ใช้อ่านรูป"
      ],
      "metadata": {
        "id": "8CNl8-6Pyyxr"
      },
      "execution_count": 17,
      "outputs": []
    },
    {
      "cell_type": "code",
      "source": [
        "trian_imgs = os.path.join(path,'boneage-training-dataset') #เอาพาร์ทที่อยู่ในไฟล์มาเชื่อมกับColab\n",
        "print(trian_imgs)"
      ],
      "metadata": {
        "id": "HNttNjU0y3YF",
        "outputId": "7954c898-cedd-46fb-9bdf-a6da575cdf6c",
        "colab": {
          "base_uri": "https://localhost:8080/"
        }
      },
      "execution_count": 18,
      "outputs": [
        {
          "output_type": "stream",
          "name": "stdout",
          "text": [
            "/content/drive/My Drive/Project_Boneage/boneage-training-dataset\n"
          ]
        }
      ]
    },
    {
      "cell_type": "code",
      "source": [
        "validation_imgs = os.path.join(path,'boneage_validation_dataset') #เอาพาร์ทที่อยู่ในไฟล์มาเชื่อมกับColab\n",
        "print(validation_imgs)"
      ],
      "metadata": {
        "id": "58DIZhf40IGQ",
        "outputId": "452cb53b-c868-479a-cc2b-3e1131011381",
        "colab": {
          "base_uri": "https://localhost:8080/"
        }
      },
      "execution_count": 19,
      "outputs": [
        {
          "output_type": "stream",
          "name": "stdout",
          "text": [
            "/content/drive/My Drive/Project_Boneage/boneage_validation_dataset\n"
          ]
        }
      ]
    },
    {
      "cell_type": "code",
      "source": [
        "mean_boneage = validation_dataset['boneage'].mean() \n",
        "print('mean: ' + str(mean_boneage))"
      ],
      "metadata": {
        "colab": {
          "base_uri": "https://localhost:8080/"
        },
        "id": "NK1WEZnHZi4M",
        "outputId": "c2a4b320-81b1-499c-8e3a-d6af8a8ecb48"
      },
      "execution_count": 20,
      "outputs": [
        {
          "output_type": "stream",
          "name": "stdout",
          "text": [
            "mean: 127.42505947660587\n"
          ]
        }
      ]
    },
    {
      "cell_type": "code",
      "source": [
        "std_boneage = validation_dataset['boneage'].std()\n",
        "std_boneage"
      ],
      "metadata": {
        "colab": {
          "base_uri": "https://localhost:8080/"
        },
        "id": "LNOIG1UQZ1un",
        "outputId": "19d16acd-e822-497f-eb3e-e40c86037fce"
      },
      "execution_count": 21,
      "outputs": [
        {
          "output_type": "execute_result",
          "data": {
            "text/plain": [
              "40.99513006091403"
            ]
          },
          "metadata": {},
          "execution_count": 21
        }
      ]
    },
    {
      "cell_type": "code",
      "source": [
        "validation_dataset['bone_age_z'] = (validation_dataset['boneage'] - mean_boneage)/(std_boneage)\n",
        "validation_dataset"
      ],
      "metadata": {
        "colab": {
          "base_uri": "https://localhost:8080/",
          "height": 424
        },
        "id": "L2zw2QHaZ_z4",
        "outputId": "7ad745ce-8463-4a27-e577-dc7dd2944626"
      },
      "execution_count": 22,
      "outputs": [
        {
          "output_type": "execute_result",
          "data": {
            "text/plain": [
              "             id  boneage   male  gender  bone_age_z\n",
              "0     10186.png       10   True    male   -2.864366\n",
              "1     10758.png       15  False  female   -2.742400\n",
              "2     10860.png      180  False  female    1.282468\n",
              "3     10877.png      180  False  female    1.282468\n",
              "4     11008.png      180  False  female    1.282468\n",
              "...         ...      ...    ...     ...         ...\n",
              "2517  15605.png       50  False  female   -1.888640\n",
              "2518  15606.png      113  False  female   -0.351873\n",
              "2519  15608.png       55  False  female   -1.766675\n",
              "2520  15609.png      150   True    male    0.550674\n",
              "2521  15610.png      132   True    male    0.111597\n",
              "\n",
              "[2522 rows x 5 columns]"
            ],
            "text/html": [
              "\n",
              "  <div id=\"df-4d106cf8-2426-4a13-9918-cfe10717e829\">\n",
              "    <div class=\"colab-df-container\">\n",
              "      <div>\n",
              "<style scoped>\n",
              "    .dataframe tbody tr th:only-of-type {\n",
              "        vertical-align: middle;\n",
              "    }\n",
              "\n",
              "    .dataframe tbody tr th {\n",
              "        vertical-align: top;\n",
              "    }\n",
              "\n",
              "    .dataframe thead th {\n",
              "        text-align: right;\n",
              "    }\n",
              "</style>\n",
              "<table border=\"1\" class=\"dataframe\">\n",
              "  <thead>\n",
              "    <tr style=\"text-align: right;\">\n",
              "      <th></th>\n",
              "      <th>id</th>\n",
              "      <th>boneage</th>\n",
              "      <th>male</th>\n",
              "      <th>gender</th>\n",
              "      <th>bone_age_z</th>\n",
              "    </tr>\n",
              "  </thead>\n",
              "  <tbody>\n",
              "    <tr>\n",
              "      <th>0</th>\n",
              "      <td>10186.png</td>\n",
              "      <td>10</td>\n",
              "      <td>True</td>\n",
              "      <td>male</td>\n",
              "      <td>-2.864366</td>\n",
              "    </tr>\n",
              "    <tr>\n",
              "      <th>1</th>\n",
              "      <td>10758.png</td>\n",
              "      <td>15</td>\n",
              "      <td>False</td>\n",
              "      <td>female</td>\n",
              "      <td>-2.742400</td>\n",
              "    </tr>\n",
              "    <tr>\n",
              "      <th>2</th>\n",
              "      <td>10860.png</td>\n",
              "      <td>180</td>\n",
              "      <td>False</td>\n",
              "      <td>female</td>\n",
              "      <td>1.282468</td>\n",
              "    </tr>\n",
              "    <tr>\n",
              "      <th>3</th>\n",
              "      <td>10877.png</td>\n",
              "      <td>180</td>\n",
              "      <td>False</td>\n",
              "      <td>female</td>\n",
              "      <td>1.282468</td>\n",
              "    </tr>\n",
              "    <tr>\n",
              "      <th>4</th>\n",
              "      <td>11008.png</td>\n",
              "      <td>180</td>\n",
              "      <td>False</td>\n",
              "      <td>female</td>\n",
              "      <td>1.282468</td>\n",
              "    </tr>\n",
              "    <tr>\n",
              "      <th>...</th>\n",
              "      <td>...</td>\n",
              "      <td>...</td>\n",
              "      <td>...</td>\n",
              "      <td>...</td>\n",
              "      <td>...</td>\n",
              "    </tr>\n",
              "    <tr>\n",
              "      <th>2517</th>\n",
              "      <td>15605.png</td>\n",
              "      <td>50</td>\n",
              "      <td>False</td>\n",
              "      <td>female</td>\n",
              "      <td>-1.888640</td>\n",
              "    </tr>\n",
              "    <tr>\n",
              "      <th>2518</th>\n",
              "      <td>15606.png</td>\n",
              "      <td>113</td>\n",
              "      <td>False</td>\n",
              "      <td>female</td>\n",
              "      <td>-0.351873</td>\n",
              "    </tr>\n",
              "    <tr>\n",
              "      <th>2519</th>\n",
              "      <td>15608.png</td>\n",
              "      <td>55</td>\n",
              "      <td>False</td>\n",
              "      <td>female</td>\n",
              "      <td>-1.766675</td>\n",
              "    </tr>\n",
              "    <tr>\n",
              "      <th>2520</th>\n",
              "      <td>15609.png</td>\n",
              "      <td>150</td>\n",
              "      <td>True</td>\n",
              "      <td>male</td>\n",
              "      <td>0.550674</td>\n",
              "    </tr>\n",
              "    <tr>\n",
              "      <th>2521</th>\n",
              "      <td>15610.png</td>\n",
              "      <td>132</td>\n",
              "      <td>True</td>\n",
              "      <td>male</td>\n",
              "      <td>0.111597</td>\n",
              "    </tr>\n",
              "  </tbody>\n",
              "</table>\n",
              "<p>2522 rows × 5 columns</p>\n",
              "</div>\n",
              "      <button class=\"colab-df-convert\" onclick=\"convertToInteractive('df-4d106cf8-2426-4a13-9918-cfe10717e829')\"\n",
              "              title=\"Convert this dataframe to an interactive table.\"\n",
              "              style=\"display:none;\">\n",
              "        \n",
              "  <svg xmlns=\"http://www.w3.org/2000/svg\" height=\"24px\"viewBox=\"0 0 24 24\"\n",
              "       width=\"24px\">\n",
              "    <path d=\"M0 0h24v24H0V0z\" fill=\"none\"/>\n",
              "    <path d=\"M18.56 5.44l.94 2.06.94-2.06 2.06-.94-2.06-.94-.94-2.06-.94 2.06-2.06.94zm-11 1L8.5 8.5l.94-2.06 2.06-.94-2.06-.94L8.5 2.5l-.94 2.06-2.06.94zm10 10l.94 2.06.94-2.06 2.06-.94-2.06-.94-.94-2.06-.94 2.06-2.06.94z\"/><path d=\"M17.41 7.96l-1.37-1.37c-.4-.4-.92-.59-1.43-.59-.52 0-1.04.2-1.43.59L10.3 9.45l-7.72 7.72c-.78.78-.78 2.05 0 2.83L4 21.41c.39.39.9.59 1.41.59.51 0 1.02-.2 1.41-.59l7.78-7.78 2.81-2.81c.8-.78.8-2.07 0-2.86zM5.41 20L4 18.59l7.72-7.72 1.47 1.35L5.41 20z\"/>\n",
              "  </svg>\n",
              "      </button>\n",
              "      \n",
              "  <style>\n",
              "    .colab-df-container {\n",
              "      display:flex;\n",
              "      flex-wrap:wrap;\n",
              "      gap: 12px;\n",
              "    }\n",
              "\n",
              "    .colab-df-convert {\n",
              "      background-color: #E8F0FE;\n",
              "      border: none;\n",
              "      border-radius: 50%;\n",
              "      cursor: pointer;\n",
              "      display: none;\n",
              "      fill: #1967D2;\n",
              "      height: 32px;\n",
              "      padding: 0 0 0 0;\n",
              "      width: 32px;\n",
              "    }\n",
              "\n",
              "    .colab-df-convert:hover {\n",
              "      background-color: #E2EBFA;\n",
              "      box-shadow: 0px 1px 2px rgba(60, 64, 67, 0.3), 0px 1px 3px 1px rgba(60, 64, 67, 0.15);\n",
              "      fill: #174EA6;\n",
              "    }\n",
              "\n",
              "    [theme=dark] .colab-df-convert {\n",
              "      background-color: #3B4455;\n",
              "      fill: #D2E3FC;\n",
              "    }\n",
              "\n",
              "    [theme=dark] .colab-df-convert:hover {\n",
              "      background-color: #434B5C;\n",
              "      box-shadow: 0px 1px 3px 1px rgba(0, 0, 0, 0.15);\n",
              "      filter: drop-shadow(0px 1px 2px rgba(0, 0, 0, 0.3));\n",
              "      fill: #FFFFFF;\n",
              "    }\n",
              "  </style>\n",
              "\n",
              "      <script>\n",
              "        const buttonEl =\n",
              "          document.querySelector('#df-4d106cf8-2426-4a13-9918-cfe10717e829 button.colab-df-convert');\n",
              "        buttonEl.style.display =\n",
              "          google.colab.kernel.accessAllowed ? 'block' : 'none';\n",
              "\n",
              "        async function convertToInteractive(key) {\n",
              "          const element = document.querySelector('#df-4d106cf8-2426-4a13-9918-cfe10717e829');\n",
              "          const dataTable =\n",
              "            await google.colab.kernel.invokeFunction('convertToInteractive',\n",
              "                                                     [key], {});\n",
              "          if (!dataTable) return;\n",
              "\n",
              "          const docLinkHtml = 'Like what you see? Visit the ' +\n",
              "            '<a target=\"_blank\" href=https://colab.research.google.com/notebooks/data_table.ipynb>data table notebook</a>'\n",
              "            + ' to learn more about interactive tables.';\n",
              "          element.innerHTML = '';\n",
              "          dataTable['output_type'] = 'display_data';\n",
              "          await google.colab.output.renderOutput(dataTable, element);\n",
              "          const docLink = document.createElement('div');\n",
              "          docLink.innerHTML = docLinkHtml;\n",
              "          element.appendChild(docLink);\n",
              "        }\n",
              "      </script>\n",
              "    </div>\n",
              "  </div>\n",
              "  "
            ]
          },
          "metadata": {},
          "execution_count": 22
        }
      ]
    },
    {
      "cell_type": "code",
      "source": [
        "#library required for image preprocessing \n",
        "from tensorflow.keras.preprocessing.image import ImageDataGenerator \n",
        "from  keras.applications.inception_v3 import preprocess_input "
      ],
      "metadata": {
        "id": "CoNKp43qahhh"
      },
      "execution_count": 23,
      "outputs": []
    },
    {
      "cell_type": "code",
      "source": [
        "#reducing down the size of the image \n",
        "img_size = 500 # ลดขนาดรูปภาพ"
      ],
      "metadata": {
        "id": "C-IfvdjTau9d"
      },
      "execution_count": 24,
      "outputs": []
    },
    {
      "cell_type": "code",
      "source": [
        "train_data_generator = ImageDataGenerator(preprocessing_function = preprocess_input)\n",
        "val_data_generator = ImageDataGenerator(preprocessing_function = preprocess_input)"
      ],
      "metadata": {
        "id": "8_nAViZKauxk"
      },
      "execution_count": 25,
      "outputs": []
    },
    {
      "cell_type": "code",
      "source": [
        "#train data generator\n",
        "train_generator = train_data_generator.flow_from_dataframe(\n",
        "    dataframe = train_dataset,\n",
        "    directory = (os.path.join(path,'boneage_training_dataset/')),\n",
        "    x_col= 'id',\n",
        "    y_col= 'bone_age_z',\n",
        "    class_mode= 'raw',\n",
        "    start_epoch=0,\n",
        "    num_epochs=60,\n",
        "    lr=0.0001,\n",
        "    patience=2,\n",
        "    batch_size=20,\n",
        "    num_workers=0,\n",
        "    num_gpus=1,\n",
        "    gpus=0,\n",
        "    target_size = (img_size, img_size))"
      ],
      "metadata": {
        "colab": {
          "base_uri": "https://localhost:8080/"
        },
        "id": "ikjI2jRNa8uG",
        "outputId": "b78ae4dd-0ae1-40db-82e8-ba73aa6e0bfe"
      },
      "execution_count": 26,
      "outputs": [
        {
          "output_type": "stream",
          "name": "stdout",
          "text": [
            "Found 10089 validated image filenames.\n"
          ]
        }
      ]
    },
    {
      "cell_type": "code",
      "source": [
        "#validation data generator\n",
        "val_generator = val_data_generator.flow_from_dataframe(\n",
        "    dataframe = validation_dataset,\n",
        "    directory = (os.path.join(path,'boneage_validation_dataset/')),\n",
        "    x_col = 'id',\n",
        "    y_col = 'bone_age_z',\n",
        "    class_mode = 'raw',\n",
        "    start_epoch=0,\n",
        "    num_epochs=60,\n",
        "    lr=0.0001,\n",
        "    patience=2,\n",
        "    batch_size=20,\n",
        "    num_workers=0,\n",
        "    num_gpus=1,\n",
        "    gpus=0,\n",
        "    target_size = (img_size, img_size))"
      ],
      "metadata": {
        "colab": {
          "base_uri": "https://localhost:8080/"
        },
        "id": "Q3ENgiY0a8q2",
        "outputId": "abbf471f-c874-4af3-f4e2-812f209dc62a"
      },
      "execution_count": 27,
      "outputs": [
        {
          "output_type": "stream",
          "name": "stdout",
          "text": [
            "Found 2522 validated image filenames.\n"
          ]
        }
      ]
    },
    {
      "cell_type": "code",
      "source": [
        "#test data generator\n",
        "test_data_generator = ImageDataGenerator(preprocessing_function = preprocess_input)\n",
        "test_generator = test_data_generator.flow_from_directory(\n",
        "    directory = (os.path.join(path,'boneage-test-dataset/')),\n",
        "    target_size = (img_size,img_size),\n",
        "    class_mode = 'binary',classes=['.'])"
      ],
      "metadata": {
        "colab": {
          "base_uri": "https://localhost:8080/"
        },
        "id": "w7VjgK2oa8m2",
        "outputId": "e2742dcb-ab18-4d4d-9743-b110f03afef8"
      },
      "execution_count": 28,
      "outputs": [
        {
          "output_type": "stream",
          "name": "stdout",
          "text": [
            "Found 200 images belonging to 1 classes.\n"
          ]
        }
      ]
    },
    {
      "cell_type": "code",
      "source": [
        "import re\n",
        "import torch\n",
        "import torch.nn as nn\n",
        "import torch.optim as optim\n",
        "import torch.nn.functional as F\n",
        "import torch.utils.checkpoint as cp\n",
        "from collections import OrderedDict\n",
        "import torch.utils.model_zoo as model_zoo\n",
        "from torch.utils.model_zoo import load_url as load_state_dict_from_url"
      ],
      "metadata": {
        "id": "Csu9yfESs2dg"
      },
      "execution_count": 29,
      "outputs": []
    },
    {
      "cell_type": "code",
      "source": [
        "class BoNet(nn.Module):\n",
        "\n",
        "    def __init__(self, num_class = 1):\n",
        "        super(BoNet, self).__init__()\n",
        "        \n",
        "        # Backbone\n",
        "        self.inception_v3 = InceptionV3()\n",
        "\n",
        "        # Gender\n",
        "        self.gender = DenseLayer(1, 32)\n",
        "        self.fc_1 = DenseLayer(100384, 1000)\n",
        "        self.fc_2 = DenseLayer(1000, 1000)\n",
        "        self.fc_3 = nn.Linear(1000, 1)\n",
        "\n",
        "    def forward(self, x_col, y_col):\n",
        "        x = self.inception_v3(x_col)\n",
        "        y = self.gender(y_col)\n",
        "        x = self.fc_1(torch.cat([x_col, y_col], 1))\n",
        "        x = self.fc_2(x_col)\n",
        "        x = self.fc_3(x_col)\n",
        "        return x"
      ],
      "metadata": {
        "id": "jYsZiLFveKo_"
      },
      "execution_count": 30,
      "outputs": []
    },
    {
      "cell_type": "code",
      "source": [
        "class DenseLayer(nn.Module):\n",
        "\n",
        "    def __init__(self, in_channels, out_channels):\n",
        "        super(DenseLayer, self).__init__()\n",
        "        self.linear = nn.Linear(in_channels, out_channels)\n",
        "\n",
        "    def forward(self, x):\n",
        "        x = self.linear(x)\n",
        "        return F.relu(x, inplace=True)"
      ],
      "metadata": {
        "id": "-jZ1-Foue82t"
      },
      "execution_count": 31,
      "outputs": []
    },
    {
      "cell_type": "code",
      "source": [
        "import Bonet\n",
        "from Bonet.models.bonet import BoNet"
      ],
      "metadata": {
        "id": "nmkYyYyC2E3F"
      },
      "execution_count": 32,
      "outputs": []
    },
    {
      "cell_type": "code",
      "source": [
        "num_classes = 1"
      ],
      "metadata": {
        "id": "-4OjMnjl2lug"
      },
      "execution_count": 33,
      "outputs": []
    },
    {
      "cell_type": "code",
      "source": [
        "model = BoNet(num_classes) "
      ],
      "metadata": {
        "id": "bnK1dwLp2h1e"
      },
      "execution_count": 34,
      "outputs": []
    },
    {
      "cell_type": "code",
      "source": [
        "net = BoNet()"
      ],
      "metadata": {
        "id": "_5CMPIbu8i0M"
      },
      "execution_count": 35,
      "outputs": []
    },
    {
      "cell_type": "code",
      "source": [
        "# Set Loss function with criterion\n",
        "criterion = nn.L1Loss()"
      ],
      "metadata": {
        "id": "c43up4GA7Vqh"
      },
      "execution_count": 36,
      "outputs": []
    },
    {
      "cell_type": "code",
      "source": [
        "# Set optimizer with optimizer\n",
        "optimizer = optim.Adam(net.parameters(), lr = 0.0001 * 500 )\n",
        "annealing = optim.lr_scheduler.ReduceLROnPlateau(\n",
        "    optimizer, factor=0.8, patience= 2, cooldown=5,\n",
        "    min_lr=0.00001, eps=0.00001, verbose=True)"
      ],
      "metadata": {
        "id": "9ppdL28Rhxk4"
      },
      "execution_count": 37,
      "outputs": []
    },
    {
      "cell_type": "code",
      "source": [
        "import time"
      ],
      "metadata": {
        "id": "HkgCV7eYDCLG"
      },
      "execution_count": 39,
      "outputs": []
    },
    {
      "cell_type": "code",
      "source": [
        "start_epoch = 0\n",
        "epoch = 60\n",
        "distributed = []\n",
        "rank = 0"
      ],
      "metadata": {
        "id": "rFnO99LY8xlJ"
      },
      "execution_count": 40,
      "outputs": []
    },
    {
      "cell_type": "code",
      "source": [
        "def main():\n",
        "    print('Train begins...')\n",
        "    best_val_loss = None\n",
        "    # Find best model in validation\n",
        "    if osp.exists(osp.join(save_folder, 'train.csv')):\n",
        "        with open(osp.join(save_folder, 'train.csv')) as csv_file:\n",
        "            csv_reader = csv.reader(csv_file, delimiter=',')\n",
        "            val_list = []\n",
        "            for row in csv_reader:\n",
        "                val_list.append(float(row[2]))\n",
        "            best_val_loss = min(val_list)\n",
        "    if eval_first:\n",
        "        val_loss = evaluate()\n",
        "    try:\n",
        "        out_file = open(os.path.join(save_folder, 'train.csv'), 'a+')\n",
        "        \n",
        "        for epoch in range(start_epoch, epoch + 1):\n",
        "            if distributed:\n",
        "                train_dataset.set_epoch(epoch)\n",
        "                validation_dataset.set_epoch(epoch)\n",
        "            if rank == 0:\n",
        "                epoch_start_time = time.time()\n",
        "            train_loss = train_dataset(epoch)\n",
        "            annealing.step(train_loss)\n",
        "            val_loss = evaluate()\n",
        "            if rank == 0:\n",
        "                print('-' * 89)\n",
        "                print('| end of epoch {:3d} | time: {:5.2f}s '\n",
        "                      '| epoch loss {:.6f} |'.format(\n",
        "                          epoch, time.time() - epoch_start_time, train_loss))\n",
        "                print('-' * 89)\n",
        "                out_file.write('{}, {}, {}\\n'.format(epoch, train_loss, val_loss))\n",
        "                out_file.flush()\n",
        "\n",
        "                if best_val_loss is None or val_loss > best_val_loss and rank == 0:\n",
        "                    best_val_loss = val_loss\n",
        "                    filename = osp.join(save_folder, 'boneage_bonet_weights.pth')\n",
        "                    torch.save(net.state_dict(), filename)\n",
        "        out_file.close()\n",
        "    except KeyboardInterrupt:\n",
        "        print('-' * 89)\n",
        "        print('Exiting from training early')"
      ],
      "metadata": {
        "id": "ASGoQOYSw1yx"
      },
      "execution_count": 51,
      "outputs": []
    },
    {
      "cell_type": "code",
      "source": [
        "def train(epoch):\n",
        "    net.train()\n",
        "    total_loss = AverageMeter()\n",
        "    epoch_loss_stats = AverageMeter()\n",
        "    time_stats = AverageMeter()\n",
        "    loss = 0\n",
        "    optimizer.zero_grad()\n",
        "    for (batch_idx, (train_imgs, bone_age, gender, _)) in enumerate(train_dataset):\n",
        "        imgs = train_imgs.to(device)\n",
        "        bone_ages = bone_age.to(device)\n",
        "        genders = gender.to(device)\n",
        "\n",
        "        start_time = time.time()\n",
        "        outputs = net(train_imgs, gender)\n",
        "        loss = criterion(outputs.squeeze(), bone_age)\n",
        "        loss.backward()\n",
        "        optimizer.step()\n",
        "\n",
        "        loss = metric_average(loss.item(), 'loss')\n",
        "\n",
        "        time_stats.update(time.time() - start_time, 1)\n",
        "        total_loss.update(loss, 1)\n",
        "        epoch_loss_stats.update(loss, 1)\n",
        "        optimizer.zero_grad()\n",
        "\n",
        "        if (batch_idx % log_interval == 0) and rank == 0:\n",
        "            elapsed_time = time_stats.avg\n",
        "            print(' [{:5d}] ({:5d}/{:5d}) | ms/batch {:.4f} |'\n",
        "                  ' loss {:.6f} | avg loss {:.6f} | lr {:.7f}'.format(\n",
        "                      epoch, batch_idx, len(train_loader),\n",
        "                      elapsed_time * 1000, total_loss.avg,\n",
        "                      epoch_loss_stats.avg,\n",
        "                      optimizer.param_groups[0]['lr']))\n",
        "            total_loss.reset()\n",
        "\n",
        "    epoch_total_loss = epoch_loss_stats.avg\n",
        "    args.resume_iter = 0\n",
        "\n",
        "    if args.rank == 0:\n",
        "        filename = 'boneage_bonet_snapshot.pth'\n",
        "        filename = osp.join(args.save_folder, filename)\n",
        "        torch.save(net.state_dict(), filename)\n",
        "\n",
        "        optim_filename = 'boneage_bonet_optim.pth'\n",
        "        optim_filename = osp.join(args.save_folder, optim_filename)\n",
        "        torch.save(optimizer.state_dict(), optim_filename)\n",
        "\n",
        "    return epoch_total_loss"
      ],
      "metadata": {
        "id": "mVkedSLyG-6D"
      },
      "execution_count": 58,
      "outputs": []
    },
    {
      "cell_type": "code",
      "source": [
        "def evaluate():\n",
        "    net.eval()\n",
        "    epoch_total_loss = AverageMeter()\n",
        "    for (batch_idx, (validation_imgs, bone_age, gender, _)) in enumerate(validation_dataset):\n",
        "        imgs = validation_imgs.to(device)\n",
        "        bone_ages = bone_age.to(device)\n",
        "        genders = gender.to(device)\n",
        "\n",
        "        with torch.no_grad():\n",
        "            outputs = net(validation_imgs, gender)\n",
        "        loss = criterion(outputs.squeeze(), bone_age)\n",
        "        loss = metric_average(loss.item(), 'loss')\n",
        "        epoch_total_loss.update(loss, 1)\n",
        "\n",
        "    epoch_total_loss = epoch_total_loss.avg\n",
        "\n",
        "    if rank == 0:\n",
        "        print('Val loss: {:.5f}'.format(epoch_total_loss))\n",
        "\n",
        "    return epoch_total_loss\n"
      ],
      "metadata": {
        "id": "OCr54nWXHj-1"
      },
      "execution_count": 59,
      "outputs": []
    },
    {
      "cell_type": "code",
      "source": [
        "def metric_average(val, name):\n",
        "    tensor = torch.tensor(val)\n",
        "    avg_tensor = hvd.allreduce(tensor, name=name)\n",
        "    return avg_tensor.item()"
      ],
      "metadata": {
        "id": "tLrtY3-UHu7M"
      },
      "execution_count": 60,
      "outputs": []
    },
    {
      "cell_type": "code",
      "source": [
        "class AverageMeter(object):\n",
        "    \"\"\"Computes and stores the average and current value\"\"\"\n",
        "\n",
        "    def __init__(self):\n",
        "        self.reset()\n",
        "\n",
        "    def reset(self):\n",
        "        self.val = 0\n",
        "        self.avg = 0\n",
        "        self.sum = 0\n",
        "        self.count = 0\n",
        "\n",
        "    def update(self, val, n=1):\n",
        "        self.val = val\n",
        "        self.sum += val * n\n",
        "        self.count += n\n",
        "        self.avg = self.sum / self.count"
      ],
      "metadata": {
        "id": "cb2y7xp5HzVF"
      },
      "execution_count": 61,
      "outputs": []
    },
    {
      "cell_type": "code",
      "source": [],
      "metadata": {
        "id": "NAZz1ysGKH7C"
      },
      "execution_count": null,
      "outputs": []
    }
  ]
}